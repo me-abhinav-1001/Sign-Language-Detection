{
 "cells": [
  {
   "attachments": {},
   "cell_type": "markdown",
   "metadata": {
    "id": "lveoILVJmhOv"
   },
   "source": [
    "# **1. Import and Install Dependencies**"
   ]
  },
  {
   "cell_type": "code",
   "execution_count": 2,
   "metadata": {
    "colab": {
     "base_uri": "https://localhost:8080/"
    },
    "id": "T6bi-nf1lpDh",
    "outputId": "f7e37629-ccbb-4e65-c362-a862b1e7a96b"
   },
   "outputs": [
    {
     "name": "stdout",
     "output_type": "stream",
     "text": [
      "Requirement already satisfied: tensorflow==2.8.1 in c:\\users\\abhinav anand\\appdata\\roaming\\python\\python37\\site-packages (2.8.1)\n",
      "Requirement already satisfied: tensorflow-gpu==2.8.1 in c:\\users\\abhinav anand\\appdata\\roaming\\python\\python37\\site-packages (2.8.1)\n",
      "Requirement already satisfied: opencv-python in c:\\users\\abhinav anand\\miniconda3\\lib\\site-packages (4.7.0.72)\n",
      "Requirement already satisfied: mediapipe in c:\\users\\abhinav anand\\appdata\\roaming\\python\\python37\\site-packages (0.9.0.1)\n",
      "Requirement already satisfied: scikit-learn in c:\\users\\abhinav anand\\miniconda3\\lib\\site-packages (1.0.1)\n",
      "Requirement already satisfied: matplotlib in c:\\users\\abhinav anand\\miniconda3\\lib\\site-packages (3.5.3)\n",
      "Requirement already satisfied: absl-py>=0.4.0 in c:\\users\\abhinav anand\\miniconda3\\lib\\site-packages (from tensorflow==2.8.1) (1.3.0)\n",
      "Requirement already satisfied: astunparse>=1.6.0 in c:\\users\\abhinav anand\\appdata\\roaming\\python\\python37\\site-packages (from tensorflow==2.8.1) (1.6.3)\n",
      "Requirement already satisfied: flatbuffers>=1.12 in c:\\users\\abhinav anand\\miniconda3\\lib\\site-packages (from tensorflow==2.8.1) (23.3.3)\n",
      "Requirement already satisfied: gast>=0.2.1 in c:\\users\\abhinav anand\\miniconda3\\lib\\site-packages (from tensorflow==2.8.1) (0.5.3)\n",
      "Requirement already satisfied: google-pasta>=0.1.1 in c:\\users\\abhinav anand\\miniconda3\\lib\\site-packages (from tensorflow==2.8.1) (0.2.0)\n",
      "Requirement already satisfied: h5py>=2.9.0 in c:\\users\\abhinav anand\\miniconda3\\lib\\site-packages (from tensorflow==2.8.1) (2.10.0)\n",
      "Requirement already satisfied: keras-preprocessing>=1.1.1 in c:\\users\\abhinav anand\\miniconda3\\lib\\site-packages (from tensorflow==2.8.1) (1.1.2)\n",
      "Requirement already satisfied: libclang>=9.0.1 in c:\\users\\abhinav anand\\miniconda3\\lib\\site-packages (from tensorflow==2.8.1) (16.0.0)\n",
      "Requirement already satisfied: numpy>=1.20 in c:\\users\\abhinav anand\\miniconda3\\lib\\site-packages (from tensorflow==2.8.1) (1.21.6)\n",
      "Requirement already satisfied: opt-einsum>=2.3.2 in c:\\users\\abhinav anand\\miniconda3\\lib\\site-packages (from tensorflow==2.8.1) (3.3.0)\n",
      "Requirement already satisfied: protobuf>=3.9.2 in c:\\users\\abhinav anand\\miniconda3\\lib\\site-packages (from tensorflow==2.8.1) (3.20.3)\n",
      "Requirement already satisfied: setuptools in c:\\users\\abhinav anand\\appdata\\roaming\\python\\python37\\site-packages (from tensorflow==2.8.1) (67.7.2)\n",
      "Requirement already satisfied: six>=1.12.0 in c:\\users\\abhinav anand\\miniconda3\\lib\\site-packages (from tensorflow==2.8.1) (1.16.0)\n",
      "Requirement already satisfied: termcolor>=1.1.0 in c:\\users\\abhinav anand\\miniconda3\\lib\\site-packages (from tensorflow==2.8.1) (2.1.0)\n",
      "Requirement already satisfied: typing-extensions>=3.6.6 in c:\\users\\abhinav anand\\appdata\\roaming\\python\\python37\\site-packages (from tensorflow==2.8.1) (4.5.0)\n",
      "Requirement already satisfied: wrapt>=1.11.0 in c:\\users\\abhinav anand\\miniconda3\\lib\\site-packages (from tensorflow==2.8.1) (1.14.1)\n",
      "Requirement already satisfied: tensorboard<2.9,>=2.8 in c:\\users\\abhinav anand\\appdata\\roaming\\python\\python37\\site-packages (from tensorflow==2.8.1) (2.8.0)\n",
      "Requirement already satisfied: tensorflow-estimator<2.9,>=2.8 in c:\\users\\abhinav anand\\miniconda3\\lib\\site-packages (from tensorflow==2.8.1) (2.8.0)\n",
      "Requirement already satisfied: keras<2.9,>=2.8.0rc0 in c:\\users\\abhinav anand\\miniconda3\\lib\\site-packages (from tensorflow==2.8.1) (2.8.0)\n",
      "Requirement already satisfied: tensorflow-io-gcs-filesystem>=0.23.1 in c:\\users\\abhinav anand\\miniconda3\\lib\\site-packages (from tensorflow==2.8.1) (0.31.0)\n",
      "Requirement already satisfied: grpcio<2.0,>=1.24.3 in c:\\users\\abhinav anand\\miniconda3\\lib\\site-packages (from tensorflow==2.8.1) (1.42.0)\n",
      "Requirement already satisfied: attrs>=19.1.0 in c:\\users\\abhinav anand\\miniconda3\\lib\\site-packages (from mediapipe) (22.1.0)\n",
      "Requirement already satisfied: opencv-contrib-python in c:\\users\\abhinav anand\\appdata\\roaming\\python\\python37\\site-packages (from mediapipe) (4.7.0.72)\n",
      "Requirement already satisfied: scipy>=1.1.0 in c:\\users\\abhinav anand\\miniconda3\\lib\\site-packages (from scikit-learn) (1.7.3)\n",
      "Requirement already satisfied: joblib>=0.11 in c:\\users\\abhinav anand\\miniconda3\\lib\\site-packages (from scikit-learn) (1.1.1)\n",
      "Requirement already satisfied: threadpoolctl>=2.0.0 in c:\\users\\abhinav anand\\miniconda3\\lib\\site-packages (from scikit-learn) (2.2.0)\n",
      "Requirement already satisfied: cycler>=0.10 in c:\\users\\abhinav anand\\miniconda3\\lib\\site-packages (from matplotlib) (0.11.0)\n",
      "Requirement already satisfied: fonttools>=4.22.0 in c:\\users\\abhinav anand\\miniconda3\\lib\\site-packages (from matplotlib) (4.25.0)\n",
      "Requirement already satisfied: kiwisolver>=1.0.1 in c:\\users\\abhinav anand\\miniconda3\\lib\\site-packages (from matplotlib) (1.4.4)\n",
      "Requirement already satisfied: packaging>=20.0 in c:\\users\\abhinav anand\\miniconda3\\lib\\site-packages (from matplotlib) (22.0)\n",
      "Requirement already satisfied: pillow>=6.2.0 in c:\\users\\abhinav anand\\miniconda3\\lib\\site-packages (from matplotlib) (9.4.0)\n",
      "Requirement already satisfied: pyparsing>=2.2.1 in c:\\users\\abhinav anand\\miniconda3\\lib\\site-packages (from matplotlib) (3.0.9)\n",
      "Requirement already satisfied: python-dateutil>=2.7 in c:\\users\\abhinav anand\\miniconda3\\lib\\site-packages (from matplotlib) (2.8.2)\n",
      "Requirement already satisfied: wheel<1.0,>=0.23.0 in c:\\users\\abhinav anand\\miniconda3\\lib\\site-packages (from astunparse>=1.6.0->tensorflow==2.8.1) (0.38.4)\n",
      "Requirement already satisfied: google-auth<3,>=1.6.3 in c:\\users\\abhinav anand\\appdata\\roaming\\python\\python37\\site-packages (from tensorboard<2.9,>=2.8->tensorflow==2.8.1) (2.17.3)\n",
      "Requirement already satisfied: google-auth-oauthlib<0.5,>=0.4.1 in c:\\users\\abhinav anand\\appdata\\roaming\\python\\python37\\site-packages (from tensorboard<2.9,>=2.8->tensorflow==2.8.1) (0.4.6)\n",
      "Requirement already satisfied: markdown>=2.6.8 in c:\\users\\abhinav anand\\miniconda3\\lib\\site-packages (from tensorboard<2.9,>=2.8->tensorflow==2.8.1) (3.4.1)\n",
      "Requirement already satisfied: requests<3,>=2.21.0 in c:\\users\\abhinav anand\\miniconda3\\lib\\site-packages (from tensorboard<2.9,>=2.8->tensorflow==2.8.1) (2.28.1)\n",
      "Requirement already satisfied: tensorboard-data-server<0.7.0,>=0.6.0 in c:\\users\\abhinav anand\\miniconda3\\lib\\site-packages (from tensorboard<2.9,>=2.8->tensorflow==2.8.1) (0.6.1)\n",
      "Requirement already satisfied: tensorboard-plugin-wit>=1.6.0 in c:\\users\\abhinav anand\\miniconda3\\lib\\site-packages (from tensorboard<2.9,>=2.8->tensorflow==2.8.1) (1.8.1)\n",
      "Requirement already satisfied: werkzeug>=0.11.15 in c:\\users\\abhinav anand\\miniconda3\\lib\\site-packages (from tensorboard<2.9,>=2.8->tensorflow==2.8.1) (2.2.2)\n",
      "Requirement already satisfied: cachetools<6.0,>=2.0.0 in c:\\users\\abhinav anand\\miniconda3\\lib\\site-packages (from google-auth<3,>=1.6.3->tensorboard<2.9,>=2.8->tensorflow==2.8.1) (5.3.0)\n",
      "Requirement already satisfied: pyasn1-modules>=0.2.1 in c:\\users\\abhinav anand\\appdata\\roaming\\python\\python37\\site-packages (from google-auth<3,>=1.6.3->tensorboard<2.9,>=2.8->tensorflow==2.8.1) (0.3.0)\n",
      "Requirement already satisfied: rsa<5,>=3.1.4 in c:\\users\\abhinav anand\\appdata\\roaming\\python\\python37\\site-packages (from google-auth<3,>=1.6.3->tensorboard<2.9,>=2.8->tensorflow==2.8.1) (4.9)\n",
      "Requirement already satisfied: requests-oauthlib>=0.7.0 in c:\\users\\abhinav anand\\appdata\\roaming\\python\\python37\\site-packages (from google-auth-oauthlib<0.5,>=0.4.1->tensorboard<2.9,>=2.8->tensorflow==2.8.1) (1.3.1)\n",
      "Requirement already satisfied: importlib-metadata>=4.4 in c:\\users\\abhinav anand\\appdata\\roaming\\python\\python37\\site-packages (from markdown>=2.6.8->tensorboard<2.9,>=2.8->tensorflow==2.8.1) (6.6.0)\n",
      "Requirement already satisfied: charset-normalizer<3,>=2 in c:\\users\\abhinav anand\\miniconda3\\lib\\site-packages (from requests<3,>=2.21.0->tensorboard<2.9,>=2.8->tensorflow==2.8.1) (2.0.4)\n",
      "Requirement already satisfied: idna<4,>=2.5 in c:\\users\\abhinav anand\\miniconda3\\lib\\site-packages (from requests<3,>=2.21.0->tensorboard<2.9,>=2.8->tensorflow==2.8.1) (3.4)\n",
      "Requirement already satisfied: urllib3<1.27,>=1.21.1 in c:\\users\\abhinav anand\\miniconda3\\lib\\site-packages (from requests<3,>=2.21.0->tensorboard<2.9,>=2.8->tensorflow==2.8.1) (1.26.14)\n",
      "Requirement already satisfied: certifi>=2017.4.17 in c:\\users\\abhinav anand\\miniconda3\\lib\\site-packages (from requests<3,>=2.21.0->tensorboard<2.9,>=2.8->tensorflow==2.8.1) (2022.12.7)\n",
      "Requirement already satisfied: MarkupSafe>=2.1.1 in c:\\users\\abhinav anand\\miniconda3\\lib\\site-packages (from werkzeug>=0.11.15->tensorboard<2.9,>=2.8->tensorflow==2.8.1) (2.1.1)\n",
      "Requirement already satisfied: zipp>=0.5 in c:\\users\\abhinav anand\\miniconda3\\lib\\site-packages (from importlib-metadata>=4.4->markdown>=2.6.8->tensorboard<2.9,>=2.8->tensorflow==2.8.1) (3.11.0)\n",
      "Requirement already satisfied: pyasn1<0.6.0,>=0.4.6 in c:\\users\\abhinav anand\\miniconda3\\lib\\site-packages (from pyasn1-modules>=0.2.1->google-auth<3,>=1.6.3->tensorboard<2.9,>=2.8->tensorflow==2.8.1) (0.5.0)\n",
      "Requirement already satisfied: oauthlib>=3.0.0 in c:\\users\\abhinav anand\\appdata\\roaming\\python\\python37\\site-packages (from requests-oauthlib>=0.7.0->google-auth-oauthlib<0.5,>=0.4.1->tensorboard<2.9,>=2.8->tensorflow==2.8.1) (3.2.2)\n"
     ]
    }
   ],
   "source": [
    "!pip install tensorflow==2.8.1 tensorflow-gpu==2.8.1 opencv-python mediapipe scikit-learn matplotlib"
   ]
  },
  {
   "cell_type": "code",
   "execution_count": 3,
   "metadata": {
    "colab": {
     "base_uri": "https://localhost:8080/"
    },
    "id": "1aXWmNtgoL_c",
    "outputId": "6d0a30f7-747e-45bc-b429-5ae128b31a98"
   },
   "outputs": [
    {
     "name": "stdout",
     "output_type": "stream",
     "text": [
      "^C\n",
      "Note: you may need to restart the kernel to use updated packages.\n"
     ]
    },
    {
     "name": "stdout",
     "output_type": "stream",
     "text": [
      "Requirement already satisfied: numpy in c:\\users\\abhinav anand\\miniconda3\\lib\\site-packages (1.21.6)\n"
     ]
    }
   ],
   "source": [
    "%pip install numpy"
   ]
  },
  {
   "cell_type": "code",
   "execution_count": 4,
   "metadata": {
    "id": "tLSEE76Ymd3r"
   },
   "outputs": [
    {
     "name": "stdout",
     "output_type": "stream",
     "text": [
      "pip 23.1.2 from c:\\Users\\ABHINAV ANAND\\miniconda3\\lib\\site-packages\\pip (python 3.7)Note: you may need to restart the kernel to use updated packages.\n",
      "\n",
      "\n"
     ]
    }
   ],
   "source": [
    "\n",
    "\n",
    "pip -V"
   ]
  },
  {
   "cell_type": "code",
   "execution_count": 1,
   "metadata": {
    "id": "kINH2XeXoXNg"
   },
   "outputs": [],
   "source": [
    "import cv2\n",
    "import numpy as np\n",
    "import os\n",
    "from matplotlib import pyplot as plt\n",
    "import time\n",
    "import mediapipe as mp"
   ]
  },
  {
   "attachments": {},
   "cell_type": "markdown",
   "metadata": {
    "id": "58sF6XqKo2JH"
   },
   "source": [
    "# **2. Keypoints using MP Holistic**"
   ]
  },
  {
   "cell_type": "code",
   "execution_count": 3,
   "metadata": {},
   "outputs": [],
   "source": [
    "#Holistic model\n",
    "mp_holistic = mp.solutions.holistic\n",
    "\n",
    "#Drawing Utilities\n",
    "mp_drawing = mp.solutions.drawing_utils"
   ]
  },
  {
   "cell_type": "code",
   "execution_count": 4,
   "metadata": {},
   "outputs": [],
   "source": [
    "def mediapipe_detection(image, model):\n",
    "    image = cv2.cvtColor(image, cv2.COLOR_BGR2RGB) # COLOR CONVERSION BGR 2 RGB\n",
    "    image.flags.writeable = False                  # Image is no longer writeable\n",
    "    results = model.process(image)                 # Make prediction\n",
    "    image.flags.writeable = True                   # Image is now writeable \n",
    "    image = cv2.cvtColor(image, cv2.COLOR_RGB2BGR) # COLOR COVERSION RGB 2 BGR\n",
    "    return image, results"
   ]
  },
  {
   "cell_type": "code",
   "execution_count": 5,
   "metadata": {},
   "outputs": [],
   "source": [
    "def draw_landmarks(image, results):\n",
    "    mp_drawing.draw_landmarks(image, results.face_landmarks, mp_holistic.FACEMESH_CONTOURS) # Draw face connections\n",
    "    mp_drawing.draw_landmarks(image, results.pose_landmarks, mp_holistic.POSE_CONNECTIONS) # Draw pose connections\n",
    "    mp_drawing.draw_landmarks(image, results.left_hand_landmarks, mp_holistic.HAND_CONNECTIONS) # Draw left hand connections\n",
    "    mp_drawing.draw_landmarks(image, results.right_hand_landmarks, mp_holistic.HAND_CONNECTIONS) # Draw right hand connections"
   ]
  },
  {
   "cell_type": "code",
   "execution_count": 6,
   "metadata": {},
   "outputs": [],
   "source": [
    "def draw_styled_landmarks(image, results):\n",
    "    # Draw face connections\n",
    "    mp_drawing.draw_landmarks(image, results.face_landmarks, mp_holistic.FACEMESH_CONTOURS, \n",
    "                             mp_drawing.DrawingSpec(color=(80,110,10), thickness=1, circle_radius=1), \n",
    "                             mp_drawing.DrawingSpec(color=(80,256,121), thickness=1, circle_radius=1)\n",
    "                             ) \n",
    "    # Draw pose connections\n",
    "    mp_drawing.draw_landmarks(image, results.pose_landmarks, mp_holistic.POSE_CONNECTIONS,\n",
    "                             mp_drawing.DrawingSpec(color=(80,22,10), thickness=2, circle_radius=4), \n",
    "                             mp_drawing.DrawingSpec(color=(80,44,121), thickness=2, circle_radius=2)\n",
    "                             ) \n",
    "    # Draw left hand connections\n",
    "    mp_drawing.draw_landmarks(image, results.left_hand_landmarks, mp_holistic.HAND_CONNECTIONS, \n",
    "                             mp_drawing.DrawingSpec(color=(121,22,76), thickness=2, circle_radius=4), \n",
    "                             mp_drawing.DrawingSpec(color=(121,44,250), thickness=2, circle_radius=2)\n",
    "                             ) \n",
    "    # Draw right hand connections  \n",
    "    mp_drawing.draw_landmarks(image, results.right_hand_landmarks, mp_holistic.HAND_CONNECTIONS, \n",
    "                             mp_drawing.DrawingSpec(color=(245,117,66), thickness=2, circle_radius=4), \n",
    "                             mp_drawing.DrawingSpec(color=(245,66,230), thickness=2, circle_radius=2)\n",
    "                             ) "
   ]
  },
  {
   "cell_type": "code",
   "execution_count": 7,
   "metadata": {
    "id": "xRZ-JtOOolws"
   },
   "outputs": [
    {
     "name": "stdout",
     "output_type": "stream",
     "text": [
      "<class 'mediapipe.python.solution_base.SolutionOutputs'>\n",
      "<class 'mediapipe.python.solution_base.SolutionOutputs'>\n",
      "<class 'mediapipe.python.solution_base.SolutionOutputs'>\n",
      "<class 'mediapipe.python.solution_base.SolutionOutputs'>\n",
      "<class 'mediapipe.python.solution_base.SolutionOutputs'>\n",
      "<class 'mediapipe.python.solution_base.SolutionOutputs'>\n",
      "<class 'mediapipe.python.solution_base.SolutionOutputs'>\n",
      "<class 'mediapipe.python.solution_base.SolutionOutputs'>\n",
      "<class 'mediapipe.python.solution_base.SolutionOutputs'>\n",
      "<class 'mediapipe.python.solution_base.SolutionOutputs'>\n",
      "<class 'mediapipe.python.solution_base.SolutionOutputs'>\n",
      "<class 'mediapipe.python.solution_base.SolutionOutputs'>\n",
      "<class 'mediapipe.python.solution_base.SolutionOutputs'>\n",
      "<class 'mediapipe.python.solution_base.SolutionOutputs'>\n",
      "<class 'mediapipe.python.solution_base.SolutionOutputs'>\n",
      "<class 'mediapipe.python.solution_base.SolutionOutputs'>\n",
      "<class 'mediapipe.python.solution_base.SolutionOutputs'>\n",
      "<class 'mediapipe.python.solution_base.SolutionOutputs'>\n",
      "<class 'mediapipe.python.solution_base.SolutionOutputs'>\n",
      "<class 'mediapipe.python.solution_base.SolutionOutputs'>\n",
      "<class 'mediapipe.python.solution_base.SolutionOutputs'>\n",
      "<class 'mediapipe.python.solution_base.SolutionOutputs'>\n",
      "<class 'mediapipe.python.solution_base.SolutionOutputs'>\n",
      "<class 'mediapipe.python.solution_base.SolutionOutputs'>\n",
      "<class 'mediapipe.python.solution_base.SolutionOutputs'>\n",
      "<class 'mediapipe.python.solution_base.SolutionOutputs'>\n",
      "<class 'mediapipe.python.solution_base.SolutionOutputs'>\n",
      "<class 'mediapipe.python.solution_base.SolutionOutputs'>\n",
      "<class 'mediapipe.python.solution_base.SolutionOutputs'>\n",
      "<class 'mediapipe.python.solution_base.SolutionOutputs'>\n",
      "<class 'mediapipe.python.solution_base.SolutionOutputs'>\n",
      "<class 'mediapipe.python.solution_base.SolutionOutputs'>\n",
      "<class 'mediapipe.python.solution_base.SolutionOutputs'>\n",
      "<class 'mediapipe.python.solution_base.SolutionOutputs'>\n",
      "<class 'mediapipe.python.solution_base.SolutionOutputs'>\n",
      "<class 'mediapipe.python.solution_base.SolutionOutputs'>\n",
      "<class 'mediapipe.python.solution_base.SolutionOutputs'>\n",
      "<class 'mediapipe.python.solution_base.SolutionOutputs'>\n",
      "<class 'mediapipe.python.solution_base.SolutionOutputs'>\n",
      "<class 'mediapipe.python.solution_base.SolutionOutputs'>\n",
      "<class 'mediapipe.python.solution_base.SolutionOutputs'>\n",
      "<class 'mediapipe.python.solution_base.SolutionOutputs'>\n",
      "<class 'mediapipe.python.solution_base.SolutionOutputs'>\n",
      "<class 'mediapipe.python.solution_base.SolutionOutputs'>\n",
      "<class 'mediapipe.python.solution_base.SolutionOutputs'>\n",
      "<class 'mediapipe.python.solution_base.SolutionOutputs'>\n",
      "<class 'mediapipe.python.solution_base.SolutionOutputs'>\n",
      "<class 'mediapipe.python.solution_base.SolutionOutputs'>\n"
     ]
    }
   ],
   "source": [
    "cap = cv2.VideoCapture(0)\n",
    "# Set mediapipe model \n",
    "with mp_holistic.Holistic(min_detection_confidence=0.5, min_tracking_confidence=0.5) as holistic:\n",
    "    while cap.isOpened():\n",
    "\n",
    "        # Read feed\n",
    "        ret, frame = cap.read()\n",
    "\n",
    "        # Make detections\n",
    "        image, results = mediapipe_detection(frame, holistic)\n",
    "        print(results)\n",
    "        \n",
    "        # Draw landmarks\n",
    "        draw_styled_landmarks(image, results)\n",
    "\n",
    "        # Show to screen\n",
    "        cv2.imshow('OpenCV Feed', image)\n",
    "\n",
    "        # Break gracefully\n",
    "        if cv2.waitKey(10) & 0xFF == ord('q'):\n",
    "            break\n",
    "    cap.release()\n",
    "    cv2.destroyAllWindows()"
   ]
  },
  {
   "cell_type": "code",
   "execution_count": 8,
   "metadata": {},
   "outputs": [],
   "source": [
    "VID_PATH = os.path.join('FKS') "
   ]
  },
  {
   "cell_type": "code",
   "execution_count": null,
   "metadata": {},
   "outputs": [],
   "source": []
  },
  {
   "cell_type": "code",
   "execution_count": 214,
   "metadata": {},
   "outputs": [],
   "source": [
    "cap = cv2.VideoCapture(0)\n",
    "frame_width = int(cap.get(3))\n",
    "frame_height = int(cap.get(4))\n",
    "\n",
    "size = (frame_width, frame_height)\n",
    "\n",
    "input_vid = input(\"Enter Video name\")\n",
    "\n",
    "\n",
    "result = cv2.VideoWriter(f'Sign_Gestures\\{input_vid}.avi', \n",
    "                         cv2.VideoWriter_fourcc(*'MJPG'),\n",
    "                         10, size)\n",
    "\n",
    "while cap.isOpened():\n",
    "    ret, frame = cap.read()\n",
    "    \n",
    "    if ret == True:\n",
    "        result.write(frame)\n",
    "    \n",
    "        cv2.imshow('OpenCV Feed', frame)\n",
    "\n",
    "        # Break gracefully\n",
    "        if cv2.waitKey(10) & 0xFF == ord('q'):\n",
    "            break\n",
    "        \n",
    "    else:\n",
    "        break\n",
    "    \n",
    "cap.release()\n",
    "result.release()\n",
    "cv2.destroyAllWindows()\n",
    "    \n",
    "    "
   ]
  },
  {
   "cell_type": "code",
   "execution_count": 140,
   "metadata": {},
   "outputs": [],
   "source": [
    "input_sen = \"w\"\n",
    "\n",
    "nltk_tokens = nltk.sent_tokenize()\n",
    "\n",
    "\n",
    "for x in range(len(input_sen)):\n",
    "    \n",
    "    cap = cv2.VideoCapture(f'Sign_Gestures\\{input_sen[x]}.avi')\n",
    "\n",
    "    while cap.isOpened():\n",
    "        \n",
    "        ret, frame = cap.read()\n",
    "        \n",
    "        if ret == True:\n",
    "            # Display the resulting frame\n",
    "            cv2.imshow('Frame', frame)\n",
    "            \n",
    "        # Press Q on keyboard to exit\n",
    "            if cv2.waitKey(25) & 0xFF == ord('q'):\n",
    "                break\n",
    "    \n",
    "        # Break the loop\n",
    "        else:\n",
    "            break\n",
    "    \n",
    "# When everything done, release\n",
    "# the video capture object\n",
    "cap.release()\n",
    "  \n",
    "# Closes all the frames\n",
    "cv2.destroyAllWindows()"
   ]
  },
  {
   "cell_type": "code",
   "execution_count": 141,
   "metadata": {},
   "outputs": [],
   "source": [
    "cap = cv2.VideoCapture(f'Sign_Gestures\\How Are YOU.avi')\n",
    "while cap.isOpened():\n",
    "        \n",
    "    ret, frame = cap.read()\n",
    "        \n",
    "    if ret == True:\n",
    "        # Display the resulting frame\n",
    "        cv2.imshow('Frame', frame)\n",
    "            \n",
    "        # Press Q on keyboard to exit\n",
    "        if cv2.waitKey(25) & 0xFF == ord('q'):\n",
    "            break\n",
    "    \n",
    "    # Break the loop\n",
    "    else:\n",
    "        break\n",
    "    \n",
    "# When everything done, release\n",
    "# the video capture object\n",
    "cap.release()\n",
    "  \n",
    "# Closes all the frames\n",
    "cv2.destroyAllWindows()"
   ]
  },
  {
   "cell_type": "code",
   "execution_count": 9,
   "metadata": {},
   "outputs": [
    {
     "data": {
      "text/plain": [
       "468"
      ]
     },
     "execution_count": 9,
     "metadata": {},
     "output_type": "execute_result"
    }
   ],
   "source": [
    "len(results.face_landmarks.landmark)"
   ]
  },
  {
   "cell_type": "code",
   "execution_count": 10,
   "metadata": {
    "id": "rplzg2LCrAzW"
   },
   "outputs": [
    {
     "data": {
      "text/plain": [
       "array([[[213, 203, 175],\n",
       "        [213, 204, 177],\n",
       "        [214, 203, 179],\n",
       "        ...,\n",
       "        [ 29,  50,  91],\n",
       "        [ 39,  52,  96],\n",
       "        [ 39,  51,  96]],\n",
       "\n",
       "       [[215, 206, 177],\n",
       "        [214, 204, 177],\n",
       "        [214, 203, 179],\n",
       "        ...,\n",
       "        [ 31,  50,  84],\n",
       "        [ 34,  50,  88],\n",
       "        [ 35,  51,  89]],\n",
       "\n",
       "       [[208, 200, 176],\n",
       "        [209, 201, 177],\n",
       "        [212, 204, 179],\n",
       "        ...,\n",
       "        [ 25,  50,  81],\n",
       "        [ 26,  48,  80],\n",
       "        [ 28,  49,  82]],\n",
       "\n",
       "       ...,\n",
       "\n",
       "       [[ 75,  71,  85],\n",
       "        [ 77,  74,  86],\n",
       "        [ 73,  71,  81],\n",
       "        ...,\n",
       "        [  0,  15,  37],\n",
       "        [  0,  13,  34],\n",
       "        [  0,  11,  32]],\n",
       "\n",
       "       [[ 77,  71,  85],\n",
       "        [ 70,  71,  82],\n",
       "        [ 67,  74,  83],\n",
       "        ...,\n",
       "        [  0,  11,  30],\n",
       "        [  0,  12,  31],\n",
       "        [  0,  14,  32]],\n",
       "\n",
       "       [[ 79,  76,  90],\n",
       "        [ 75,  76,  90],\n",
       "        [ 71,  77,  90],\n",
       "        ...,\n",
       "        [  0,  14,  32],\n",
       "        [  0,  13,  31],\n",
       "        [  0,  15,  34]]], dtype=uint8)"
      ]
     },
     "execution_count": 10,
     "metadata": {},
     "output_type": "execute_result"
    }
   ],
   "source": [
    "frame"
   ]
  },
  {
   "cell_type": "code",
   "execution_count": 11,
   "metadata": {},
   "outputs": [],
   "source": [
    "draw_styled_landmarks(frame, results)"
   ]
  },
  {
   "cell_type": "code",
   "execution_count": 12,
   "metadata": {},
   "outputs": [
    {
     "data": {
      "text/plain": [
       "<matplotlib.image.AxesImage at 0x1fbf0adc908>"
      ]
     },
     "execution_count": 12,
     "metadata": {},
     "output_type": "execute_result"
    },
    {
     "data": {
      "image/png": "[encoded data removed]",
      "text/plain": [
       "<Figure size 640x480 with 1 Axes>"
      ]
     },
     "metadata": {},
     "output_type": "display_data"
    }
   ],
   "source": [
    "plt.imshow(cv2.cvtColor(frame, cv2.COLOR_BGR2RGB))"
   ]
  },
  {
   "attachments": {},
   "cell_type": "markdown",
   "metadata": {},
   "source": [
    "# **3. Extract Keypoint Values**"
   ]
  },
  {
   "cell_type": "code",
   "execution_count": 13,
   "metadata": {},
   "outputs": [
    {
     "data": {
      "text/plain": [
       "33"
      ]
     },
     "execution_count": 13,
     "metadata": {},
     "output_type": "execute_result"
    }
   ],
   "source": [
    "\n",
    "len(results.pose_landmarks.landmark)"
   ]
  },
  {
   "cell_type": "code",
   "execution_count": 14,
   "metadata": {},
   "outputs": [],
   "source": [
    "pose = []\n",
    "for res in results.pose_landmarks.landmark:\n",
    "    test = np.array([res.x, res.y, res.z, res.visibility])\n",
    "    pose.append(test)"
   ]
  },
  {
   "cell_type": "code",
   "execution_count": 15,
   "metadata": {},
   "outputs": [
    {
     "data": {
      "text/plain": [
       "33"
      ]
     },
     "execution_count": 15,
     "metadata": {},
     "output_type": "execute_result"
    }
   ],
   "source": [
    "len(pose)"
   ]
  },
  {
   "cell_type": "code",
   "execution_count": 16,
   "metadata": {},
   "outputs": [
    {
     "data": {
      "text/plain": [
       "[array([ 0.51462495,  0.32112297, -1.23109841,  0.9998371 ]),\n",
       " array([ 0.53405082,  0.24727434, -1.17300057,  0.99969769]),\n",
       " array([ 0.54907507,  0.24691334, -1.17297494,  0.99971479]),\n",
       " array([ 0.56540424,  0.24670468, -1.17334044,  0.99968046]),\n",
       " array([ 0.47602263,  0.2518945 , -1.17532003,  0.99966234]),\n",
       " array([ 0.45425153,  0.25476348, -1.17469108,  0.99967152]),\n",
       " array([ 0.43438816,  0.25934085, -1.17508495,  0.99964207]),\n",
       " array([ 0.58875948,  0.27840465, -0.72617346,  0.999726  ]),\n",
       " array([ 0.40303096,  0.29966024, -0.71844637,  0.9997983 ]),\n",
       " array([ 0.54448742,  0.39044845, -1.06063294,  0.99989575]),\n",
       " array([ 0.4740704 ,  0.40257394, -1.05738997,  0.99990213]),\n",
       " array([ 0.74858475,  0.64212906, -0.4451952 ,  0.9994325 ]),\n",
       " array([ 0.27890283,  0.64312464, -0.46984372,  0.9989717 ]),\n",
       " array([ 0.86688054,  0.97539848, -0.40701032,  0.47046277]),\n",
       " array([ 0.10880993,  0.95688432, -0.40064877,  0.60021323]),\n",
       " array([ 0.92030513,  1.41288686, -0.82335395,  0.07291906]),\n",
       " array([-0.02468545,  1.32633996, -0.87741339,  0.10814004]),\n",
       " array([ 0.96219617,  1.51836574, -0.93374473,  0.07469054]),\n",
       " array([-0.07005557,  1.42526877, -0.99410838,  0.09417122]),\n",
       " array([ 0.91825217,  1.51969206, -1.01878071,  0.12839822]),\n",
       " array([-0.02624066,  1.42876446, -1.11113834,  0.15549058]),\n",
       " array([ 0.89202249,  1.4829191 , -0.87862414,  0.12105025]),\n",
       " array([-0.00275133,  1.39711976, -0.94518054,  0.1630214 ]),\n",
       " array([ 6.68538511e-01,  1.48713124e+00, -8.19017142e-02,  6.07783790e-04]),\n",
       " array([3.49520892e-01, 1.48878455e+00, 8.68297368e-02, 5.21866896e-04]),\n",
       " array([6.52884841e-01, 2.18047619e+00, 1.74500830e-02, 7.53569358e-04]),\n",
       " array([3.40660095e-01, 2.18296671e+00, 1.71229377e-01, 2.73428712e-04]),\n",
       " array([6.50221467e-01, 2.79818130e+00, 8.06827724e-01, 1.21537531e-04]),\n",
       " array([3.57253134e-01, 2.78496790e+00, 7.39430785e-01, 1.68776878e-05]),\n",
       " array([6.59013152e-01, 2.89590240e+00, 8.45400810e-01, 6.34046010e-05]),\n",
       " array([3.58878553e-01, 2.87510824e+00, 7.75560141e-01, 4.19345270e-05]),\n",
       " array([6.00167513e-01, 2.98566532e+00, 1.69179708e-01, 9.10070303e-05]),\n",
       " array([3.97549093e-01, 2.98254251e+00, 3.60301808e-02, 6.15385288e-05])]"
      ]
     },
     "execution_count": 16,
     "metadata": {},
     "output_type": "execute_result"
    }
   ],
   "source": [
    "pose"
   ]
  },
  {
   "cell_type": "code",
   "execution_count": 17,
   "metadata": {},
   "outputs": [],
   "source": [
    "pose = np.array([[res.x, res.y, res.z, res.visibility] for res in results.pose_landmarks.landmark]).flatten() if results.pose_landmarks else np.zeros(132)\n",
    "face = np.array([[res.x, res.y, res.z] for res in results.face_landmarks.landmark]).flatten() if results.face_landmarks else np.zeros(1404)\n",
    "lh = np.array([[res.x, res.y, res.z] for res in results.left_hand_landmarks.landmark]).flatten() if results.left_hand_landmarks else np.zeros(21*3)\n",
    "rh = np.array([[res.x, res.y, res.z] for res in results.right_hand_landmarks.landmark]).flatten() if results.right_hand_landmarks else np.zeros(21*3)"
   ]
  },
  {
   "cell_type": "code",
   "execution_count": 18,
   "metadata": {},
   "outputs": [],
   "source": [
    "face = np.array([[res.x, res.y, res.z] for res in results.face_landmarks.landmark]).flatten() if results.face_landmarks else np.zeros(1404)"
   ]
  },
  {
   "cell_type": "code",
   "execution_count": 19,
   "metadata": {},
   "outputs": [
    {
     "data": {
      "text/plain": [
       "(132,)"
      ]
     },
     "execution_count": 19,
     "metadata": {},
     "output_type": "execute_result"
    }
   ],
   "source": [
    "pose.shape"
   ]
  },
  {
   "cell_type": "code",
   "execution_count": null,
   "metadata": {},
   "outputs": [],
   "source": []
  },
  {
   "cell_type": "code",
   "execution_count": 20,
   "metadata": {},
   "outputs": [],
   "source": [
    "def extract_keypoints(results):\n",
    "    pose = np.array([[res.x, res.y, res.z, res.visibility] for res in results.pose_landmarks.landmark]).flatten() if results.pose_landmarks else np.zeros(33*4)\n",
    "    face = np.array([[res.x, res.y, res.z] for res in results.face_landmarks.landmark]).flatten() if results.face_landmarks else np.zeros(468*3)\n",
    "    lh = np.array([[res.x, res.y, res.z] for res in results.left_hand_landmarks.landmark]).flatten() if results.left_hand_landmarks else np.zeros(21*3)\n",
    "    rh = np.array([[res.x, res.y, res.z] for res in results.right_hand_landmarks.landmark]).flatten() if results.right_hand_landmarks else np.zeros(21*3)\n",
    "    return np.concatenate([pose, face, lh, rh])"
   ]
  },
  {
   "cell_type": "code",
   "execution_count": 21,
   "metadata": {},
   "outputs": [
    {
     "data": {
      "text/plain": [
       "(1662,)"
      ]
     },
     "execution_count": 21,
     "metadata": {},
     "output_type": "execute_result"
    }
   ],
   "source": [
    "extract_keypoints(results).shape"
   ]
  },
  {
   "cell_type": "code",
   "execution_count": 22,
   "metadata": {},
   "outputs": [
    {
     "data": {
      "text/plain": [
       "1662"
      ]
     },
     "execution_count": 22,
     "metadata": {},
     "output_type": "execute_result"
    }
   ],
   "source": [
    "468*3+33*4+21*3+21*3"
   ]
  },
  {
   "cell_type": "code",
   "execution_count": 23,
   "metadata": {},
   "outputs": [],
   "source": [
    "result_test = extract_keypoints(results)"
   ]
  },
  {
   "cell_type": "code",
   "execution_count": 24,
   "metadata": {},
   "outputs": [
    {
     "data": {
      "text/plain": [
       "array([ 0.51462495,  0.32112297, -1.23109841, ...,  0.        ,\n",
       "        0.        ,  0.        ])"
      ]
     },
     "execution_count": 24,
     "metadata": {},
     "output_type": "execute_result"
    }
   ],
   "source": [
    "result_test"
   ]
  },
  {
   "attachments": {},
   "cell_type": "markdown",
   "metadata": {},
   "source": [
    "# 4. Setup Folders for Collection"
   ]
  },
  {
   "cell_type": "code",
   "execution_count": 25,
   "metadata": {},
   "outputs": [],
   "source": [
    "# Path for exported data, numpy arrays\n",
    "DATA_PATH = os.path.join('MP_Data') \n",
    "\n",
    "# Actions that we try to detect\n",
    "actions = np.array(['Hello','Indian','Sign','Language','Again','I','You','Man','Woman','Deaf','Hearing','Teacher','Thankyou','Welcome','Sorry','Namaste','How are you','My name is'])\n",
    "\n",
    "# Thirty videos worth of data\n",
    "no_sequences = 60\n",
    "\n",
    "# Videos are going to be 30 frames in length\n",
    "sequence_length = 30"
   ]
  },
  {
   "cell_type": "code",
   "execution_count": 26,
   "metadata": {},
   "outputs": [],
   "source": [
    "for action in actions: \n",
    "    for sequence in range(no_sequences):\n",
    "        try: \n",
    "            os.makedirs(os.path.join(DATA_PATH, action, str(sequence)))\n",
    "        except:\n",
    "            pass"
   ]
  },
  {
   "cell_type": "code",
   "execution_count": 27,
   "metadata": {},
   "outputs": [
    {
     "data": {
      "text/plain": [
       "18"
      ]
     },
     "execution_count": 27,
     "metadata": {},
     "output_type": "execute_result"
    }
   ],
   "source": [
    "len(actions)"
   ]
  },
  {
   "cell_type": "code",
   "execution_count": 28,
   "metadata": {},
   "outputs": [
    {
     "data": {
      "text/plain": [
       "array(['Hello', 'Indian', 'Sign', 'Language', 'Again', 'I', 'You', 'Man',\n",
       "       'Woman', 'Deaf', 'Hearing', 'Teacher', 'Thankyou', 'Welcome',\n",
       "       'Sorry', 'Namaste', 'How are you', 'My name is'], dtype='<U11')"
      ]
     },
     "execution_count": 28,
     "metadata": {},
     "output_type": "execute_result"
    }
   ],
   "source": [
    "\n",
    "actions"
   ]
  },
  {
   "attachments": {},
   "cell_type": "markdown",
   "metadata": {},
   "source": [
    "# 5. Collect Keypoint Values for Training and Testing"
   ]
  },
  {
   "cell_type": "code",
   "execution_count": 49,
   "metadata": {},
   "outputs": [],
   "source": [
    "cap = cv2.VideoCapture(0)\n",
    "exit = False\n",
    "# Set mediapipe model \n",
    "with mp_holistic.Holistic(min_detection_confidence=0.5, min_tracking_confidence=0.5) as holistic:\n",
    "    \n",
    "    # NEW LOOP\n",
    "    # Loop through actions\n",
    "    action_no = input(\"Enter action index: \")\n",
    "    action_name = actions[int(action_no)]\n",
    "    # print(action_name)\n",
    "    ans = input(f\"Do you want to continue '{action_name}' ?\")\n",
    "    if(ans == \"0\"):\n",
    "        pass\n",
    "    else:    \n",
    "        # Loop through sequences aka videos\n",
    "        for sequence in range(no_sequences-30):\n",
    "            if exit == True:\n",
    "                break\n",
    "            # Loop through video length aka sequence length\n",
    "            for frame_num in range(sequence_length):\n",
    "\n",
    "                # Read feed\n",
    "                ret, frame = cap.read()\n",
    "\n",
    "                # Make detections\n",
    "                image, results = mediapipe_detection(frame, holistic)\n",
    "#                 print(results)\n",
    "\n",
    "                # Draw landmarks\n",
    "                draw_styled_landmarks(image, results)\n",
    "                \n",
    "                # NEW Apply wait logic\n",
    "                if frame_num == 0: \n",
    "                    cv2.putText(image, 'STARTING COLLECTION', (120,200), \n",
    "                               cv2.FONT_HERSHEY_SIMPLEX, 1, (0,255, 0), 4, cv2.LINE_AA)\n",
    "                    cv2.putText(image, 'Collecting frames for {} Video Number {}'.format(action_name, sequence), (15,12), \n",
    "                               cv2.FONT_HERSHEY_SIMPLEX, 0.5, (0, 0, 255), 1, cv2.LINE_AA)\n",
    "                    # Show to screen\n",
    "                    cv2.imshow('OpenCV Feed', image)\n",
    "                    # cv2.waitKey(2000)\n",
    "                else: \n",
    "                    cv2.putText(image, 'Collecting frames for {} Video Number {}'.format(action_name, sequence), (15,12), \n",
    "                               cv2.FONT_HERSHEY_SIMPLEX, 0.5, (0, 0, 255), 1, cv2.LINE_AA)\n",
    "                    # Show to screen\n",
    "                    cv2.imshow('OpenCV Feed', image)\n",
    "                \n",
    "                # NEW Export keypoints\n",
    "                keypoints = extract_keypoints(results)\n",
    "                npy_path = os.path.join(DATA_PATH, action_name, str(sequence+30), str(frame_num))\n",
    "                np.save(npy_path, keypoints)\n",
    "\n",
    "                # Break gracefully\n",
    "                if cv2.waitKey(10) & 0xFF == ord('q'):\n",
    "                    exit = True\n",
    "                    break\n",
    "                \n",
    "                    \n",
    "    cap.release()\n",
    "    cv2.destroyAllWindows()"
   ]
  },
  {
   "cell_type": "code",
   "execution_count": null,
   "metadata": {},
   "outputs": [],
   "source": []
  },
  {
   "attachments": {},
   "cell_type": "markdown",
   "metadata": {},
   "source": [
    "# 6. Preprocess Data and Create Labels and Features"
   ]
  },
  {
   "cell_type": "code",
   "execution_count": 29,
   "metadata": {},
   "outputs": [],
   "source": [
    "from sklearn.model_selection import train_test_split\n",
    "from tensorflow.keras.utils import to_categorical"
   ]
  },
  {
   "cell_type": "code",
   "execution_count": 30,
   "metadata": {},
   "outputs": [],
   "source": [
    "label_map = {label:num for num, label in enumerate(actions)}"
   ]
  },
  {
   "cell_type": "code",
   "execution_count": 31,
   "metadata": {},
   "outputs": [
    {
     "data": {
      "text/plain": [
       "{'Hello': 0,\n",
       " 'Indian': 1,\n",
       " 'Sign': 2,\n",
       " 'Language': 3,\n",
       " 'Again': 4,\n",
       " 'I': 5,\n",
       " 'You': 6,\n",
       " 'Man': 7,\n",
       " 'Woman': 8,\n",
       " 'Deaf': 9,\n",
       " 'Hearing': 10,\n",
       " 'Teacher': 11,\n",
       " 'Thankyou': 12,\n",
       " 'Welcome': 13,\n",
       " 'Sorry': 14,\n",
       " 'Namaste': 15,\n",
       " 'How are you': 16,\n",
       " 'My name is': 17}"
      ]
     },
     "execution_count": 31,
     "metadata": {},
     "output_type": "execute_result"
    }
   ],
   "source": [
    "label_map\n"
   ]
  },
  {
   "cell_type": "code",
   "execution_count": 31,
   "metadata": {},
   "outputs": [],
   "source": [
    "sequences, labels = [], []\n",
    "for action in actions:\n",
    "    for sequence in range(no_sequences):\n",
    "        window = []\n",
    "        for frame_num in range(sequence_length):\n",
    "            res = np.load(os.path.join(DATA_PATH, action, str(sequence), \"{}.npy\".format(frame_num)))\n",
    "            window.append(res)\n",
    "        sequences.append(window)\n",
    "        labels.append(label_map[action])"
   ]
  },
  {
   "cell_type": "code",
   "execution_count": 32,
   "metadata": {},
   "outputs": [
    {
     "data": {
      "text/plain": [
       "(1080, 30, 1662)"
      ]
     },
     "execution_count": 32,
     "metadata": {},
     "output_type": "execute_result"
    }
   ],
   "source": [
    "np.array(sequences).shape"
   ]
  },
  {
   "cell_type": "code",
   "execution_count": 33,
   "metadata": {},
   "outputs": [
    {
     "data": {
      "text/plain": [
       "array([[[ 0.51215184,  0.50369537, -0.47349185, ...,  0.        ,\n",
       "          0.        ,  0.        ],\n",
       "        [ 0.52507627,  0.50405151, -0.5163846 , ...,  0.40612209,\n",
       "          0.39384693, -0.00903125],\n",
       "        [ 0.5251236 ,  0.50580448, -0.54258192, ...,  0.40811509,\n",
       "          0.39703214, -0.01142699],\n",
       "        ...,\n",
       "        [ 0.52733046,  0.5185684 , -0.62379283, ...,  0.40462431,\n",
       "          0.40830946, -0.00674341],\n",
       "        [ 0.52806103,  0.5186727 , -0.62368226, ...,  0.40725973,\n",
       "          0.40803728, -0.00763713],\n",
       "        [ 0.52847421,  0.51951498, -0.6241672 , ...,  0.40359873,\n",
       "          0.40841416, -0.00956618]],\n",
       "\n",
       "       [[ 0.52848452,  0.52099037, -0.62579435, ...,  0.40235654,\n",
       "          0.40742087, -0.01175874],\n",
       "        [ 0.52847564,  0.52084571, -0.67738444, ...,  0.26261899,\n",
       "          0.35090625, -0.00582798],\n",
       "        [ 0.52844626,  0.52087671, -0.73582071, ...,  0.26461458,\n",
       "          0.35431027, -0.00708324],\n",
       "        ...,\n",
       "        [ 0.52615482,  0.52198476, -0.74079096, ...,  0.3052519 ,\n",
       "          0.3706575 , -0.01809704],\n",
       "        [ 0.52613258,  0.52198827, -0.70793104, ...,  0.33095723,\n",
       "          0.38295811, -0.01549567],\n",
       "        [ 0.52567124,  0.52200025, -0.60846555, ...,  0.35941288,\n",
       "          0.39318037, -0.01066801]],\n",
       "\n",
       "       [[ 0.5260691 ,  0.52209657, -0.60345119, ...,  0.36784095,\n",
       "          0.39661804, -0.00926966],\n",
       "        [ 0.52594769,  0.52208906, -0.66760731, ...,  0.30193859,\n",
       "          0.38947523, -0.01482554],\n",
       "        [ 0.52472085,  0.52210528, -0.6903975 , ...,  0.28310108,\n",
       "          0.38160962, -0.01632703],\n",
       "        ...,\n",
       "        [ 0.5287745 ,  0.52795166, -0.6036967 , ...,  0.29655087,\n",
       "          0.38741773, -0.01708124],\n",
       "        [ 0.52877021,  0.52851307, -0.59665453, ...,  0.31581268,\n",
       "          0.38937852, -0.01441308],\n",
       "        [ 0.5287317 ,  0.5289945 , -0.59612757, ...,  0.32829013,\n",
       "          0.39030257, -0.01162186]],\n",
       "\n",
       "       ...,\n",
       "\n",
       "       [[ 0.54634053,  0.40095297, -0.48981881, ...,  0.        ,\n",
       "          0.        ,  0.        ],\n",
       "        [ 0.54639184,  0.40154934, -0.4924725 , ...,  0.        ,\n",
       "          0.        ,  0.        ],\n",
       "        [ 0.54661745,  0.40085131, -0.53103411, ...,  0.        ,\n",
       "          0.        ,  0.        ],\n",
       "        ...,\n",
       "        [ 0.55196518,  0.39449361, -0.44722414, ...,  0.        ,\n",
       "          0.        ,  0.        ],\n",
       "        [ 0.55186319,  0.39496136, -0.46949378, ...,  0.53136677,\n",
       "          0.99325836, -0.06952105],\n",
       "        [ 0.55182463,  0.39628524, -0.51207638, ...,  0.57933325,\n",
       "          1.01413453, -0.04278605]],\n",
       "\n",
       "       [[ 0.55145603,  0.39640528, -0.51212668, ...,  0.58705115,\n",
       "          1.05781782, -0.06639692],\n",
       "        [ 0.55121452,  0.39643136, -0.48463064, ...,  0.56833285,\n",
       "          1.05042624, -0.07944732],\n",
       "        [ 0.55083382,  0.39632022, -0.54461682, ...,  0.54167771,\n",
       "          1.05884802, -0.08804725],\n",
       "        ...,\n",
       "        [ 0.54670948,  0.39593807, -0.58741271, ...,  0.56730586,\n",
       "          1.03531361, -0.07368054],\n",
       "        [ 0.54990327,  0.39619061, -0.55570674, ...,  0.59783131,\n",
       "          1.05962193, -0.07260769],\n",
       "        [ 0.5534355 ,  0.39591515, -0.54682958, ...,  0.        ,\n",
       "          0.        ,  0.        ]],\n",
       "\n",
       "       [[ 0.55505717,  0.3932637 , -0.55478293, ...,  0.        ,\n",
       "          0.        ,  0.        ],\n",
       "        [ 0.55625433,  0.39167202, -0.5529871 , ...,  0.        ,\n",
       "          0.        ,  0.        ],\n",
       "        [ 0.55732024,  0.3916468 , -0.55062777, ...,  0.        ,\n",
       "          0.        ,  0.        ],\n",
       "        ...,\n",
       "        [ 0.53092057,  0.39178684, -0.46236944, ...,  0.57989442,\n",
       "          1.09538507, -0.08614249],\n",
       "        [ 0.53459084,  0.39281359, -0.49118075, ...,  0.59431255,\n",
       "          1.06969082, -0.09087571],\n",
       "        [ 0.53690565,  0.39181975, -0.47212511, ...,  0.60709047,\n",
       "          1.06210542, -0.06120683]]])"
      ]
     },
     "execution_count": 33,
     "metadata": {},
     "output_type": "execute_result"
    }
   ],
   "source": [
    "np.array(sequences)"
   ]
  },
  {
   "cell_type": "code",
   "execution_count": 34,
   "metadata": {},
   "outputs": [
    {
     "data": {
      "text/plain": [
       "(1080,)"
      ]
     },
     "execution_count": 34,
     "metadata": {},
     "output_type": "execute_result"
    }
   ],
   "source": [
    "np.array(labels).shape"
   ]
  },
  {
   "cell_type": "code",
   "execution_count": 35,
   "metadata": {},
   "outputs": [
    {
     "data": {
      "text/plain": [
       "array([ 0,  0,  0, ..., 17, 17, 17])"
      ]
     },
     "execution_count": 35,
     "metadata": {},
     "output_type": "execute_result"
    }
   ],
   "source": [
    "np.array(labels)"
   ]
  },
  {
   "cell_type": "code",
   "execution_count": 36,
   "metadata": {},
   "outputs": [],
   "source": [
    "X = np.array(sequences)"
   ]
  },
  {
   "cell_type": "code",
   "execution_count": 37,
   "metadata": {},
   "outputs": [
    {
     "data": {
      "text/plain": [
       "(1080, 30, 1662)"
      ]
     },
     "execution_count": 37,
     "metadata": {},
     "output_type": "execute_result"
    }
   ],
   "source": [
    "X.shape"
   ]
  },
  {
   "cell_type": "code",
   "execution_count": 38,
   "metadata": {},
   "outputs": [],
   "source": [
    "y = to_categorical(labels).astype(int)"
   ]
  },
  {
   "cell_type": "code",
   "execution_count": 39,
   "metadata": {},
   "outputs": [
    {
     "data": {
      "text/plain": [
       "array([[1, 0, 0, ..., 0, 0, 0],\n",
       "       [1, 0, 0, ..., 0, 0, 0],\n",
       "       [1, 0, 0, ..., 0, 0, 0],\n",
       "       ...,\n",
       "       [0, 0, 0, ..., 0, 0, 1],\n",
       "       [0, 0, 0, ..., 0, 0, 1],\n",
       "       [0, 0, 0, ..., 0, 0, 1]])"
      ]
     },
     "execution_count": 39,
     "metadata": {},
     "output_type": "execute_result"
    }
   ],
   "source": [
    "y"
   ]
  },
  {
   "cell_type": "code",
   "execution_count": 40,
   "metadata": {},
   "outputs": [
    {
     "data": {
      "text/plain": [
       "(1080, 18)"
      ]
     },
     "execution_count": 40,
     "metadata": {},
     "output_type": "execute_result"
    }
   ],
   "source": [
    "y.shape"
   ]
  },
  {
   "cell_type": "code",
   "execution_count": 41,
   "metadata": {},
   "outputs": [],
   "source": [
    "X_train, X_test, y_train, y_test = train_test_split(X, y, test_size=0.05)"
   ]
  },
  {
   "cell_type": "code",
   "execution_count": 42,
   "metadata": {},
   "outputs": [
    {
     "data": {
      "text/plain": [
       "(54, 18)"
      ]
     },
     "execution_count": 42,
     "metadata": {},
     "output_type": "execute_result"
    }
   ],
   "source": [
    "y_test.shape"
   ]
  },
  {
   "cell_type": "code",
   "execution_count": 43,
   "metadata": {},
   "outputs": [
    {
     "data": {
      "text/plain": [
       "(1026, 30, 1662)"
      ]
     },
     "execution_count": 43,
     "metadata": {},
     "output_type": "execute_result"
    }
   ],
   "source": [
    "X_train.shape"
   ]
  },
  {
   "attachments": {},
   "cell_type": "markdown",
   "metadata": {},
   "source": [
    "# 7. Build and Train LSTM Neural Network"
   ]
  },
  {
   "cell_type": "code",
   "execution_count": 44,
   "metadata": {},
   "outputs": [],
   "source": [
    "from tensorflow.keras.models import Sequential\n",
    "from tensorflow.keras.layers import LSTM, Dense\n",
    "from tensorflow.keras.callbacks import TensorBoard"
   ]
  },
  {
   "cell_type": "code",
   "execution_count": 45,
   "metadata": {},
   "outputs": [],
   "source": [
    "log_dir = os.path.join('Logs')\n",
    "tb_callback = TensorBoard(log_dir=log_dir)"
   ]
  },
  {
   "cell_type": "code",
   "execution_count": 58,
   "metadata": {},
   "outputs": [],
   "source": [
    "model = Sequential()\n",
    "model.add(LSTM(64, return_sequences=True, activation='relu', input_shape=(30,1662)))\n",
    "model.add(LSTM(128, return_sequences=True, activation='relu'))\n",
    "model.add(LSTM(64, return_sequences=False, activation='relu'))\n",
    "model.add(Dense(64, activation='relu'))\n",
    "model.add(Dense(64, activation='relu'))\n",
    "model.add(Dense(32, activation='relu'))\n",
    "model.add(Dense(actions.shape[0], activation='softmax'))"
   ]
  },
  {
   "cell_type": "code",
   "execution_count": 111,
   "metadata": {},
   "outputs": [],
   "source": [
    "res = [.7, 0.2, 0.1]"
   ]
  },
  {
   "cell_type": "code",
   "execution_count": null,
   "metadata": {},
   "outputs": [
    {
     "ename": "IndexError",
     "evalue": "list index out of range",
     "output_type": "error",
     "traceback": [
      "\u001b[1;31m---------------------------------------------------------------------------\u001b[0m",
      "\u001b[1;31mIndexError\u001b[0m                                Traceback (most recent call last)",
      "\u001b[1;32m~\\AppData\\Local\\Temp\\ipykernel_20660\\2275228372.py\u001b[0m in \u001b[0;36m<module>\u001b[1;34m\u001b[0m\n\u001b[1;32m----> 1\u001b[1;33m \u001b[0mnp\u001b[0m\u001b[1;33m.\u001b[0m\u001b[0margmax\u001b[0m\u001b[1;33m(\u001b[0m\u001b[0mres\u001b[0m\u001b[1;33m[\u001b[0m\u001b[1;36m3\u001b[0m\u001b[1;33m]\u001b[0m\u001b[1;33m)\u001b[0m\u001b[1;33m\u001b[0m\u001b[1;33m\u001b[0m\u001b[0m\n\u001b[0m",
      "\u001b[1;31mIndexError\u001b[0m: list index out of range"
     ]
    }
   ],
   "source": [
    "np.argmax(res[3])"
   ]
  },
  {
   "cell_type": "code",
   "execution_count": 59,
   "metadata": {},
   "outputs": [
    {
     "data": {
      "text/plain": [
       "array(['Hello', 'Indian', 'Sign', 'Language', 'Again', 'I', 'You', 'Man',\n",
       "       'Woman', 'Deaf', 'Hearing', 'Teacher', 'Thankyou', 'Welcome',\n",
       "       'Sorry', 'Namaste', 'How are you', 'My name is'], dtype='<U11')"
      ]
     },
     "execution_count": 59,
     "metadata": {},
     "output_type": "execute_result"
    }
   ],
   "source": [
    "actions"
   ]
  },
  {
   "cell_type": "code",
   "execution_count": 77,
   "metadata": {},
   "outputs": [
    {
     "ename": "IndexError",
     "evalue": "index 125 is out of bounds for axis 0 with size 18",
     "output_type": "error",
     "traceback": [
      "\u001b[1;31m---------------------------------------------------------------------------\u001b[0m",
      "\u001b[1;31mIndexError\u001b[0m                                Traceback (most recent call last)",
      "\u001b[1;32m~\\AppData\\Local\\Temp\\ipykernel_19048\\2941149717.py\u001b[0m in \u001b[0;36m<module>\u001b[1;34m\u001b[0m\n\u001b[1;32m----> 1\u001b[1;33m \u001b[0mactions\u001b[0m\u001b[1;33m[\u001b[0m\u001b[0mnp\u001b[0m\u001b[1;33m.\u001b[0m\u001b[0margmax\u001b[0m\u001b[1;33m(\u001b[0m\u001b[0mres\u001b[0m\u001b[1;33m)\u001b[0m\u001b[1;33m]\u001b[0m\u001b[1;33m\u001b[0m\u001b[1;33m\u001b[0m\u001b[0m\n\u001b[0m",
      "\u001b[1;31mIndexError\u001b[0m: index 125 is out of bounds for axis 0 with size 18"
     ]
    }
   ],
   "source": [
    "actions[np.argmax(res)]"
   ]
  },
  {
   "cell_type": "code",
   "execution_count": 60,
   "metadata": {},
   "outputs": [],
   "source": [
    "model.compile(optimizer='Adam', loss='categorical_crossentropy', metrics=['categorical_accuracy'])"
   ]
  },
  {
   "cell_type": "code",
   "execution_count": 61,
   "metadata": {},
   "outputs": [
    {
     "data": {
      "text/plain": [
       "array([[[ 0.53679073,  0.46250591, -0.61801231, ...,  0.36758962,\n",
       "          0.50737536, -0.04744113],\n",
       "        [ 0.53679717,  0.46294624, -0.61934996, ...,  0.35833526,\n",
       "          0.51858759, -0.03463664],\n",
       "        [ 0.53721344,  0.46323445, -0.63878095, ...,  0.35907167,\n",
       "          0.52808654, -0.030728  ],\n",
       "        ...,\n",
       "        [ 0.58661985,  0.42786261, -0.62244242, ...,  0.36449054,\n",
       "          0.46601436, -0.02009393],\n",
       "        [ 0.58332801,  0.44067794, -0.62375623, ...,  0.37040627,\n",
       "          0.46928138, -0.02387325],\n",
       "        [ 0.58177698,  0.44846374, -0.63200778, ...,  0.37032664,\n",
       "          0.45842537, -0.03069777]],\n",
       "\n",
       "       [[ 0.55235082,  0.4217799 , -0.67345738, ...,  0.        ,\n",
       "          0.        ,  0.        ],\n",
       "        [ 0.55861753,  0.41528934, -0.61502391, ...,  0.        ,\n",
       "          0.        ,  0.        ],\n",
       "        [ 0.56643569,  0.41535059, -0.65092993, ...,  0.09138022,\n",
       "          0.85834062, -0.05714082],\n",
       "        ...,\n",
       "        [ 0.54649293,  0.43221155, -0.6777311 , ...,  0.610636  ,\n",
       "          0.83334321, -0.02374502],\n",
       "        [ 0.54322177,  0.43308944, -0.68219841, ...,  0.60968989,\n",
       "          0.83417243, -0.02705913],\n",
       "        [ 0.54289365,  0.43301773, -0.70260519, ...,  0.        ,\n",
       "          0.        ,  0.        ]],\n",
       "\n",
       "       [[ 0.55779201,  0.42720956, -0.63683045, ...,  0.31696284,\n",
       "          0.61967272, -0.02122562],\n",
       "        [ 0.5581193 ,  0.42638195, -0.63319141, ...,  0.        ,\n",
       "          0.        ,  0.        ],\n",
       "        [ 0.55811483,  0.42548099, -0.62857521, ...,  0.29147831,\n",
       "          0.69948274, -0.02731058],\n",
       "        ...,\n",
       "        [ 0.5470199 ,  0.42290634, -0.63877493, ...,  0.15932679,\n",
       "          0.68638283, -0.04706697],\n",
       "        [ 0.54633975,  0.42293578, -0.63812077, ...,  0.25724393,\n",
       "          0.67713094, -0.03636864],\n",
       "        [ 0.54641104,  0.42298931, -0.63755798, ...,  0.        ,\n",
       "          0.        ,  0.        ]],\n",
       "\n",
       "       ...,\n",
       "\n",
       "       [[ 0.49459228,  0.33636683, -0.98235655, ...,  0.30379778,\n",
       "          0.89898354, -0.04518198],\n",
       "        [ 0.4902935 ,  0.32780495, -0.95348883, ...,  0.        ,\n",
       "          0.        ,  0.        ],\n",
       "        [ 0.48815089,  0.3259536 , -0.88381803, ...,  0.        ,\n",
       "          0.        ,  0.        ],\n",
       "        ...,\n",
       "        [ 0.49358422,  0.32504651, -0.71867889, ...,  0.        ,\n",
       "          0.        ,  0.        ],\n",
       "        [ 0.49383989,  0.32503235, -0.79994237, ...,  0.        ,\n",
       "          0.        ,  0.        ],\n",
       "        [ 0.49798951,  0.32487306, -1.01432621, ...,  0.30004942,\n",
       "          0.89079612, -0.04675042]],\n",
       "\n",
       "       [[ 0.52465379,  0.45113468, -0.74845016, ...,  0.34587932,\n",
       "          0.28333968, -0.01687647],\n",
       "        [ 0.52383548,  0.45186412, -0.74223626, ...,  0.39844009,\n",
       "          0.31583804, -0.00351955],\n",
       "        [ 0.5233866 ,  0.45187041, -0.63634729, ...,  0.39911532,\n",
       "          0.31764403, -0.00811384],\n",
       "        ...,\n",
       "        [ 0.53134024,  0.45135942, -0.52711421, ...,  0.20273215,\n",
       "          0.23079933, -0.00457423],\n",
       "        [ 0.53135467,  0.451334  , -0.51527953, ...,  0.21141113,\n",
       "          0.2396386 , -0.01306733],\n",
       "        [ 0.53132135,  0.45133403, -0.52192724, ...,  0.2451686 ,\n",
       "          0.24704075, -0.01889485]],\n",
       "\n",
       "       [[ 0.6134966 ,  0.36890876, -1.06738925, ...,  0.        ,\n",
       "          0.        ,  0.        ],\n",
       "        [ 0.58581579,  0.37319228, -0.91562164, ...,  0.        ,\n",
       "          0.        ,  0.        ],\n",
       "        [ 0.55615908,  0.39391479, -0.67237413, ...,  0.73635781,\n",
       "          0.74017322, -0.00553447],\n",
       "        ...,\n",
       "        [ 0.56745756,  0.35640034, -0.75707895, ...,  0.61422747,\n",
       "          0.5884676 , -0.08005437],\n",
       "        [ 0.56337792,  0.36659798, -0.70823902, ...,  0.60308439,\n",
       "          0.59792089, -0.06498452],\n",
       "        [ 0.54879278,  0.37931117, -0.58722055, ...,  0.58908695,\n",
       "          0.57468957, -0.04790931]]])"
      ]
     },
     "execution_count": 61,
     "metadata": {},
     "output_type": "execute_result"
    }
   ],
   "source": [
    "X_train"
   ]
  },
  {
   "cell_type": "code",
   "execution_count": 62,
   "metadata": {},
   "outputs": [
    {
     "name": "stdout",
     "output_type": "stream",
     "text": [
      "Epoch 1/250\n",
      "33/33 [==============================] - 12s 113ms/step - loss: 3.6211 - categorical_accuracy: 0.0604\n",
      "Epoch 2/250\n",
      "33/33 [==============================] - 4s 125ms/step - loss: 2.7374 - categorical_accuracy: 0.1062\n",
      "Epoch 3/250\n",
      "33/33 [==============================] - 4s 133ms/step - loss: 2.6046 - categorical_accuracy: 0.1014\n",
      "Epoch 4/250\n",
      "33/33 [==============================] - 4s 133ms/step - loss: 2.3718 - categorical_accuracy: 0.1530\n",
      "Epoch 5/250\n",
      "33/33 [==============================] - 4s 120ms/step - loss: 2.3221 - categorical_accuracy: 0.1686\n",
      "Epoch 6/250\n",
      "33/33 [==============================] - 4s 124ms/step - loss: 2.1417 - categorical_accuracy: 0.2710\n",
      "Epoch 7/250\n",
      "33/33 [==============================] - 4s 117ms/step - loss: 2.2516 - categorical_accuracy: 0.1706\n",
      "Epoch 8/250\n",
      "33/33 [==============================] - 4s 115ms/step - loss: 1.8529 - categorical_accuracy: 0.2807\n",
      "Epoch 9/250\n",
      "33/33 [==============================] - 4s 133ms/step - loss: 1.7361 - categorical_accuracy: 0.3411\n",
      "Epoch 10/250\n",
      "33/33 [==============================] - 4s 119ms/step - loss: 1.5257 - categorical_accuracy: 0.4006\n",
      "Epoch 11/250\n",
      "33/33 [==============================] - 4s 122ms/step - loss: 1.9764 - categorical_accuracy: 0.2583\n",
      "Epoch 12/250\n",
      "33/33 [==============================] - 4s 118ms/step - loss: 1.7091 - categorical_accuracy: 0.3889\n",
      "Epoch 13/250\n",
      "33/33 [==============================] - 4s 117ms/step - loss: 1.3568 - categorical_accuracy: 0.4513\n",
      "Epoch 14/250\n",
      "33/33 [==============================] - 4s 127ms/step - loss: 1.2318 - categorical_accuracy: 0.5224\n",
      "Epoch 15/250\n",
      "33/33 [==============================] - 4s 116ms/step - loss: 2.3485 - categorical_accuracy: 0.1881\n",
      "Epoch 16/250\n",
      "33/33 [==============================] - 4s 120ms/step - loss: 2.2065 - categorical_accuracy: 0.2096\n",
      "Epoch 17/250\n",
      "33/33 [==============================] - 4s 122ms/step - loss: 1.7851 - categorical_accuracy: 0.3138\n",
      "Epoch 18/250\n",
      "33/33 [==============================] - 4s 119ms/step - loss: 1.6121 - categorical_accuracy: 0.3957\n",
      "Epoch 19/250\n",
      "33/33 [==============================] - 4s 118ms/step - loss: 1.4019 - categorical_accuracy: 0.4581\n",
      "Epoch 20/250\n",
      "33/33 [==============================] - 4s 123ms/step - loss: 1.8148 - categorical_accuracy: 0.3762\n",
      "Epoch 21/250\n",
      "33/33 [==============================] - 4s 113ms/step - loss: 1.2443 - categorical_accuracy: 0.5000\n",
      "Epoch 22/250\n",
      "33/33 [==============================] - 4s 114ms/step - loss: 1.3470 - categorical_accuracy: 0.5029\n",
      "Epoch 23/250\n",
      "33/33 [==============================] - 4s 122ms/step - loss: 1.0473 - categorical_accuracy: 0.5936\n",
      "Epoch 24/250\n",
      "33/33 [==============================] - 4s 119ms/step - loss: 1.1020 - categorical_accuracy: 0.6082\n",
      "Epoch 25/250\n",
      "33/33 [==============================] - 4s 119ms/step - loss: 0.9281 - categorical_accuracy: 0.6394\n",
      "Epoch 26/250\n",
      "33/33 [==============================] - 4s 124ms/step - loss: 1.4866 - categorical_accuracy: 0.4951\n",
      "Epoch 27/250\n",
      "33/33 [==============================] - 4s 120ms/step - loss: 1.0508 - categorical_accuracy: 0.6082\n",
      "Epoch 28/250\n",
      "33/33 [==============================] - 4s 112ms/step - loss: 1.0963 - categorical_accuracy: 0.5702\n",
      "Epoch 29/250\n",
      "33/33 [==============================] - 4s 121ms/step - loss: 1.3223 - categorical_accuracy: 0.5175\n",
      "Epoch 30/250\n",
      "33/33 [==============================] - 4s 119ms/step - loss: 1.1661 - categorical_accuracy: 0.5838\n",
      "Epoch 31/250\n",
      "33/33 [==============================] - 4s 126ms/step - loss: 0.9187 - categorical_accuracy: 0.6413\n",
      "Epoch 32/250\n",
      "33/33 [==============================] - 4s 118ms/step - loss: 0.8816 - categorical_accuracy: 0.6764\n",
      "Epoch 33/250\n",
      "33/33 [==============================] - 4s 120ms/step - loss: 0.7229 - categorical_accuracy: 0.7115\n",
      "Epoch 34/250\n",
      "33/33 [==============================] - 4s 123ms/step - loss: 0.7064 - categorical_accuracy: 0.7115\n",
      "Epoch 35/250\n",
      "33/33 [==============================] - 4s 113ms/step - loss: 0.7064 - categorical_accuracy: 0.7047\n",
      "Epoch 36/250\n",
      "33/33 [==============================] - 4s 116ms/step - loss: 0.7138 - categorical_accuracy: 0.7300\n",
      "Epoch 37/250\n",
      "33/33 [==============================] - 4s 121ms/step - loss: 0.7222 - categorical_accuracy: 0.7154\n",
      "Epoch 38/250\n",
      "33/33 [==============================] - 4s 119ms/step - loss: 0.5786 - categorical_accuracy: 0.7661\n",
      "Epoch 39/250\n",
      "33/33 [==============================] - 4s 125ms/step - loss: 0.5781 - categorical_accuracy: 0.7563\n",
      "Epoch 40/250\n",
      "33/33 [==============================] - 4s 119ms/step - loss: 0.7134 - categorical_accuracy: 0.7320\n",
      "Epoch 41/250\n",
      "33/33 [==============================] - 4s 117ms/step - loss: 0.5837 - categorical_accuracy: 0.7671\n",
      "Epoch 42/250\n",
      "33/33 [==============================] - 4s 114ms/step - loss: 0.5306 - categorical_accuracy: 0.7875\n",
      "Epoch 43/250\n",
      "33/33 [==============================] - 4s 117ms/step - loss: 0.7694 - categorical_accuracy: 0.6959\n",
      "Epoch 44/250\n",
      "33/33 [==============================] - 4s 119ms/step - loss: 0.5761 - categorical_accuracy: 0.7593\n",
      "Epoch 45/250\n",
      "33/33 [==============================] - 4s 123ms/step - loss: 0.6645 - categorical_accuracy: 0.7612\n",
      "Epoch 46/250\n",
      "33/33 [==============================] - 4s 118ms/step - loss: 1.0524 - categorical_accuracy: 0.6179\n",
      "Epoch 47/250\n",
      "33/33 [==============================] - 4s 117ms/step - loss: 0.6657 - categorical_accuracy: 0.7476\n",
      "Epoch 48/250\n",
      "33/33 [==============================] - 4s 120ms/step - loss: 0.5191 - categorical_accuracy: 0.8070\n",
      "Epoch 49/250\n",
      "33/33 [==============================] - 4s 111ms/step - loss: 0.4792 - categorical_accuracy: 0.8119\n",
      "Epoch 50/250\n",
      "33/33 [==============================] - 4s 121ms/step - loss: 0.5005 - categorical_accuracy: 0.8187\n",
      "Epoch 51/250\n",
      "33/33 [==============================] - 4s 118ms/step - loss: 0.3553 - categorical_accuracy: 0.8587\n",
      "Epoch 52/250\n",
      "33/33 [==============================] - 4s 120ms/step - loss: 0.3625 - categorical_accuracy: 0.8558\n",
      "Epoch 53/250\n",
      "33/33 [==============================] - 4s 122ms/step - loss: 0.4540 - categorical_accuracy: 0.8285\n",
      "Epoch 54/250\n",
      "33/33 [==============================] - 4s 120ms/step - loss: 0.5161 - categorical_accuracy: 0.7943\n",
      "Epoch 55/250\n",
      "33/33 [==============================] - 4s 121ms/step - loss: 0.3323 - categorical_accuracy: 0.8752\n",
      "Epoch 56/250\n",
      "33/33 [==============================] - 4s 116ms/step - loss: 0.6228 - categorical_accuracy: 0.8070\n",
      "Epoch 57/250\n",
      "33/33 [==============================] - 4s 120ms/step - loss: 0.3478 - categorical_accuracy: 0.8752\n",
      "Epoch 58/250\n",
      "33/33 [==============================] - 4s 118ms/step - loss: 0.3148 - categorical_accuracy: 0.8821\n",
      "Epoch 59/250\n",
      "33/33 [==============================] - 4s 124ms/step - loss: 0.2798 - categorical_accuracy: 0.9016\n",
      "Epoch 60/250\n",
      "33/33 [==============================] - 4s 117ms/step - loss: 0.4219 - categorical_accuracy: 0.8519\n",
      "Epoch 61/250\n",
      "33/33 [==============================] - 4s 123ms/step - loss: 0.3127 - categorical_accuracy: 0.8782\n",
      "Epoch 62/250\n",
      "33/33 [==============================] - 4s 114ms/step - loss: 0.3897 - categorical_accuracy: 0.8460\n",
      "Epoch 63/250\n",
      "33/33 [==============================] - 4s 113ms/step - loss: 0.3071 - categorical_accuracy: 0.8801\n",
      "Epoch 64/250\n",
      "33/33 [==============================] - 4s 122ms/step - loss: 0.2615 - categorical_accuracy: 0.8918\n",
      "Epoch 65/250\n",
      "33/33 [==============================] - 4s 118ms/step - loss: 0.1760 - categorical_accuracy: 0.9318\n",
      "Epoch 66/250\n",
      "33/33 [==============================] - 4s 119ms/step - loss: 0.3324 - categorical_accuracy: 0.8830\n",
      "Epoch 67/250\n",
      "33/33 [==============================] - 4s 121ms/step - loss: 0.3620 - categorical_accuracy: 0.8645\n",
      "Epoch 68/250\n",
      "33/33 [==============================] - 4s 118ms/step - loss: 0.4718 - categorical_accuracy: 0.8197\n",
      "Epoch 69/250\n",
      "33/33 [==============================] - 4s 118ms/step - loss: 0.4352 - categorical_accuracy: 0.8314\n",
      "Epoch 70/250\n",
      "33/33 [==============================] - 4s 118ms/step - loss: 0.2360 - categorical_accuracy: 0.9074\n",
      "Epoch 71/250\n",
      "33/33 [==============================] - 4s 121ms/step - loss: 0.3158 - categorical_accuracy: 0.8694\n",
      "Epoch 72/250\n",
      "33/33 [==============================] - 4s 130ms/step - loss: 0.9700 - categorical_accuracy: 0.7281\n",
      "Epoch 73/250\n",
      "33/33 [==============================] - 4s 123ms/step - loss: 1.8070 - categorical_accuracy: 0.3548\n",
      "Epoch 74/250\n",
      "33/33 [==============================] - 4s 119ms/step - loss: 1.1219 - categorical_accuracy: 0.5867\n",
      "Epoch 75/250\n",
      "33/33 [==============================] - 4s 122ms/step - loss: 0.6658 - categorical_accuracy: 0.7651\n",
      "Epoch 76/250\n",
      "33/33 [==============================] - 4s 116ms/step - loss: 0.5121 - categorical_accuracy: 0.8099\n",
      "Epoch 77/250\n",
      "33/33 [==============================] - 4s 119ms/step - loss: 0.3529 - categorical_accuracy: 0.8860\n",
      "Epoch 78/250\n",
      "33/33 [==============================] - 4s 121ms/step - loss: 0.3387 - categorical_accuracy: 0.8635\n",
      "Epoch 79/250\n",
      "33/33 [==============================] - 4s 122ms/step - loss: 0.2672 - categorical_accuracy: 0.8977\n",
      "Epoch 80/250\n",
      "33/33 [==============================] - 4s 119ms/step - loss: 0.3255 - categorical_accuracy: 0.8733\n",
      "Epoch 81/250\n",
      "33/33 [==============================] - 4s 120ms/step - loss: 0.2041 - categorical_accuracy: 0.9230\n",
      "Epoch 82/250\n",
      "33/33 [==============================] - 4s 124ms/step - loss: 0.3025 - categorical_accuracy: 0.8791\n",
      "Epoch 83/250\n",
      "33/33 [==============================] - 4s 114ms/step - loss: 0.2747 - categorical_accuracy: 0.9055\n",
      "Epoch 84/250\n",
      "33/33 [==============================] - 4s 116ms/step - loss: 0.2981 - categorical_accuracy: 0.8908\n",
      "Epoch 85/250\n",
      "33/33 [==============================] - 4s 119ms/step - loss: 0.1984 - categorical_accuracy: 0.9250\n",
      "Epoch 86/250\n",
      "33/33 [==============================] - 4s 122ms/step - loss: 0.1843 - categorical_accuracy: 0.9347\n",
      "Epoch 87/250\n",
      "33/33 [==============================] - 4s 125ms/step - loss: 0.2333 - categorical_accuracy: 0.9064\n",
      "Epoch 88/250\n",
      "33/33 [==============================] - 4s 121ms/step - loss: 0.3565 - categorical_accuracy: 0.8577\n",
      "Epoch 89/250\n",
      "33/33 [==============================] - 4s 119ms/step - loss: 0.2751 - categorical_accuracy: 0.8899\n",
      "Epoch 90/250\n",
      "33/33 [==============================] - 4s 117ms/step - loss: 0.2753 - categorical_accuracy: 0.8811\n",
      "Epoch 91/250\n",
      "33/33 [==============================] - 4s 122ms/step - loss: 0.2178 - categorical_accuracy: 0.9181\n",
      "Epoch 92/250\n",
      "33/33 [==============================] - 4s 119ms/step - loss: 0.3283 - categorical_accuracy: 0.8723\n",
      "Epoch 93/250\n",
      "33/33 [==============================] - 4s 120ms/step - loss: 0.3314 - categorical_accuracy: 0.8704\n",
      "Epoch 94/250\n",
      "33/33 [==============================] - 4s 119ms/step - loss: 0.1792 - categorical_accuracy: 0.9279\n",
      "Epoch 95/250\n",
      "33/33 [==============================] - 4s 123ms/step - loss: 0.1448 - categorical_accuracy: 0.9444\n",
      "Epoch 96/250\n",
      "33/33 [==============================] - 4s 119ms/step - loss: 0.1529 - categorical_accuracy: 0.9405\n",
      "Epoch 97/250\n",
      "33/33 [==============================] - 4s 115ms/step - loss: 0.1094 - categorical_accuracy: 0.9542\n",
      "Epoch 98/250\n",
      "33/33 [==============================] - 4s 118ms/step - loss: 0.1375 - categorical_accuracy: 0.9454\n",
      "Epoch 99/250\n",
      "33/33 [==============================] - 4s 125ms/step - loss: 0.1675 - categorical_accuracy: 0.9435\n",
      "Epoch 100/250\n",
      "19/33 [================>.............] - ETA: 1s - loss: 0.1056 - categorical_accuracy: 0.9622"
     ]
    },
    {
     "ename": "KeyboardInterrupt",
     "evalue": "",
     "output_type": "error",
     "traceback": [
      "\u001b[1;31m---------------------------------------------------------------------------\u001b[0m",
      "\u001b[1;31mKeyboardInterrupt\u001b[0m                         Traceback (most recent call last)",
      "\u001b[1;32m~\\AppData\\Local\\Temp\\ipykernel_9996\\3511062110.py\u001b[0m in \u001b[0;36m<module>\u001b[1;34m\u001b[0m\n\u001b[1;32m----> 1\u001b[1;33m \u001b[0mmodel\u001b[0m\u001b[1;33m.\u001b[0m\u001b[0mfit\u001b[0m\u001b[1;33m(\u001b[0m\u001b[0mX_train\u001b[0m\u001b[1;33m,\u001b[0m \u001b[0my_train\u001b[0m\u001b[1;33m,\u001b[0m \u001b[0mepochs\u001b[0m\u001b[1;33m=\u001b[0m\u001b[1;36m250\u001b[0m\u001b[1;33m,\u001b[0m \u001b[0mcallbacks\u001b[0m\u001b[1;33m=\u001b[0m\u001b[1;33m[\u001b[0m\u001b[0mtb_callback\u001b[0m\u001b[1;33m]\u001b[0m\u001b[1;33m)\u001b[0m\u001b[1;33m\u001b[0m\u001b[1;33m\u001b[0m\u001b[0m\n\u001b[0m",
      "\u001b[1;32mc:\\Users\\ABHINAV ANAND\\miniconda3\\lib\\site-packages\\keras\\utils\\traceback_utils.py\u001b[0m in \u001b[0;36merror_handler\u001b[1;34m(*args, **kwargs)\u001b[0m\n\u001b[0;32m     62\u001b[0m     \u001b[0mfiltered_tb\u001b[0m \u001b[1;33m=\u001b[0m \u001b[1;32mNone\u001b[0m\u001b[1;33m\u001b[0m\u001b[1;33m\u001b[0m\u001b[0m\n\u001b[0;32m     63\u001b[0m     \u001b[1;32mtry\u001b[0m\u001b[1;33m:\u001b[0m\u001b[1;33m\u001b[0m\u001b[1;33m\u001b[0m\u001b[0m\n\u001b[1;32m---> 64\u001b[1;33m       \u001b[1;32mreturn\u001b[0m \u001b[0mfn\u001b[0m\u001b[1;33m(\u001b[0m\u001b[1;33m*\u001b[0m\u001b[0margs\u001b[0m\u001b[1;33m,\u001b[0m \u001b[1;33m**\u001b[0m\u001b[0mkwargs\u001b[0m\u001b[1;33m)\u001b[0m\u001b[1;33m\u001b[0m\u001b[1;33m\u001b[0m\u001b[0m\n\u001b[0m\u001b[0;32m     65\u001b[0m     \u001b[1;32mexcept\u001b[0m \u001b[0mException\u001b[0m \u001b[1;32mas\u001b[0m \u001b[0me\u001b[0m\u001b[1;33m:\u001b[0m  \u001b[1;31m# pylint: disable=broad-except\u001b[0m\u001b[1;33m\u001b[0m\u001b[1;33m\u001b[0m\u001b[0m\n\u001b[0;32m     66\u001b[0m       \u001b[0mfiltered_tb\u001b[0m \u001b[1;33m=\u001b[0m \u001b[0m_process_traceback_frames\u001b[0m\u001b[1;33m(\u001b[0m\u001b[0me\u001b[0m\u001b[1;33m.\u001b[0m\u001b[0m__traceback__\u001b[0m\u001b[1;33m)\u001b[0m\u001b[1;33m\u001b[0m\u001b[1;33m\u001b[0m\u001b[0m\n",
      "\u001b[1;32mc:\\Users\\ABHINAV ANAND\\miniconda3\\lib\\site-packages\\keras\\engine\\training.py\u001b[0m in \u001b[0;36mfit\u001b[1;34m(self, x, y, batch_size, epochs, verbose, callbacks, validation_split, validation_data, shuffle, class_weight, sample_weight, initial_epoch, steps_per_epoch, validation_steps, validation_batch_size, validation_freq, max_queue_size, workers, use_multiprocessing)\u001b[0m\n\u001b[0;32m   1382\u001b[0m                 _r=1):\n\u001b[0;32m   1383\u001b[0m               \u001b[0mcallbacks\u001b[0m\u001b[1;33m.\u001b[0m\u001b[0mon_train_batch_begin\u001b[0m\u001b[1;33m(\u001b[0m\u001b[0mstep\u001b[0m\u001b[1;33m)\u001b[0m\u001b[1;33m\u001b[0m\u001b[1;33m\u001b[0m\u001b[0m\n\u001b[1;32m-> 1384\u001b[1;33m               \u001b[0mtmp_logs\u001b[0m \u001b[1;33m=\u001b[0m \u001b[0mself\u001b[0m\u001b[1;33m.\u001b[0m\u001b[0mtrain_function\u001b[0m\u001b[1;33m(\u001b[0m\u001b[0miterator\u001b[0m\u001b[1;33m)\u001b[0m\u001b[1;33m\u001b[0m\u001b[1;33m\u001b[0m\u001b[0m\n\u001b[0m\u001b[0;32m   1385\u001b[0m               \u001b[1;32mif\u001b[0m \u001b[0mdata_handler\u001b[0m\u001b[1;33m.\u001b[0m\u001b[0mshould_sync\u001b[0m\u001b[1;33m:\u001b[0m\u001b[1;33m\u001b[0m\u001b[1;33m\u001b[0m\u001b[0m\n\u001b[0;32m   1386\u001b[0m                 \u001b[0mcontext\u001b[0m\u001b[1;33m.\u001b[0m\u001b[0masync_wait\u001b[0m\u001b[1;33m(\u001b[0m\u001b[1;33m)\u001b[0m\u001b[1;33m\u001b[0m\u001b[1;33m\u001b[0m\u001b[0m\n",
      "\u001b[1;32m~\\AppData\\Roaming\\Python\\Python37\\site-packages\\tensorflow\\python\\util\\traceback_utils.py\u001b[0m in \u001b[0;36merror_handler\u001b[1;34m(*args, **kwargs)\u001b[0m\n\u001b[0;32m    148\u001b[0m     \u001b[0mfiltered_tb\u001b[0m \u001b[1;33m=\u001b[0m \u001b[1;32mNone\u001b[0m\u001b[1;33m\u001b[0m\u001b[1;33m\u001b[0m\u001b[0m\n\u001b[0;32m    149\u001b[0m     \u001b[1;32mtry\u001b[0m\u001b[1;33m:\u001b[0m\u001b[1;33m\u001b[0m\u001b[1;33m\u001b[0m\u001b[0m\n\u001b[1;32m--> 150\u001b[1;33m       \u001b[1;32mreturn\u001b[0m \u001b[0mfn\u001b[0m\u001b[1;33m(\u001b[0m\u001b[1;33m*\u001b[0m\u001b[0margs\u001b[0m\u001b[1;33m,\u001b[0m \u001b[1;33m**\u001b[0m\u001b[0mkwargs\u001b[0m\u001b[1;33m)\u001b[0m\u001b[1;33m\u001b[0m\u001b[1;33m\u001b[0m\u001b[0m\n\u001b[0m\u001b[0;32m    151\u001b[0m     \u001b[1;32mexcept\u001b[0m \u001b[0mException\u001b[0m \u001b[1;32mas\u001b[0m \u001b[0me\u001b[0m\u001b[1;33m:\u001b[0m\u001b[1;33m\u001b[0m\u001b[1;33m\u001b[0m\u001b[0m\n\u001b[0;32m    152\u001b[0m       \u001b[0mfiltered_tb\u001b[0m \u001b[1;33m=\u001b[0m \u001b[0m_process_traceback_frames\u001b[0m\u001b[1;33m(\u001b[0m\u001b[0me\u001b[0m\u001b[1;33m.\u001b[0m\u001b[0m__traceback__\u001b[0m\u001b[1;33m)\u001b[0m\u001b[1;33m\u001b[0m\u001b[1;33m\u001b[0m\u001b[0m\n",
      "\u001b[1;32m~\\AppData\\Roaming\\Python\\Python37\\site-packages\\tensorflow\\python\\eager\\def_function.py\u001b[0m in \u001b[0;36m__call__\u001b[1;34m(self, *args, **kwds)\u001b[0m\n\u001b[0;32m    913\u001b[0m \u001b[1;33m\u001b[0m\u001b[0m\n\u001b[0;32m    914\u001b[0m       \u001b[1;32mwith\u001b[0m \u001b[0mOptionalXlaContext\u001b[0m\u001b[1;33m(\u001b[0m\u001b[0mself\u001b[0m\u001b[1;33m.\u001b[0m\u001b[0m_jit_compile\u001b[0m\u001b[1;33m)\u001b[0m\u001b[1;33m:\u001b[0m\u001b[1;33m\u001b[0m\u001b[1;33m\u001b[0m\u001b[0m\n\u001b[1;32m--> 915\u001b[1;33m         \u001b[0mresult\u001b[0m \u001b[1;33m=\u001b[0m \u001b[0mself\u001b[0m\u001b[1;33m.\u001b[0m\u001b[0m_call\u001b[0m\u001b[1;33m(\u001b[0m\u001b[1;33m*\u001b[0m\u001b[0margs\u001b[0m\u001b[1;33m,\u001b[0m \u001b[1;33m**\u001b[0m\u001b[0mkwds\u001b[0m\u001b[1;33m)\u001b[0m\u001b[1;33m\u001b[0m\u001b[1;33m\u001b[0m\u001b[0m\n\u001b[0m\u001b[0;32m    916\u001b[0m \u001b[1;33m\u001b[0m\u001b[0m\n\u001b[0;32m    917\u001b[0m       \u001b[0mnew_tracing_count\u001b[0m \u001b[1;33m=\u001b[0m \u001b[0mself\u001b[0m\u001b[1;33m.\u001b[0m\u001b[0mexperimental_get_tracing_count\u001b[0m\u001b[1;33m(\u001b[0m\u001b[1;33m)\u001b[0m\u001b[1;33m\u001b[0m\u001b[1;33m\u001b[0m\u001b[0m\n",
      "\u001b[1;32m~\\AppData\\Roaming\\Python\\Python37\\site-packages\\tensorflow\\python\\eager\\def_function.py\u001b[0m in \u001b[0;36m_call\u001b[1;34m(self, *args, **kwds)\u001b[0m\n\u001b[0;32m    945\u001b[0m       \u001b[1;31m# In this case we have created variables on the first call, so we run the\u001b[0m\u001b[1;33m\u001b[0m\u001b[1;33m\u001b[0m\u001b[1;33m\u001b[0m\u001b[0m\n\u001b[0;32m    946\u001b[0m       \u001b[1;31m# defunned version which is guaranteed to never create variables.\u001b[0m\u001b[1;33m\u001b[0m\u001b[1;33m\u001b[0m\u001b[1;33m\u001b[0m\u001b[0m\n\u001b[1;32m--> 947\u001b[1;33m       \u001b[1;32mreturn\u001b[0m \u001b[0mself\u001b[0m\u001b[1;33m.\u001b[0m\u001b[0m_stateless_fn\u001b[0m\u001b[1;33m(\u001b[0m\u001b[1;33m*\u001b[0m\u001b[0margs\u001b[0m\u001b[1;33m,\u001b[0m \u001b[1;33m**\u001b[0m\u001b[0mkwds\u001b[0m\u001b[1;33m)\u001b[0m  \u001b[1;31m# pylint: disable=not-callable\u001b[0m\u001b[1;33m\u001b[0m\u001b[1;33m\u001b[0m\u001b[0m\n\u001b[0m\u001b[0;32m    948\u001b[0m     \u001b[1;32melif\u001b[0m \u001b[0mself\u001b[0m\u001b[1;33m.\u001b[0m\u001b[0m_stateful_fn\u001b[0m \u001b[1;32mis\u001b[0m \u001b[1;32mnot\u001b[0m \u001b[1;32mNone\u001b[0m\u001b[1;33m:\u001b[0m\u001b[1;33m\u001b[0m\u001b[1;33m\u001b[0m\u001b[0m\n\u001b[0;32m    949\u001b[0m       \u001b[1;31m# Release the lock early so that multiple threads can perform the call\u001b[0m\u001b[1;33m\u001b[0m\u001b[1;33m\u001b[0m\u001b[1;33m\u001b[0m\u001b[0m\n",
      "\u001b[1;32m~\\AppData\\Roaming\\Python\\Python37\\site-packages\\tensorflow\\python\\eager\\function.py\u001b[0m in \u001b[0;36m__call__\u001b[1;34m(self, *args, **kwargs)\u001b[0m\n\u001b[0;32m   2955\u001b[0m        filtered_flat_args) = self._maybe_define_function(args, kwargs)\n\u001b[0;32m   2956\u001b[0m     return graph_function._call_flat(\n\u001b[1;32m-> 2957\u001b[1;33m         filtered_flat_args, captured_inputs=graph_function.captured_inputs)  # pylint: disable=protected-access\n\u001b[0m\u001b[0;32m   2958\u001b[0m \u001b[1;33m\u001b[0m\u001b[0m\n\u001b[0;32m   2959\u001b[0m   \u001b[1;33m@\u001b[0m\u001b[0mproperty\u001b[0m\u001b[1;33m\u001b[0m\u001b[1;33m\u001b[0m\u001b[0m\n",
      "\u001b[1;32m~\\AppData\\Roaming\\Python\\Python37\\site-packages\\tensorflow\\python\\eager\\function.py\u001b[0m in \u001b[0;36m_call_flat\u001b[1;34m(self, args, captured_inputs, cancellation_manager)\u001b[0m\n\u001b[0;32m   1852\u001b[0m       \u001b[1;31m# No tape is watching; skip to running the function.\u001b[0m\u001b[1;33m\u001b[0m\u001b[1;33m\u001b[0m\u001b[1;33m\u001b[0m\u001b[0m\n\u001b[0;32m   1853\u001b[0m       return self._build_call_outputs(self._inference_function.call(\n\u001b[1;32m-> 1854\u001b[1;33m           ctx, args, cancellation_manager=cancellation_manager))\n\u001b[0m\u001b[0;32m   1855\u001b[0m     forward_backward = self._select_forward_and_backward_functions(\n\u001b[0;32m   1856\u001b[0m         \u001b[0margs\u001b[0m\u001b[1;33m,\u001b[0m\u001b[1;33m\u001b[0m\u001b[1;33m\u001b[0m\u001b[0m\n",
      "\u001b[1;32m~\\AppData\\Roaming\\Python\\Python37\\site-packages\\tensorflow\\python\\eager\\function.py\u001b[0m in \u001b[0;36mcall\u001b[1;34m(self, ctx, args, cancellation_manager)\u001b[0m\n\u001b[0;32m    502\u001b[0m               \u001b[0minputs\u001b[0m\u001b[1;33m=\u001b[0m\u001b[0margs\u001b[0m\u001b[1;33m,\u001b[0m\u001b[1;33m\u001b[0m\u001b[1;33m\u001b[0m\u001b[0m\n\u001b[0;32m    503\u001b[0m               \u001b[0mattrs\u001b[0m\u001b[1;33m=\u001b[0m\u001b[0mattrs\u001b[0m\u001b[1;33m,\u001b[0m\u001b[1;33m\u001b[0m\u001b[1;33m\u001b[0m\u001b[0m\n\u001b[1;32m--> 504\u001b[1;33m               ctx=ctx)\n\u001b[0m\u001b[0;32m    505\u001b[0m         \u001b[1;32melse\u001b[0m\u001b[1;33m:\u001b[0m\u001b[1;33m\u001b[0m\u001b[1;33m\u001b[0m\u001b[0m\n\u001b[0;32m    506\u001b[0m           outputs = execute.execute_with_cancellation(\n",
      "\u001b[1;32m~\\AppData\\Roaming\\Python\\Python37\\site-packages\\tensorflow\\python\\eager\\execute.py\u001b[0m in \u001b[0;36mquick_execute\u001b[1;34m(op_name, num_outputs, inputs, attrs, ctx, name)\u001b[0m\n\u001b[0;32m     53\u001b[0m     \u001b[0mctx\u001b[0m\u001b[1;33m.\u001b[0m\u001b[0mensure_initialized\u001b[0m\u001b[1;33m(\u001b[0m\u001b[1;33m)\u001b[0m\u001b[1;33m\u001b[0m\u001b[1;33m\u001b[0m\u001b[0m\n\u001b[0;32m     54\u001b[0m     tensors = pywrap_tfe.TFE_Py_Execute(ctx._handle, device_name, op_name,\n\u001b[1;32m---> 55\u001b[1;33m                                         inputs, attrs, num_outputs)\n\u001b[0m\u001b[0;32m     56\u001b[0m   \u001b[1;32mexcept\u001b[0m \u001b[0mcore\u001b[0m\u001b[1;33m.\u001b[0m\u001b[0m_NotOkStatusException\u001b[0m \u001b[1;32mas\u001b[0m \u001b[0me\u001b[0m\u001b[1;33m:\u001b[0m\u001b[1;33m\u001b[0m\u001b[1;33m\u001b[0m\u001b[0m\n\u001b[0;32m     57\u001b[0m     \u001b[1;32mif\u001b[0m \u001b[0mname\u001b[0m \u001b[1;32mis\u001b[0m \u001b[1;32mnot\u001b[0m \u001b[1;32mNone\u001b[0m\u001b[1;33m:\u001b[0m\u001b[1;33m\u001b[0m\u001b[1;33m\u001b[0m\u001b[0m\n",
      "\u001b[1;31mKeyboardInterrupt\u001b[0m: "
     ]
    }
   ],
   "source": [
    "model.fit(X_train, y_train, epochs=250, callbacks=[tb_callback])"
   ]
  },
  {
   "cell_type": "code",
   "execution_count": 63,
   "metadata": {},
   "outputs": [
    {
     "name": "stdout",
     "output_type": "stream",
     "text": [
      "Model: \"sequential_4\"\n",
      "_________________________________________________________________\n",
      " Layer (type)                Output Shape              Param #   \n",
      "=================================================================\n",
      " lstm_14 (LSTM)              (None, 30, 64)            442112    \n",
      "                                                                 \n",
      " lstm_15 (LSTM)              (None, 30, 128)           98816     \n",
      "                                                                 \n",
      " lstm_16 (LSTM)              (None, 64)                49408     \n",
      "                                                                 \n",
      " dense_6 (Dense)             (None, 64)                4160      \n",
      "                                                                 \n",
      " dense_7 (Dense)             (None, 64)                4160      \n",
      "                                                                 \n",
      " dense_8 (Dense)             (None, 32)                2080      \n",
      "                                                                 \n",
      " dense_9 (Dense)             (None, 18)                594       \n",
      "                                                                 \n",
      "=================================================================\n",
      "Total params: 601,330\n",
      "Trainable params: 601,330\n",
      "Non-trainable params: 0\n",
      "_________________________________________________________________\n"
     ]
    }
   ],
   "source": [
    "model.summary()"
   ]
  },
  {
   "attachments": {},
   "cell_type": "markdown",
   "metadata": {},
   "source": [
    "# 8. Make Predictions"
   ]
  },
  {
   "cell_type": "code",
   "execution_count": 64,
   "metadata": {},
   "outputs": [],
   "source": [
    "res = model.predict(X_test)"
   ]
  },
  {
   "cell_type": "code",
   "execution_count": null,
   "metadata": {},
   "outputs": [
    {
     "data": {
      "text/plain": [
       "3"
      ]
     },
     "execution_count": 75,
     "metadata": {},
     "output_type": "execute_result"
    }
   ],
   "source": [
    "np.argmax(res[4])"
   ]
  },
  {
   "cell_type": "code",
   "execution_count": null,
   "metadata": {},
   "outputs": [
    {
     "data": {
      "text/plain": [
       "'Language'"
      ]
     },
     "execution_count": 76,
     "metadata": {},
     "output_type": "execute_result"
    }
   ],
   "source": [
    "actions[np.argmax(res[4])]"
   ]
  },
  {
   "cell_type": "code",
   "execution_count": 122,
   "metadata": {},
   "outputs": [
    {
     "data": {
      "text/plain": [
       "'Teacher'"
      ]
     },
     "execution_count": 122,
     "metadata": {},
     "output_type": "execute_result"
    }
   ],
   "source": [
    "actions[np.argmax(y_test[4])]"
   ]
  },
  {
   "attachments": {},
   "cell_type": "markdown",
   "metadata": {},
   "source": [
    "# 9. Save Weights"
   ]
  },
  {
   "cell_type": "code",
   "execution_count": 65,
   "metadata": {},
   "outputs": [],
   "source": [
    "model.save('action4.h5')"
   ]
  },
  {
   "cell_type": "code",
   "execution_count": null,
   "metadata": {},
   "outputs": [],
   "source": [
    "model = Sequential()"
   ]
  },
  {
   "cell_type": "code",
   "execution_count": null,
   "metadata": {},
   "outputs": [
    {
     "name": "stderr",
     "output_type": "stream",
     "text": [
      "ERROR: Invalid requirement: \"'h5py==2.10.0'\"\n"
     ]
    }
   ],
   "source": [
    "!pip install 'h5py==2.10.0' --force-reinstall"
   ]
  },
  {
   "cell_type": "code",
   "execution_count": 49,
   "metadata": {},
   "outputs": [],
   "source": [
    "from tensorflow.keras.models import load_model\n",
    "model = load_model('./action3.h5' , compile=False)"
   ]
  },
  {
   "cell_type": "code",
   "execution_count": 50,
   "metadata": {},
   "outputs": [],
   "source": [
    "model.compile(optimizer='Adam', loss='categorical_crossentropy', metrics=['categorical_accuracy'])"
   ]
  },
  {
   "cell_type": "code",
   "execution_count": 51,
   "metadata": {},
   "outputs": [
    {
     "name": "stdout",
     "output_type": "stream",
     "text": [
      "Model: \"sequential_2\"\n",
      "_________________________________________________________________\n",
      " Layer (type)                Output Shape              Param #   \n",
      "=================================================================\n",
      " lstm_6 (LSTM)               (None, 30, 64)            442112    \n",
      "                                                                 \n",
      " lstm_7 (LSTM)               (None, 30, 128)           98816     \n",
      "                                                                 \n",
      " lstm_8 (LSTM)               (None, 64)                49408     \n",
      "                                                                 \n",
      " dense_6 (Dense)             (None, 64)                4160      \n",
      "                                                                 \n",
      " dense_7 (Dense)             (None, 32)                2080      \n",
      "                                                                 \n",
      " dense_8 (Dense)             (None, 18)                594       \n",
      "                                                                 \n",
      "=================================================================\n",
      "Total params: 597,170\n",
      "Trainable params: 597,170\n",
      "Non-trainable params: 0\n",
      "_________________________________________________________________\n"
     ]
    }
   ],
   "source": [
    "model.summary()"
   ]
  },
  {
   "cell_type": "code",
   "execution_count": null,
   "metadata": {},
   "outputs": [
    {
     "ename": "ValueError",
     "evalue": "Cannot assign value to variable ' dense_2/kernel:0': Shape mismatch.The variable shape (32, 6), and the assigned value shape (32, 3) are incompatible.",
     "output_type": "error",
     "traceback": [
      "\u001b[1;31m---------------------------------------------------------------------------\u001b[0m",
      "\u001b[1;31mValueError\u001b[0m                                Traceback (most recent call last)",
      "\u001b[1;32m~\\AppData\\Local\\Temp\\ipykernel_9564\\2290186469.py\u001b[0m in \u001b[0;36m<module>\u001b[1;34m\u001b[0m\n\u001b[1;32m----> 1\u001b[1;33m \u001b[0mmodel\u001b[0m\u001b[1;33m.\u001b[0m\u001b[0mload_weights\u001b[0m\u001b[1;33m(\u001b[0m\u001b[1;34m'action2.h5'\u001b[0m\u001b[1;33m)\u001b[0m\u001b[1;33m\u001b[0m\u001b[1;33m\u001b[0m\u001b[0m\n\u001b[0m",
      "\u001b[1;32mc:\\Users\\ABHINAV ANAND\\miniconda3\\lib\\site-packages\\keras\\utils\\traceback_utils.py\u001b[0m in \u001b[0;36merror_handler\u001b[1;34m(*args, **kwargs)\u001b[0m\n\u001b[0;32m     65\u001b[0m     \u001b[1;32mexcept\u001b[0m \u001b[0mException\u001b[0m \u001b[1;32mas\u001b[0m \u001b[0me\u001b[0m\u001b[1;33m:\u001b[0m  \u001b[1;31m# pylint: disable=broad-except\u001b[0m\u001b[1;33m\u001b[0m\u001b[1;33m\u001b[0m\u001b[0m\n\u001b[0;32m     66\u001b[0m       \u001b[0mfiltered_tb\u001b[0m \u001b[1;33m=\u001b[0m \u001b[0m_process_traceback_frames\u001b[0m\u001b[1;33m(\u001b[0m\u001b[0me\u001b[0m\u001b[1;33m.\u001b[0m\u001b[0m__traceback__\u001b[0m\u001b[1;33m)\u001b[0m\u001b[1;33m\u001b[0m\u001b[1;33m\u001b[0m\u001b[0m\n\u001b[1;32m---> 67\u001b[1;33m       \u001b[1;32mraise\u001b[0m \u001b[0me\u001b[0m\u001b[1;33m.\u001b[0m\u001b[0mwith_traceback\u001b[0m\u001b[1;33m(\u001b[0m\u001b[0mfiltered_tb\u001b[0m\u001b[1;33m)\u001b[0m \u001b[1;32mfrom\u001b[0m \u001b[1;32mNone\u001b[0m\u001b[1;33m\u001b[0m\u001b[1;33m\u001b[0m\u001b[0m\n\u001b[0m\u001b[0;32m     68\u001b[0m     \u001b[1;32mfinally\u001b[0m\u001b[1;33m:\u001b[0m\u001b[1;33m\u001b[0m\u001b[1;33m\u001b[0m\u001b[0m\n\u001b[0;32m     69\u001b[0m       \u001b[1;32mdel\u001b[0m \u001b[0mfiltered_tb\u001b[0m\u001b[1;33m\u001b[0m\u001b[1;33m\u001b[0m\u001b[0m\n",
      "\u001b[1;32mc:\\Users\\ABHINAV ANAND\\miniconda3\\lib\\site-packages\\keras\\backend.py\u001b[0m in \u001b[0;36mbatch_set_value\u001b[1;34m(tuples)\u001b[0m\n\u001b[0;32m   4017\u001b[0m   \u001b[1;32mif\u001b[0m \u001b[0mtf\u001b[0m\u001b[1;33m.\u001b[0m\u001b[0mcompat\u001b[0m\u001b[1;33m.\u001b[0m\u001b[0mv1\u001b[0m\u001b[1;33m.\u001b[0m\u001b[0mexecuting_eagerly_outside_functions\u001b[0m\u001b[1;33m(\u001b[0m\u001b[1;33m)\u001b[0m\u001b[1;33m:\u001b[0m\u001b[1;33m\u001b[0m\u001b[1;33m\u001b[0m\u001b[0m\n\u001b[0;32m   4018\u001b[0m     \u001b[1;32mfor\u001b[0m \u001b[0mx\u001b[0m\u001b[1;33m,\u001b[0m \u001b[0mvalue\u001b[0m \u001b[1;32min\u001b[0m \u001b[0mtuples\u001b[0m\u001b[1;33m:\u001b[0m\u001b[1;33m\u001b[0m\u001b[1;33m\u001b[0m\u001b[0m\n\u001b[1;32m-> 4019\u001b[1;33m       \u001b[0mx\u001b[0m\u001b[1;33m.\u001b[0m\u001b[0massign\u001b[0m\u001b[1;33m(\u001b[0m\u001b[0mnp\u001b[0m\u001b[1;33m.\u001b[0m\u001b[0masarray\u001b[0m\u001b[1;33m(\u001b[0m\u001b[0mvalue\u001b[0m\u001b[1;33m,\u001b[0m \u001b[0mdtype\u001b[0m\u001b[1;33m=\u001b[0m\u001b[0mdtype_numpy\u001b[0m\u001b[1;33m(\u001b[0m\u001b[0mx\u001b[0m\u001b[1;33m)\u001b[0m\u001b[1;33m)\u001b[0m\u001b[1;33m)\u001b[0m\u001b[1;33m\u001b[0m\u001b[1;33m\u001b[0m\u001b[0m\n\u001b[0m\u001b[0;32m   4020\u001b[0m   \u001b[1;32melse\u001b[0m\u001b[1;33m:\u001b[0m\u001b[1;33m\u001b[0m\u001b[1;33m\u001b[0m\u001b[0m\n\u001b[0;32m   4021\u001b[0m     \u001b[1;32mwith\u001b[0m \u001b[0mget_graph\u001b[0m\u001b[1;33m(\u001b[0m\u001b[1;33m)\u001b[0m\u001b[1;33m.\u001b[0m\u001b[0mas_default\u001b[0m\u001b[1;33m(\u001b[0m\u001b[1;33m)\u001b[0m\u001b[1;33m:\u001b[0m\u001b[1;33m\u001b[0m\u001b[1;33m\u001b[0m\u001b[0m\n",
      "\u001b[1;31mValueError\u001b[0m: Cannot assign value to variable ' dense_2/kernel:0': Shape mismatch.The variable shape (32, 6), and the assigned value shape (32, 3) are incompatible."
     ]
    }
   ],
   "source": [
    "model.load_weights('action2.h5')"
   ]
  },
  {
   "attachments": {},
   "cell_type": "markdown",
   "metadata": {},
   "source": [
    "# 10. Facial Epression Detection"
   ]
  },
  {
   "cell_type": "code",
   "execution_count": null,
   "metadata": {},
   "outputs": [
    {
     "name": "stdout",
     "output_type": "stream",
     "text": [
      "Requirement already satisfied: keras in c:\\users\\abhinav anand\\miniconda3\\lib\\site-packages (2.8.0)\n",
      "Note: you may need to restart the kernel to use updated packages.\n"
     ]
    }
   ],
   "source": [
    "%pip install keras "
   ]
  },
  {
   "cell_type": "code",
   "execution_count": 66,
   "metadata": {},
   "outputs": [],
   "source": [
    "from keras.models import load_model\n",
    "from time import sleep\n",
    "from tensorflow.keras.utils import img_to_array\n",
    "from keras.preprocessing import image\n",
    "import cv2\n",
    "import numpy as np"
   ]
  },
  {
   "cell_type": "code",
   "execution_count": 67,
   "metadata": {},
   "outputs": [],
   "source": [
    "face_classifier = cv2.CascadeClassifier('./haarcascade_frontalface_default.xml')\n",
    "classifier =load_model('./Emotion_Detection.h5')\n",
    "\n",
    "class_labels = ['Angry','Happy','Neutral','Sad','Surprise']\n",
    "\n",
    "cap = cv2.VideoCapture(0)"
   ]
  },
  {
   "cell_type": "code",
   "execution_count": 54,
   "metadata": {},
   "outputs": [
    {
     "name": "stdout",
     "output_type": "stream",
     "text": [
      "Model: \"sequential_1\"\n",
      "_________________________________________________________________\n",
      " Layer (type)                Output Shape              Param #   \n",
      "=================================================================\n",
      " conv2d_1 (Conv2D)           (None, 48, 48, 32)        320       \n",
      "                                                                 \n",
      " activation_1 (Activation)   (None, 48, 48, 32)        0         \n",
      "                                                                 \n",
      " batch_normalization_1 (Batc  (None, 48, 48, 32)       128       \n",
      " hNormalization)                                                 \n",
      "                                                                 \n",
      " conv2d_2 (Conv2D)           (None, 48, 48, 32)        9248      \n",
      "                                                                 \n",
      " activation_2 (Activation)   (None, 48, 48, 32)        0         \n",
      "                                                                 \n",
      " batch_normalization_2 (Batc  (None, 48, 48, 32)       128       \n",
      " hNormalization)                                                 \n",
      "                                                                 \n",
      " max_pooling2d_1 (MaxPooling  (None, 24, 24, 32)       0         \n",
      " 2D)                                                             \n",
      "                                                                 \n",
      " dropout_1 (Dropout)         (None, 24, 24, 32)        0         \n",
      "                                                                 \n",
      " conv2d_3 (Conv2D)           (None, 24, 24, 64)        18496     \n",
      "                                                                 \n",
      " activation_3 (Activation)   (None, 24, 24, 64)        0         \n",
      "                                                                 \n",
      " batch_normalization_3 (Batc  (None, 24, 24, 64)       256       \n",
      " hNormalization)                                                 \n",
      "                                                                 \n",
      " conv2d_4 (Conv2D)           (None, 24, 24, 64)        36928     \n",
      "                                                                 \n",
      " activation_4 (Activation)   (None, 24, 24, 64)        0         \n",
      "                                                                 \n",
      " batch_normalization_4 (Batc  (None, 24, 24, 64)       256       \n",
      " hNormalization)                                                 \n",
      "                                                                 \n",
      " max_pooling2d_2 (MaxPooling  (None, 12, 12, 64)       0         \n",
      " 2D)                                                             \n",
      "                                                                 \n",
      " dropout_2 (Dropout)         (None, 12, 12, 64)        0         \n",
      "                                                                 \n",
      " conv2d_5 (Conv2D)           (None, 12, 12, 128)       73856     \n",
      "                                                                 \n",
      " activation_5 (Activation)   (None, 12, 12, 128)       0         \n",
      "                                                                 \n",
      " batch_normalization_5 (Batc  (None, 12, 12, 128)      512       \n",
      " hNormalization)                                                 \n",
      "                                                                 \n",
      " conv2d_6 (Conv2D)           (None, 12, 12, 128)       147584    \n",
      "                                                                 \n",
      " activation_6 (Activation)   (None, 12, 12, 128)       0         \n",
      "                                                                 \n",
      " batch_normalization_6 (Batc  (None, 12, 12, 128)      512       \n",
      " hNormalization)                                                 \n",
      "                                                                 \n",
      " max_pooling2d_3 (MaxPooling  (None, 6, 6, 128)        0         \n",
      " 2D)                                                             \n",
      "                                                                 \n",
      " dropout_3 (Dropout)         (None, 6, 6, 128)         0         \n",
      "                                                                 \n",
      " conv2d_7 (Conv2D)           (None, 6, 6, 256)         295168    \n",
      "                                                                 \n",
      " activation_7 (Activation)   (None, 6, 6, 256)         0         \n",
      "                                                                 \n",
      " batch_normalization_7 (Batc  (None, 6, 6, 256)        1024      \n",
      " hNormalization)                                                 \n",
      "                                                                 \n",
      " conv2d_8 (Conv2D)           (None, 6, 6, 256)         590080    \n",
      "                                                                 \n",
      " activation_8 (Activation)   (None, 6, 6, 256)         0         \n",
      "                                                                 \n",
      " batch_normalization_8 (Batc  (None, 6, 6, 256)        1024      \n",
      " hNormalization)                                                 \n",
      "                                                                 \n",
      " max_pooling2d_4 (MaxPooling  (None, 3, 3, 256)        0         \n",
      " 2D)                                                             \n",
      "                                                                 \n",
      " dropout_4 (Dropout)         (None, 3, 3, 256)         0         \n",
      "                                                                 \n",
      " flatten_1 (Flatten)         (None, 2304)              0         \n",
      "                                                                 \n",
      " dense_1 (Dense)             (None, 64)                147520    \n",
      "                                                                 \n",
      " activation_9 (Activation)   (None, 64)                0         \n",
      "                                                                 \n",
      " batch_normalization_9 (Batc  (None, 64)               256       \n",
      " hNormalization)                                                 \n",
      "                                                                 \n",
      " dropout_5 (Dropout)         (None, 64)                0         \n",
      "                                                                 \n",
      " dense_2 (Dense)             (None, 64)                4160      \n",
      "                                                                 \n",
      " activation_10 (Activation)  (None, 64)                0         \n",
      "                                                                 \n",
      " batch_normalization_10 (Bat  (None, 64)               256       \n",
      " chNormalization)                                                \n",
      "                                                                 \n",
      " dropout_6 (Dropout)         (None, 64)                0         \n",
      "                                                                 \n",
      " dense_3 (Dense)             (None, 5)                 325       \n",
      "                                                                 \n",
      " activation_11 (Activation)  (None, 5)                 0         \n",
      "                                                                 \n",
      "=================================================================\n",
      "Total params: 1,328,037\n",
      "Trainable params: 1,325,861\n",
      "Non-trainable params: 2,176\n",
      "_________________________________________________________________\n"
     ]
    }
   ],
   "source": [
    "classifier.summary()"
   ]
  },
  {
   "cell_type": "code",
   "execution_count": null,
   "metadata": {},
   "outputs": [],
   "source": []
  },
  {
   "attachments": {},
   "cell_type": "markdown",
   "metadata": {},
   "source": [
    "Loading...\n",
    "Action Detection Refined.ipynb\n",
    "Action Detection Refined.ipynb_\n",
    "1. Import and Install Dependencies\n",
    "[ ]\n",
    "!pip install tensorflow==2.4.1 tensorflow-gpu==2.4.1 opencv-python mediapipe sklearn matplotlib\n",
    "[ ]\n",
    "import cv2\n",
    "import numpy as np\n",
    "import os\n",
    "from matplotlib import pyplot as plt\n",
    "import time\n",
    "import mediapipe as mp\n",
    "2. Keypoints using MP Holistic\n",
    "[ ]\n",
    "mp_holistic = mp.solutions.holistic # Holistic model\n",
    "mp_drawing = mp.solutions.drawing_utils # Drawing utilities\n",
    "[ ]\n",
    "def mediapipe_detection(image, model):\n",
    "    image = cv2.cvtColor(image, cv2.COLOR_BGR2RGB) # COLOR CONVERSION BGR 2 RGB\n",
    "    image.flags.writeable = False                  # Image is no longer writeable\n",
    "    results = model.process(image)                 # Make prediction\n",
    "    image.flags.writeable = True                   # Image is now writeable \n",
    "    image = cv2.cvtColor(image, cv2.COLOR_RGB2BGR) # COLOR COVERSION RGB 2 BGR\n",
    "    return image, results\n",
    "[ ]\n",
    "def draw_landmarks(image, results):\n",
    "    mp_drawing.draw_landmarks(image, results.face_landmarks, mp_holistic.FACE_CONNECTIONS) # Draw face connections\n",
    "    mp_drawing.draw_landmarks(image, results.pose_landmarks, mp_holistic.POSE_CONNECTIONS) # Draw pose connections\n",
    "    mp_drawing.draw_landmarks(image, results.left_hand_landmarks, mp_holistic.HAND_CONNECTIONS) # Draw left hand connections\n",
    "    mp_drawing.draw_landmarks(image, results.right_hand_landmarks, mp_holistic.HAND_CONNECTIONS) # Draw right\n",
    "[ ]\n",
    "def draw_styled_landmarks(image, results):\n",
    "    # Draw face connections\n",
    "    mp_drawing.draw_landmarks(image, results.face_landmarks, mp_holistic.FACE_CONNECTIONS, \n",
    "                             mp_drawing.DrawingSpec(color=(80,110,10), thickness=1, circle_radius=1), \n",
    "                             mp_drawing.DrawingSpec(color=(80,256,121), thickness=1, circle_radius=1)\n",
    "                             ) \n",
    "    # Draw pose connections\n",
    "    mp_drawing.draw_landmarks(image, results.pose_landmarks, mp_holistic.POSE_CONNECTIONS,\n",
    "                             mp_drawing.DrawingSpec(color=(80,22,10), thickness=2, circle_radius=4), \n",
    "                             mp_drawing.DrawingSpec(color=(80,44,121), thickness=2, circle_radius=2)\n",
    "                             ) \n",
    "    # Draw left hand connections\n",
    "    mp_drawing.draw_landmarks(image, results.left_hand_landmarks, mp_holistic.HAND_CONNECTIONS, \n",
    "                             mp_drawing.DrawingSpec(color=(121,22,76), thickness=2, circle_radius=4), \n",
    "                             mp_drawing.DrawingSpec(color=(121,44,250), thickness=2, circle_radius=2)\n",
    "                             ) \n",
    "    # Draw right hand connections  \n",
    "    mp_drawing.draw_landmarks(image, results.right_hand_landmarks, mp_holistic.HAND_CONNECTIONS, \n",
    "                             mp_drawing.DrawingSpec(color=(245,117,66), thickness=2, circle_radius=4), \n",
    "                             mp_drawing.DrawingSpec(color=(245,66,230), thickness=2, circle_radius=2)\n",
    "                             ) \n",
    "[ ]\n",
    "cap = cv2.VideoCapture(0)\n",
    "# Set mediapipe model \n",
    "with mp_holistic.Holistic(min_detection_confidence=0.5, min_tracking_confidence=0.5) as holistic:\n",
    "    while cap.isOpened():\n",
    "\n",
    "        # Read feed\n",
    "        ret, frame = cap.read()\n",
    "\n",
    "        # Make detections\n",
    "        image, results = mediapipe_detection(frame, holistic)\n",
    "        print(results)\n",
    "        \n",
    "        # Draw landmarks\n",
    "        draw_styled_landmarks(image, results)\n",
    "\n",
    "        # Show to screen\n",
    "        cv2.imshow('OpenCV Feed', image)\n",
    "\n",
    "        # Break gracefully\n",
    "        if cv2.waitKey(10) & 0xFF == ord('q'):\n",
    "            break\n",
    "    cap.release()\n",
    "    cv2.destroyAllWindows()\n",
    "[ ]\n",
    "draw_landmarks(frame, results)\n",
    "[ ]\n",
    "plt.imshow(cv2.cvtColor(frame, cv2.COLOR_BGR2RGB))\n",
    "\n",
    "3. Extract Keypoint Values\n",
    "[ ]\n",
    "len(results.left_hand_landmarks.landmark)\n",
    "21\n",
    "[ ]\n",
    "pose = []\n",
    "for res in results.pose_landmarks.landmark:\n",
    "    test = np.array([res.x, res.y, res.z, res.visibility])\n",
    "    pose.append(test)\n",
    "[ ]\n",
    "pose = np.array([[res.x, res.y, res.z, res.visibility] for res in results.pose_landmarks.landmark]).flatten() if results.pose_landmarks else np.zeros(132)\n",
    "face = np.array([[res.x, res.y, res.z] for res in results.face_landmarks.landmark]).flatten() if results.face_landmarks else np.zeros(1404)\n",
    "lh = np.array([[res.x, res.y, res.z] for res in results.left_hand_landmarks.landmark]).flatten() if results.left_hand_landmarks else np.zeros(21*3)\n",
    "rh = np.array([[res.x, res.y, res.z] for res in results.right_hand_landmarks.landmark]).flatten() if results.right_hand_landmarks else np.zeros(21*3)\n",
    "[ ]\n",
    "face = np.array([[res.x, res.y, res.z] for res in results.face_landmarks.landmark]).flatten() \n",
    "    if results.face_landmarks \n",
    "    else np.zeros(1404)\n",
    "\n",
    "array([0., 0., 0., 0., 0., 0., 0., 0., 0., 0., 0., 0., 0., 0., 0., 0., 0.,\n",
    "       0., 0., 0., 0., 0., 0., 0., 0., 0., 0., 0., 0., 0., 0., 0., 0., 0.,\n",
    "       0., 0., 0., 0., 0., 0., 0., 0., 0., 0., 0., 0., 0., 0., 0., 0., 0.,\n",
    "       0., 0., 0., 0., 0., 0., 0., 0., 0., 0., 0., 0.])\n",
    "[ ]\n",
    "def extract_keypoints(results):\n",
    "    pose = np.array([[res.x, res.y, res.z, res.visibility] for res in results.pose_landmarks.landmark]).flatten() if results.pose_landmarks else np.zeros(33*4)\n",
    "    face = np.array([[res.x, res.y, res.z] for res in results.face_landmarks.landmark]).flatten() if results.face_landmarks else np.zeros(468*3)\n",
    "    lh = np.array([[res.x, res.y, res.z] for res in results.left_hand_landmarks.landmark]).flatten() if results.left_hand_landmarks else np.zeros(21*3)\n",
    "    rh = np.array([[res.x, res.y, res.z] for res in results.right_hand_landmarks.landmark]).flatten() if results.right_hand_landmarks else np.zeros(21*3)\n",
    "    return np.concatenate([pose, face, lh, rh])\n",
    "[ ]\n",
    "result_test = extract_keypoints(results)\n",
    "[ ]\n",
    "result_test\n",
    "array([ 0.3835876 ,  0.47759178, -0.77978629, ...,  0.        ,\n",
    "        0.        ,  0.        ])\n",
    "[ ]\n",
    "np.save('0', result_test)\n",
    "[ ]\n",
    "np.load('0.npy')\n",
    "array([ 0.3835876 ,  0.47759178, -0.77978629, ...,  0.        ,\n",
    "        0.        ,  0.        ])\n",
    "4. Setup Folders for Collection\n",
    "[ ]\n",
    "# Path for exported data, numpy arrays\n",
    "DATA_PATH = os.path.join('MP_Data') \n",
    "\n",
    "# Actions that we try to detect\n",
    "actions = np.array(['hello', 'thanks', 'iloveyou'])\n",
    "\n",
    "# Thirty videos worth of data\n",
    "no_sequences = 30\n",
    "\n",
    "# Videos are going to be 30 frames in length\n",
    "sequence_length = 30\n",
    "\n",
    "# Folder start\n",
    "start_folder = 30\n",
    "[ ]\n",
    "for action in actions: \n",
    "    dirmax = np.max(np.array(os.listdir(os.path.join(DATA_PATH, action))).astype(int))\n",
    "    for sequence in range(1,no_sequences+1):\n",
    "        try: \n",
    "            os.makedirs(os.path.join(DATA_PATH, action, str(dirmax+sequence)))\n",
    "        except:\n",
    "            pass\n",
    "5. Collect Keypoint Values for Training and Testing\n",
    "[ ]\n",
    "cap = cv2.VideoCapture(0)\n",
    "# Set mediapipe model \n",
    "with mp_holistic.Holistic(min_detection_confidence=0.5, min_tracking_confidence=0.5) as holistic:\n",
    "    \n",
    "    # NEW LOOP\n",
    "    # Loop through actions\n",
    "    for action in actions:\n",
    "        # Loop through sequences aka videos\n",
    "        for sequence in range(start_folder, start_folder+no_sequences):\n",
    "            # Loop through video length aka sequence length\n",
    "            for frame_num in range(sequence_length):\n",
    "\n",
    "                # Read feed\n",
    "                ret, frame = cap.read()\n",
    "\n",
    "                # Make detections\n",
    "                image, results = mediapipe_detection(frame, holistic)\n",
    "\n",
    "                # Draw landmarks\n",
    "                draw_styled_landmarks(image, results)\n",
    "                \n",
    "                # NEW Apply wait logic\n",
    "                if frame_num == 0: \n",
    "                    cv2.putText(image, 'STARTING COLLECTION', (120,200), \n",
    "                               cv2.FONT_HERSHEY_SIMPLEX, 1, (0,255, 0), 4, cv2.LINE_AA)\n",
    "                    cv2.putText(image, 'Collecting frames for {} Video Number {}'.format(action, sequence), (15,12), \n",
    "                               cv2.FONT_HERSHEY_SIMPLEX, 0.5, (0, 0, 255), 1, cv2.LINE_AA)\n",
    "                    # Show to screen\n",
    "                    cv2.imshow('OpenCV Feed', image)\n",
    "                    cv2.waitKey(500)\n",
    "                else: \n",
    "                    cv2.putText(image, 'Collecting frames for {} Video Number {}'.format(action, sequence), (15,12), \n",
    "                               cv2.FONT_HERSHEY_SIMPLEX, 0.5, (0, 0, 255), 1, cv2.LINE_AA)\n",
    "                    # Show to screen\n",
    "                    cv2.imshow('OpenCV Feed', image)\n",
    "                \n",
    "                # NEW Export keypoints\n",
    "                keypoints = extract_keypoints(results)\n",
    "                npy_path = os.path.join(DATA_PATH, action, str(sequence), str(frame_num))\n",
    "                np.save(npy_path, keypoints)\n",
    "\n",
    "                # Break gracefully\n",
    "                if cv2.waitKey(10) & 0xFF == ord('q'):\n",
    "                    break\n",
    "                    \n",
    "    cap.release()\n",
    "    cv2.destroyAllWindows()\n",
    "[ ]\n",
    "cap.release()\n",
    "cv2.destroyAllWindows()\n",
    "6. Preprocess Data and Create Labels and Features\n",
    "[ ]\n",
    "from sklearn.model_selection import train_test_split\n",
    "from tensorflow.keras.utils import to_categorical\n",
    "[ ]\n",
    "label_map = {label:num for num, label in enumerate(actions)}\n",
    "[ ]\n",
    "label_map\n",
    "{'hello': 0, 'thanks': 1, 'iloveyou': 2}\n",
    "[ ]\n",
    "sequences, labels = [], []\n",
    "for action in actions:\n",
    "    for sequence in np.array(os.listdir(os.path.join(DATA_PATH, action))).astype(int):\n",
    "        window = []\n",
    "        for frame_num in range(sequence_length):\n",
    "            res = np.load(os.path.join(DATA_PATH, action, str(sequence), \"{}.npy\".format(frame_num)))\n",
    "            window.append(res)\n",
    "        sequences.append(window)\n",
    "        labels.append(label_map[action])\n",
    "[ ]\n",
    "np.array(sequences).shape\n",
    "(180, 30, 1662)\n",
    "[ ]\n",
    "np.array(labels).shape\n",
    "(180,)\n",
    "[ ]\n",
    "X = np.array(sequences)\n",
    "[ ]\n",
    "X.shape\n",
    "(180, 30, 1662)\n",
    "[ ]\n",
    "y = to_categorical(labels).astype(int)\n",
    "[ ]\n",
    "X_train, X_test, y_train, y_test = train_test_split(X, y, test_size=0.05)\n",
    "[ ]\n",
    "y_test.shape\n",
    "(9, 3)\n",
    "7. Build and Train LSTM Neural Network\n",
    "[ ]\n",
    "from tensorflow.keras.models import Sequential\n",
    "from tensorflow.keras.layers import LSTM, Dense\n",
    "from tensorflow.keras.callbacks import TensorBoard\n",
    "[ ]\n",
    "log_dir = os.path.join('Logs')\n",
    "tb_callback = TensorBoard(log_dir=log_dir)\n",
    "[ ]\n",
    "model = Sequential()\n",
    "model.add(LSTM(64, return_sequences=True, activation='relu', input_shape=(30,1662)))\n",
    "model.add(LSTM(128, return_sequences=True, activation='relu'))\n",
    "model.add(LSTM(64, return_sequences=False, activation='relu'))\n",
    "model.add(Dense(64, activation='relu'))\n",
    "model.add(Dense(32, activation='relu'))\n",
    "model.add(Dense(actions.shape[0], activation='softmax'))\n",
    "[ ]\n",
    "model.compile(optimizer='Adam', loss='categorical_crossentropy', metrics=['categorical_accuracy'])\n",
    "[ ]\n",
    "model.fit(X_train, y_train, epochs=2000, callbacks=[tb_callback])\n",
    "[ ]\n",
    "model.summary()\n",
    "Model: \"sequential\"\n",
    "_________________________________________________________________\n",
    "Layer (type)                 Output Shape              Param #   \n",
    "=================================================================\n",
    "lstm (LSTM)                  (None, 30, 64)            442112    \n",
    "_________________________________________________________________\n",
    "lstm_1 (LSTM)                (None, 30, 128)           98816     \n",
    "_________________________________________________________________\n",
    "lstm_2 (LSTM)                (None, 64)                49408     \n",
    "_________________________________________________________________\n",
    "dense (Dense)                (None, 64)                4160      \n",
    "_________________________________________________________________\n",
    "dense_1 (Dense)              (None, 32)                2080      \n",
    "_________________________________________________________________\n",
    "dense_2 (Dense)              (None, 3)                 99        \n",
    "=================================================================\n",
    "Total params: 596,675\n",
    "Trainable params: 596,675\n",
    "Non-trainable params: 0\n",
    "_________________________________________________________________\n",
    "8. Make Predictions\n",
    "[ ]\n",
    "res = model.predict(X_test)\n",
    "[ ]\n",
    "actions[np.argmax(res[4])]\n",
    "'hello'\n",
    "[ ]\n",
    "actions[np.argmax(y_test[4])]\n",
    "'hello'\n",
    "9. Save Weights\n",
    "[ ]\n",
    "model.save('action.h5')\n",
    "[ ]\n",
    "del model\n",
    "[ ]\n",
    "model.load_weights('action.h5')\n",
    "# 10. Evaluation using Confusion Matrix and Accuracy\n",
    "10. Evaluation using Confusion Matrix and Accuracy\n",
    "[ ]\n",
    "from sklearn.metrics import multilabel_confusion_matrix, accuracy_score\n",
    "[ ]\n",
    "yhat = model.predict(X_test)\n",
    "[ ]\n",
    "ytrue = np.argmax(y_test, axis=1).tolist()\n",
    "yhat = np.argmax(yhat, axis=1).tolist()\n",
    "[ ]\n",
    "multilabel_confusion_matrix(ytrue, yhat)\n",
    "array([[[5, 0],\n",
    "        [0, 4]],\n",
    "\n",
    "       [[5, 0],\n",
    "        [0, 4]],\n",
    "\n",
    "       [[8, 0],\n",
    "        [0, 1]]], dtype=int64)\n",
    "[ ]\n",
    "accuracy_score(ytrue, yhat)\n",
    "1.0\n",
    "11. Test in Real Time\n",
    "[ ]\n",
    "from scipy import stats\n",
    "[ ]\n",
    "colors = [(245,117,16), (117,245,16), (16,117,245)]\n",
    "def prob_viz(res, actions, input_frame, colors):\n",
    "    output_frame = input_frame.copy()\n",
    "    for num, prob in enumerate(res):\n",
    "        cv2.rectangle(output_frame, (0,60+num*40), (int(prob*100), 90+num*40), colors[num], -1)\n",
    "        cv2.putText(output_frame, actions[num], (0, 85+num*40), cv2.FONT_HERSHEY_SIMPLEX, 1, (255,255,255), 2, cv2.LINE_AA)\n",
    "        \n",
    "    return output_frame\n",
    "[ ]\n",
    "plt.figure(figsize=(18,18))\n",
    "plt.imshow(prob_viz(res, actions, image, colors))\n",
    "[ ]\n",
    "# 1. New detection variables\n",
    "sequence = []\n",
    "sentence = []\n",
    "predictions = []\n",
    "threshold = 0.5\n",
    "\n",
    "cap = cv2.VideoCapture(0)\n",
    "# Set mediapipe model \n",
    "with mp_holistic.Holistic(min_detection_confidence=0.5, min_tracking_confidence=0.5) as holistic:\n",
    "    while cap.isOpened():\n",
    "\n",
    "        # Read feed\n",
    "        ret, frame = cap.read()\n",
    "\n",
    "        # Make detections\n",
    "        image, results = mediapipe_detection(frame, holistic)\n",
    "        print(results)\n",
    "        \n",
    "        # Draw landmarks\n",
    "        draw_styled_landmarks(image, results)\n",
    "        \n",
    "        # 2. Prediction logic\n",
    "        keypoints = extract_keypoints(results)\n",
    "        sequence.append(keypoints)\n",
    "        sequence = sequence[-30:]\n",
    "        \n",
    "        if len(sequence) == 30:\n",
    "            res = model.predict(np.expand_dims(sequence, axis=0))[0]\n",
    "            print(actions[np.argmax(res)])\n",
    "            predictions.append(np.argmax(res))\n",
    "            \n",
    "            \n",
    "        #3. Viz logic\n",
    "            if np.unique(predictions[-10:])[0]==np.argmax(res): \n",
    "                if res[np.argmax(res)] > threshold: \n",
    "                    \n",
    "                    if len(sentence) > 0: \n",
    "                        if actions[np.argmax(res)] != sentence[-1]:\n",
    "                            sentence.append(actions[np.argmax(res)])\n",
    "                    else:\n",
    "                        sentence.append(actions[np.argmax(res)])\n",
    "\n",
    "            if len(sentence) > 5: \n",
    "                sentence = sentence[-5:]\n",
    "\n",
    "            # Viz probabilities\n",
    "            image = prob_viz(res, actions, image, colors)\n",
    "            \n",
    "        cv2.rectangle(image, (0,0), (640, 40), (245, 117, 16), -1)\n",
    "        cv2.putText(image, ' '.join(sentence), (3,30), \n",
    "                       cv2.FONT_HERSHEY_SIMPLEX, 1, (255, 255, 255), 2, cv2.LINE_AA)\n",
    "        \n",
    "        # Show to screen\n",
    "        cv2.imshow('OpenCV Feed', image)\n",
    "\n",
    "        # Break gracefully\n",
    "        if cv2.waitKey(10) & 0xFF == ord('q'):\n",
    "            break\n",
    "    cap.release()\n",
    "    cv2.destroyAllWindows()\n",
    "Colab paid products - Cancel contracts here\n"
   ]
  },
  {
   "attachments": {},
   "cell_type": "markdown",
   "metadata": {},
   "source": [
    "# 10. Evaluation using Confusion Matrix and Accuracy"
   ]
  },
  {
   "cell_type": "code",
   "execution_count": 68,
   "metadata": {},
   "outputs": [],
   "source": [
    "from sklearn.metrics import multilabel_confusion_matrix, accuracy_score"
   ]
  },
  {
   "cell_type": "code",
   "execution_count": 69,
   "metadata": {},
   "outputs": [],
   "source": [
    "yhat = model.predict(X_test)"
   ]
  },
  {
   "cell_type": "code",
   "execution_count": 70,
   "metadata": {},
   "outputs": [
    {
     "data": {
      "text/plain": [
       "array([[7.74662112e-06, 6.31080297e-07, 1.22664674e-11, 7.67460661e-12,\n",
       "        9.99711454e-01, 1.14614602e-08, 3.80991025e-08, 1.20031279e-06,\n",
       "        4.65773420e-09, 1.46003676e-05, 5.75162449e-06, 2.58981306e-14,\n",
       "        5.74322212e-06, 2.52595637e-04, 1.17711387e-07, 3.88172594e-13,\n",
       "        4.38363191e-12, 8.33604075e-10],\n",
       "       [5.57598238e-12, 5.15287479e-14, 1.49771100e-18, 1.10841137e-18,\n",
       "        7.51633297e-06, 2.29370253e-05, 6.56187767e-03, 9.49634469e-08,\n",
       "        7.85879456e-06, 6.31786301e-04, 5.53643740e-14, 1.51746464e-19,\n",
       "        9.92764294e-01, 3.52649818e-06, 6.27960972e-08, 2.51338763e-16,\n",
       "        3.48374198e-19, 1.92042909e-12],\n",
       "       [8.86082034e-07, 9.97810304e-01, 5.27566713e-10, 2.61666974e-05,\n",
       "        8.97123869e-07, 1.05169103e-11, 1.55084653e-10, 9.25161198e-11,\n",
       "        2.16243237e-08, 8.58455525e-15, 2.12511713e-05, 1.11284727e-07,\n",
       "        1.17482009e-15, 3.89028089e-12, 2.12644716e-03, 3.83512883e-12,\n",
       "        1.36732006e-05, 2.86817595e-07],\n",
       "       [2.82658965e-21, 1.00000000e+00, 4.10600544e-34, 4.35712945e-22,\n",
       "        9.45542723e-24, 4.44435204e-38, 9.31800970e-37, 5.90403517e-35,\n",
       "        4.01917729e-26, 0.00000000e+00, 1.35890824e-13, 1.65501552e-31,\n",
       "        0.00000000e+00, 1.78551845e-36, 2.27021041e-10, 0.00000000e+00,\n",
       "        7.91180383e-22, 3.20239110e-24],\n",
       "       [9.76269121e-07, 1.85057786e-06, 6.86371982e-01, 7.58793727e-02,\n",
       "        1.65296260e-05, 5.99937312e-06, 4.79926734e-04, 4.04610789e-09,\n",
       "        4.49057865e-07, 7.80454978e-10, 3.02201535e-08, 2.05732182e-01,\n",
       "        4.70890791e-06, 9.82528945e-07, 8.50865326e-04, 3.04049980e-02,\n",
       "        1.27929088e-04, 1.21159988e-04],\n",
       "       [9.42889631e-01, 3.99037125e-03, 4.41764736e-10, 8.26025257e-08,\n",
       "        2.35086947e-04, 2.56448529e-09, 9.74750558e-11, 4.32518220e-07,\n",
       "        8.48434240e-07, 2.08787352e-08, 5.28814532e-02, 3.65633468e-10,\n",
       "        2.46145748e-09, 1.47699475e-09, 2.08657002e-06, 3.42634449e-12,\n",
       "        1.01927906e-08, 1.75303483e-09],\n",
       "       [1.77362081e-09, 2.02895730e-12, 2.24170030e-19, 1.14487976e-17,\n",
       "        1.19150427e-04, 1.81806605e-08, 3.34336190e-04, 1.25851060e-04,\n",
       "        1.70169573e-03, 9.88837123e-01, 6.92943897e-11, 1.49312343e-19,\n",
       "        8.87896307e-03, 2.82778979e-06, 1.03980213e-09, 1.92230752e-17,\n",
       "        6.63801895e-19, 2.67899028e-12],\n",
       "       [3.40877733e-07, 1.72242797e-12, 1.43460441e-19, 1.25705246e-14,\n",
       "        5.30615864e-07, 7.30414840e-09, 6.01426000e-05, 9.87881571e-02,\n",
       "        8.99224699e-01, 9.33379226e-04, 6.60862327e-07, 1.50749776e-16,\n",
       "        9.92061105e-04, 1.95848102e-10, 1.27996758e-09, 1.06249973e-16,\n",
       "        6.02697815e-18, 5.47411552e-12],\n",
       "       [2.27453334e-15, 1.21718270e-14, 1.16923105e-16, 2.68500000e-21,\n",
       "        8.95063522e-07, 1.18912361e-07, 3.57879815e-09, 2.35243284e-17,\n",
       "        1.01543252e-13, 4.47720661e-09, 8.61567669e-18, 9.74945557e-23,\n",
       "        1.40264297e-06, 9.99997616e-01, 4.58515537e-09, 9.20940915e-19,\n",
       "        1.68122225e-23, 7.19070636e-11],\n",
       "       [1.24691846e-09, 5.16905529e-12, 4.73701016e-15, 2.31198456e-14,\n",
       "        3.39818757e-06, 1.67281576e-03, 1.30697533e-01, 3.24494908e-06,\n",
       "        4.16791881e-04, 3.31766321e-04, 4.10164507e-11, 3.15451820e-15,\n",
       "        8.66863191e-01, 4.23842766e-06, 7.04146350e-06, 8.18454733e-13,\n",
       "        5.11497828e-15, 9.41467682e-10],\n",
       "       [1.30871064e-16, 1.00000000e+00, 2.80455159e-35, 4.78807560e-21,\n",
       "        1.26613257e-20, 6.47955971e-37, 6.61159341e-37, 2.58726062e-30,\n",
       "        1.75759925e-24, 0.00000000e+00, 7.83340146e-12, 1.28129930e-31,\n",
       "        0.00000000e+00, 2.19623244e-37, 1.69784908e-14, 0.00000000e+00,\n",
       "        1.28825555e-21, 1.72823077e-26],\n",
       "       [1.05836238e-13, 4.31904720e-11, 9.99402285e-01, 4.08744563e-05,\n",
       "        1.32803413e-08, 3.18261040e-09, 1.57657666e-07, 1.13883884e-16,\n",
       "        4.33842876e-13, 5.96454026e-16, 7.71257380e-14, 6.58482577e-07,\n",
       "        4.88310281e-10, 1.26355428e-06, 1.36142390e-07, 1.16177216e-05,\n",
       "        1.99640748e-09, 5.42971073e-04],\n",
       "       [2.19393878e-10, 3.86670562e-09, 5.39524490e-06, 6.34523190e-08,\n",
       "        3.09426582e-08, 2.24517714e-02, 1.46543744e-05, 9.33350416e-14,\n",
       "        1.30740296e-09, 3.83654805e-13, 5.12485106e-12, 4.19673097e-06,\n",
       "        1.36640477e-08, 2.22798380e-09, 9.77366090e-01, 4.63480120e-07,\n",
       "        1.10010160e-06, 1.56300652e-04],\n",
       "       [8.44307124e-10, 6.45562381e-10, 2.14911505e-10, 3.36334584e-13,\n",
       "        1.20070828e-04, 4.80316055e-04, 1.38133400e-05, 4.01464452e-11,\n",
       "        3.29165886e-08, 3.63321124e-06, 1.87301095e-11, 6.24729692e-14,\n",
       "        1.04859902e-03, 9.98319924e-01, 1.15982475e-05, 1.05402388e-11,\n",
       "        7.26698873e-15, 2.00697036e-06],\n",
       "       [1.66286762e-09, 9.99997497e-01, 1.24866710e-17, 1.52984028e-10,\n",
       "        4.97320483e-11, 4.63765790e-19, 3.18604040e-18, 2.13396372e-16,\n",
       "        8.09065868e-13, 5.31942351e-23, 7.93735069e-07, 2.36827299e-15,\n",
       "        1.16877573e-24, 4.08456151e-19, 1.69047780e-06, 1.32101774e-21,\n",
       "        1.66835004e-10, 7.36209162e-13],\n",
       "       [1.39312560e-24, 4.46615867e-15, 9.99927521e-01, 7.25195569e-05,\n",
       "        3.96010190e-16, 4.03380251e-17, 1.73317166e-12, 4.24631677e-31,\n",
       "        6.06288250e-22, 2.55872095e-28, 7.08067312e-26, 1.47871793e-09,\n",
       "        1.05518091e-20, 4.77415066e-17, 2.33538244e-10, 2.98919678e-12,\n",
       "        1.03674567e-12, 3.47919193e-10],\n",
       "       [9.05099107e-10, 1.04339977e-08, 6.94432993e-06, 1.02127906e-07,\n",
       "        7.68350645e-08, 5.58943376e-02, 2.04050721e-05, 3.99145831e-13,\n",
       "        9.42031075e-09, 4.75079264e-12, 2.34760562e-11, 7.63593744e-06,\n",
       "        7.09029564e-08, 2.60511221e-08, 9.43372607e-01, 7.33340414e-07,\n",
       "        1.54855138e-06, 6.95626193e-04],\n",
       "       [9.31953126e-11, 1.12717351e-13, 2.85683162e-21, 4.18380716e-20,\n",
       "        2.38812238e-04, 3.86497767e-09, 1.09154309e-04, 1.27010335e-05,\n",
       "        1.73666049e-04, 9.86533403e-01, 2.64899192e-12, 4.41420865e-22,\n",
       "        1.29240798e-02, 8.20966034e-06, 1.64284170e-10, 2.03346417e-19,\n",
       "        3.04022318e-21, 1.57484865e-13],\n",
       "       [8.86202991e-01, 8.45167669e-04, 4.85646079e-10, 6.92829474e-08,\n",
       "        1.16892588e-04, 2.98961833e-09, 1.67421049e-10, 2.26738575e-06,\n",
       "        3.96045562e-06, 5.18242587e-08, 1.12828173e-01, 2.03900591e-10,\n",
       "        5.29176836e-09, 2.66899591e-09, 5.02124351e-07, 2.79903292e-12,\n",
       "        3.70360498e-09, 2.43846898e-09],\n",
       "       [3.87590071e-10, 9.99995351e-01, 1.23361476e-15, 1.07384537e-08,\n",
       "        1.46247348e-09, 9.89574365e-17, 3.49430991e-15, 2.89566789e-16,\n",
       "        4.16787410e-10, 2.44647227e-18, 5.19422585e-08, 5.17091803e-15,\n",
       "        8.32394037e-23, 1.82006501e-15, 4.58480235e-06, 3.34145071e-22,\n",
       "        2.18313718e-11, 8.93939599e-13],\n",
       "       [2.15254857e-14, 4.42778969e-08, 6.74325705e-01, 3.25477988e-01,\n",
       "        7.41117112e-10, 3.84008970e-12, 3.97274853e-08, 4.75493918e-19,\n",
       "        7.02366713e-13, 1.31731118e-17, 1.53828605e-15, 1.88741644e-04,\n",
       "        5.27138927e-14, 2.81258334e-13, 6.08748542e-06, 6.66244802e-08,\n",
       "        8.51660388e-07, 4.38966566e-07],\n",
       "       [9.29017723e-01, 1.77251094e-03, 4.13335893e-11, 1.35775116e-08,\n",
       "        1.33686190e-04, 3.31848188e-10, 2.46909264e-11, 1.03817558e-06,\n",
       "        1.10835026e-06, 1.51087498e-08, 6.90737367e-02, 3.22230055e-11,\n",
       "        6.75532075e-10, 4.11516599e-10, 1.87798193e-07, 1.88959254e-13,\n",
       "        2.24827823e-09, 4.70276096e-10],\n",
       "       [2.08970778e-08, 6.35665671e-08, 1.00084299e-05, 3.57015608e-07,\n",
       "        8.24421591e-07, 2.87133157e-01, 1.29692300e-04, 1.86449814e-11,\n",
       "        3.07111378e-07, 6.35551056e-10, 3.49452273e-10, 1.82677304e-05,\n",
       "        2.18486139e-06, 1.68259476e-06, 7.06072390e-01, 4.19056551e-06,\n",
       "        3.06356810e-06, 6.62371982e-03],\n",
       "       [5.93209868e-15, 6.60569695e-17, 1.21053678e-09, 1.98091612e-07,\n",
       "        2.67337528e-17, 1.79136516e-17, 3.55639259e-12, 1.48383711e-24,\n",
       "        2.32861452e-23, 1.26708160e-35, 4.01632200e-24, 9.99997854e-01,\n",
       "        2.24747810e-22, 4.66727937e-27, 2.78527182e-07, 1.62130925e-06,\n",
       "        1.38129019e-09, 1.21883988e-17],\n",
       "       [1.53198546e-14, 2.84772636e-06, 1.41350436e-04, 9.99842525e-01,\n",
       "        1.74360609e-10, 8.78087208e-15, 1.46803736e-09, 2.46214203e-20,\n",
       "        2.99239773e-13, 1.33221640e-17, 6.77991773e-17, 7.33432762e-06,\n",
       "        3.20853558e-18, 2.06385732e-17, 5.30019361e-06, 6.89711482e-12,\n",
       "        5.55382144e-07, 6.51338317e-10],\n",
       "       [5.82213614e-26, 4.83655251e-30, 1.32895724e-27, 1.29412385e-25,\n",
       "        9.07817617e-26, 9.99999762e-01, 2.41630232e-07, 5.13820242e-30,\n",
       "        3.15602429e-18, 5.34082943e-29, 7.65708498e-33, 2.08687837e-27,\n",
       "        7.49781400e-12, 1.70667318e-22, 1.09636114e-08, 3.30240348e-26,\n",
       "        5.66593922e-25, 6.77271200e-17],\n",
       "       [4.92089786e-28, 5.99820237e-33, 1.44425644e-31, 4.58558691e-30,\n",
       "        2.90355140e-26, 9.99999404e-01, 5.64829350e-07, 1.33527036e-31,\n",
       "        7.00872770e-19, 1.29720060e-28, 3.09266221e-36, 4.40843119e-32,\n",
       "        1.15411021e-10, 6.66484320e-22, 6.22080887e-10, 1.37802590e-29,\n",
       "        8.35668225e-30, 1.18904990e-18],\n",
       "       [3.73365197e-06, 1.03572643e-06, 4.58973602e-07, 4.78582422e-07,\n",
       "        1.34377246e-04, 4.78300989e-01, 3.55952948e-01, 1.20966179e-05,\n",
       "        9.22244275e-04, 4.52657114e-05, 6.62511013e-07, 1.41326836e-07,\n",
       "        1.22744873e-01, 3.29943607e-04, 4.14729826e-02, 1.40729480e-06,\n",
       "        2.88173140e-07, 7.59943578e-05],\n",
       "       [8.54939114e-20, 7.70282504e-09, 4.06474365e-09, 2.98471082e-06,\n",
       "        2.83338576e-17, 5.20823619e-16, 1.85787455e-10, 9.71066589e-28,\n",
       "        5.45869929e-26, 4.17765161e-36, 1.68391121e-28, 7.84844087e-06,\n",
       "        2.26101118e-28, 2.80360180e-26, 6.30959732e-07, 6.00661387e-09,\n",
       "        9.99988556e-01, 3.17575024e-12],\n",
       "       [0.00000000e+00, 1.92599860e-16, 3.99422819e-21, 2.50698773e-09,\n",
       "        9.96288321e-37, 2.48145537e-35, 1.74593267e-23, 0.00000000e+00,\n",
       "        0.00000000e+00, 0.00000000e+00, 0.00000000e+00, 3.43907743e-14,\n",
       "        0.00000000e+00, 0.00000000e+00, 1.54692966e-14, 9.27028624e-30,\n",
       "        1.00000000e+00, 1.36139840e-25],\n",
       "       [2.99734040e-07, 1.81430134e-13, 9.31174038e-22, 1.31617379e-15,\n",
       "        2.19784198e-07, 2.31266846e-11, 8.88284205e-07, 4.54901755e-01,\n",
       "        5.44950008e-01, 1.20111981e-04, 5.22600658e-06, 2.31574134e-18,\n",
       "        2.14984502e-05, 2.05320917e-12, 1.42118131e-11, 4.59460728e-19,\n",
       "        1.21904838e-19, 9.14762176e-14],\n",
       "       [1.86386424e-16, 6.63140766e-12, 9.99971747e-01, 2.66189691e-05,\n",
       "        8.46910563e-12, 5.68366621e-12, 1.23218313e-09, 5.90810392e-20,\n",
       "        1.35940589e-14, 2.28467770e-20, 6.77319732e-16, 7.81924314e-07,\n",
       "        6.72778239e-13, 9.07103420e-11, 1.73974364e-08, 8.77427055e-08,\n",
       "        5.42872802e-10, 7.19163268e-07],\n",
       "       [3.35235755e-17, 6.75145229e-14, 9.99989986e-01, 6.60093428e-06,\n",
       "        8.59531305e-13, 9.58803241e-13, 3.68258785e-10, 1.47139404e-20,\n",
       "        4.38022998e-16, 2.30481604e-22, 5.69774645e-17, 2.03369132e-06,\n",
       "        3.41111064e-13, 5.71169934e-12, 1.25072475e-09, 8.88393743e-07,\n",
       "        3.47632506e-10, 4.32928459e-07],\n",
       "       [1.03454009e-13, 4.22500541e-11, 9.99890685e-01, 5.66564886e-05,\n",
       "        4.96934827e-10, 5.33769196e-10, 4.70531063e-08, 2.68004348e-16,\n",
       "        7.87341763e-13, 1.07689891e-17, 1.92199677e-13, 1.96150213e-05,\n",
       "        1.77350204e-10, 4.97898078e-09, 1.03680897e-07, 1.57099112e-05,\n",
       "        2.50615546e-08, 1.71479733e-05],\n",
       "       [2.93138430e-11, 1.37701409e-06, 4.02787298e-01, 5.96735001e-01,\n",
       "        3.02837378e-07, 1.48531687e-09, 1.33472367e-05, 9.46852180e-16,\n",
       "        9.47479803e-11, 2.63461738e-14, 3.47591117e-14, 4.12956346e-04,\n",
       "        1.92480710e-12, 1.11256560e-09, 3.06352777e-05, 7.80083246e-06,\n",
       "        3.98065231e-06, 7.36245147e-06],\n",
       "       [4.76521507e-08, 3.36550898e-09, 2.18929236e-10, 8.29323332e-10,\n",
       "        4.09911081e-06, 5.96340336e-02, 8.30797851e-01, 4.05114588e-06,\n",
       "        4.12355730e-04, 1.65216534e-05, 8.28433588e-09, 9.29917809e-11,\n",
       "        1.06419630e-01, 6.15185627e-06, 2.70475680e-03, 7.05644432e-09,\n",
       "        4.83263207e-10, 4.71755015e-07],\n",
       "       [6.63874579e-17, 8.75504173e-17, 4.69803383e-16, 6.23643254e-16,\n",
       "        1.13286733e-13, 1.04541825e-04, 9.99491572e-01, 2.67509590e-14,\n",
       "        4.30180752e-10, 7.23932362e-14, 2.09610811e-19, 5.30477783e-16,\n",
       "        8.27569750e-07, 1.48411556e-13, 4.03105165e-04, 1.28871957e-12,\n",
       "        5.80656703e-16, 1.08345112e-11],\n",
       "       [3.97608856e-11, 6.14487849e-10, 1.49591381e-06, 4.00458227e-08,\n",
       "        9.96448701e-09, 1.12878103e-02, 2.36470572e-04, 1.31729480e-13,\n",
       "        2.60774291e-10, 3.89525279e-14, 7.17283871e-13, 6.12716804e-07,\n",
       "        1.22463621e-08, 1.36693240e-10, 9.88464415e-01, 5.51441246e-07,\n",
       "        1.91207604e-07, 8.45426348e-06],\n",
       "       [1.04958594e-24, 1.66346698e-28, 4.04236179e-26, 2.56844532e-24,\n",
       "        1.86862117e-24, 9.99999404e-01, 5.90574928e-07, 1.26084410e-28,\n",
       "        1.20326862e-17, 6.71737787e-28, 3.95173929e-31, 3.97850688e-26,\n",
       "        2.23949210e-11, 1.79337442e-21, 4.09207814e-08, 6.81848817e-25,\n",
       "        1.31244485e-23, 4.18064096e-16],\n",
       "       [4.07623418e-07, 1.62974072e-12, 8.13396617e-20, 1.05126369e-14,\n",
       "        6.26373776e-07, 2.54823784e-09, 2.82571509e-05, 1.49662122e-01,\n",
       "        8.48958492e-01, 8.44826107e-04, 1.25519489e-06, 8.60795578e-17,\n",
       "        5.03952208e-04, 1.14267817e-10, 6.20905882e-10, 4.77984067e-17,\n",
       "        4.13826218e-18, 2.97602958e-12],\n",
       "       [2.37677244e-34, 3.08070886e-16, 5.81563474e-18, 1.91528271e-13,\n",
       "        4.30634090e-34, 3.47802048e-31, 6.90957294e-21, 0.00000000e+00,\n",
       "        0.00000000e+00, 0.00000000e+00, 0.00000000e+00, 2.80203920e-12,\n",
       "        0.00000000e+00, 0.00000000e+00, 1.65505045e-12, 3.27111220e-17,\n",
       "        1.00000000e+00, 5.27566271e-24],\n",
       "       [3.06698829e-12, 1.68957014e-12, 4.32350788e-07, 1.87858085e-09,\n",
       "        1.09796749e-09, 8.85725603e-05, 9.74584680e-08, 2.62252443e-19,\n",
       "        8.53705214e-12, 1.59924151e-15, 3.59333979e-20, 1.76990659e-06,\n",
       "        1.98465051e-12, 2.17579168e-06, 1.45374065e-06, 1.09659459e-05,\n",
       "        4.43131221e-09, 9.99894500e-01],\n",
       "       [2.65651251e-19, 2.46145243e-10, 1.31636178e-11, 5.16714692e-07,\n",
       "        2.46405265e-19, 2.67808450e-18, 1.52628637e-12, 2.07840158e-27,\n",
       "        2.23066830e-26, 0.00000000e+00, 5.17629726e-27, 1.87432634e-05,\n",
       "        4.07008101e-31, 3.64880255e-30, 9.25392314e-08, 8.22839991e-11,\n",
       "        9.99980688e-01, 6.56677674e-14],\n",
       "       [2.75979340e-18, 8.91910781e-11, 9.76661384e-01, 2.33375039e-02,\n",
       "        2.69347066e-12, 5.46765697e-15, 1.04553352e-10, 1.19219697e-23,\n",
       "        7.45036946e-16, 1.15057420e-21, 3.15454922e-18, 9.32901514e-07,\n",
       "        1.16283039e-16, 6.48223811e-15, 6.35610746e-08, 2.43390752e-10,\n",
       "        8.69873618e-10, 6.49114540e-08],\n",
       "       [3.77216487e-11, 7.93130644e-13, 2.31747235e-16, 4.30636480e-17,\n",
       "        3.68740220e-05, 1.65040707e-04, 5.75834792e-03, 4.64765222e-08,\n",
       "        4.16972580e-06, 4.35804104e-04, 3.81309703e-13, 4.89722149e-18,\n",
       "        9.93491232e-01, 1.07923821e-04, 4.42088776e-07, 5.22832823e-15,\n",
       "        6.37508305e-18, 4.25796100e-11],\n",
       "       [4.03987466e-09, 7.28396617e-06, 1.05214603e-07, 3.48196249e-03,\n",
       "        1.09072196e-09, 1.05450804e-12, 2.52292032e-09, 1.13962314e-16,\n",
       "        1.21453589e-14, 1.68726935e-24, 2.04177972e-12, 4.76219356e-01,\n",
       "        7.32401514e-18, 1.23435158e-18, 5.20120263e-01, 5.75259548e-07,\n",
       "        1.70420215e-04, 1.02871145e-09],\n",
       "       [5.69041904e-18, 8.32413192e-18, 8.88950358e-17, 1.72596105e-16,\n",
       "        1.07597172e-14, 1.61769814e-04, 9.99249399e-01, 1.51748409e-15,\n",
       "        4.09668445e-11, 1.58592975e-15, 2.07507562e-20, 4.50128793e-17,\n",
       "        1.76950635e-07, 1.42148866e-14, 5.88711817e-04, 2.26999192e-13,\n",
       "        1.09731788e-16, 3.53087416e-12],\n",
       "       [5.82339732e-10, 8.18833629e-12, 3.32712712e-14, 5.23836108e-14,\n",
       "        2.39139968e-06, 1.48508213e-02, 1.98648915e-01, 1.47963974e-07,\n",
       "        4.38092720e-05, 2.76922328e-05, 6.09698576e-12, 4.92263446e-15,\n",
       "        7.86385357e-01, 8.96355596e-06, 3.18111015e-05, 1.84741740e-12,\n",
       "        1.46682118e-14, 2.82305734e-09],\n",
       "       [4.49110887e-10, 1.98372305e-08, 9.97945011e-01, 1.12391636e-03,\n",
       "        1.62987561e-07, 5.68954874e-08, 1.98326325e-06, 1.28744715e-12,\n",
       "        1.08328713e-09, 1.70973899e-13, 3.85045718e-10, 5.39645727e-04,\n",
       "        4.60361065e-08, 3.48640498e-07, 8.67613107e-06, 2.85826740e-04,\n",
       "        6.47642139e-07, 9.35362405e-05],\n",
       "       [1.26931796e-19, 1.37713430e-09, 4.39943992e-09, 4.91195940e-04,\n",
       "        1.22825460e-17, 1.24297469e-17, 8.54811499e-10, 6.47313374e-27,\n",
       "        2.64231208e-24, 2.42920636e-36, 6.63867570e-29, 3.26029165e-03,\n",
       "        1.42086189e-29, 4.80048391e-29, 6.52598544e-07, 2.96216163e-10,\n",
       "        9.96247828e-01, 8.33601376e-14],\n",
       "       [1.05009482e-32, 4.20652909e-15, 4.33111112e-15, 9.80016524e-13,\n",
       "        1.42989449e-31, 1.33022625e-26, 1.69073533e-19, 0.00000000e+00,\n",
       "        0.00000000e+00, 0.00000000e+00, 0.00000000e+00, 5.53270971e-12,\n",
       "        0.00000000e+00, 0.00000000e+00, 3.92322841e-11, 2.47349344e-16,\n",
       "        1.00000000e+00, 1.80918730e-20],\n",
       "       [6.16809381e-10, 2.05291399e-05, 1.89444007e-04, 9.55022156e-01,\n",
       "        8.31783566e-08, 4.77865858e-10, 8.28670363e-06, 1.32225570e-14,\n",
       "        1.18930412e-11, 4.17189815e-15, 2.96833616e-14, 3.88241522e-02,\n",
       "        5.68833107e-14, 1.33372224e-14, 2.04881583e-03, 7.65129528e-07,\n",
       "        3.88562679e-03, 5.19245553e-08],\n",
       "       [2.03332419e-15, 4.91276102e-15, 7.70785258e-18, 4.37160157e-22,\n",
       "        7.57920043e-06, 1.40035263e-08, 1.45776413e-09, 2.44950520e-16,\n",
       "        1.84826004e-13, 5.87559903e-08, 2.81374253e-17, 4.27202417e-24,\n",
       "        2.61746140e-06, 9.99989629e-01, 3.05568654e-10, 3.56898094e-20,\n",
       "        2.00860691e-24, 2.47932989e-12],\n",
       "       [1.75954114e-07, 1.74168304e-14, 9.59206188e-24, 1.38789022e-16,\n",
       "        9.19005601e-08, 4.20402814e-14, 3.72891540e-09, 9.21306312e-01,\n",
       "        7.86440000e-02, 3.94377230e-06, 4.52890054e-05, 3.45633509e-20,\n",
       "        2.44602603e-07, 1.71166809e-14, 1.00479981e-13, 1.11853863e-21,\n",
       "        2.91952064e-21, 8.30649742e-16]], dtype=float32)"
      ]
     },
     "execution_count": 70,
     "metadata": {},
     "output_type": "execute_result"
    }
   ],
   "source": [
    "yhat"
   ]
  },
  {
   "cell_type": "code",
   "execution_count": 71,
   "metadata": {},
   "outputs": [],
   "source": [
    "from sklearn.metrics import confusion_matrix"
   ]
  },
  {
   "cell_type": "code",
   "execution_count": 72,
   "metadata": {},
   "outputs": [],
   "source": [
    "matrix = confusion_matrix(y_test.argmax(axis=1), yhat.argmax(axis=1))"
   ]
  },
  {
   "cell_type": "code",
   "execution_count": 73,
   "metadata": {},
   "outputs": [
    {
     "data": {
      "text/plain": [
       "array([[3, 0, 0, 0, 0, 0, 0, 0, 0, 0, 0, 0, 0, 0, 0, 0],\n",
       "       [0, 5, 0, 0, 0, 0, 0, 0, 0, 0, 0, 0, 0, 0, 0, 0],\n",
       "       [0, 0, 7, 1, 0, 0, 0, 0, 0, 0, 0, 0, 0, 0, 0, 0],\n",
       "       [0, 0, 2, 2, 0, 0, 0, 0, 0, 0, 0, 0, 0, 0, 1, 0],\n",
       "       [0, 0, 0, 0, 1, 0, 0, 0, 0, 0, 0, 0, 0, 0, 0, 0],\n",
       "       [0, 0, 0, 0, 0, 3, 0, 0, 0, 0, 0, 0, 0, 1, 0, 0],\n",
       "       [0, 0, 0, 0, 0, 1, 3, 0, 0, 0, 0, 1, 0, 0, 0, 0],\n",
       "       [0, 0, 0, 0, 0, 0, 0, 1, 0, 0, 0, 0, 0, 0, 0, 0],\n",
       "       [0, 0, 0, 0, 0, 0, 0, 0, 3, 0, 0, 0, 0, 0, 0, 0],\n",
       "       [0, 0, 0, 0, 0, 0, 0, 0, 0, 2, 0, 0, 0, 0, 0, 0],\n",
       "       [0, 0, 0, 0, 0, 0, 0, 0, 0, 0, 1, 0, 0, 0, 0, 0],\n",
       "       [0, 0, 0, 0, 0, 0, 0, 0, 0, 0, 0, 3, 0, 0, 0, 0],\n",
       "       [0, 0, 0, 0, 0, 0, 0, 0, 0, 0, 0, 0, 3, 0, 0, 0],\n",
       "       [0, 0, 0, 0, 0, 0, 0, 0, 0, 0, 0, 0, 0, 4, 0, 0],\n",
       "       [0, 0, 0, 0, 0, 0, 0, 0, 0, 0, 0, 0, 0, 0, 5, 0],\n",
       "       [0, 0, 0, 0, 0, 0, 0, 0, 0, 0, 0, 0, 0, 0, 0, 1]], dtype=int64)"
      ]
     },
     "execution_count": 73,
     "metadata": {},
     "output_type": "execute_result"
    }
   ],
   "source": [
    "matrix"
   ]
  },
  {
   "cell_type": "code",
   "execution_count": 74,
   "metadata": {},
   "outputs": [
    {
     "data": {
      "text/plain": [
       "0.8703703703703703"
      ]
     },
     "execution_count": 74,
     "metadata": {},
     "output_type": "execute_result"
    }
   ],
   "source": [
    "from sklearn.metrics import accuracy_score\n",
    "accuracy_score(y_test.argmax(axis=1), yhat.argmax(axis=1))\n"
   ]
  },
  {
   "cell_type": "code",
   "execution_count": 135,
   "metadata": {},
   "outputs": [
    {
     "data": {
      "text/plain": [
       "[10,\n",
       " 4,\n",
       " 0,\n",
       " 17,\n",
       " 11,\n",
       " 2,\n",
       " 0,\n",
       " 11,\n",
       " 4,\n",
       " 11,\n",
       " 5,\n",
       " 8,\n",
       " 1,\n",
       " 16,\n",
       " 16,\n",
       " 16,\n",
       " 16,\n",
       " 14,\n",
       " 3,\n",
       " 17,\n",
       " 4,\n",
       " 3,\n",
       " 2,\n",
       " 16,\n",
       " 8,\n",
       " 8,\n",
       " 15]"
      ]
     },
     "execution_count": 135,
     "metadata": {},
     "output_type": "execute_result"
    }
   ],
   "source": [
    "yhat = np.argmax(yhat, axis=1).tolist()\n",
    "\n",
    "yhat"
   ]
  },
  {
   "cell_type": "code",
   "execution_count": null,
   "metadata": {},
   "outputs": [
    {
     "ename": "AxisError",
     "evalue": "axis 1 is out of bounds for array of dimension 1",
     "output_type": "error",
     "traceback": [
      "\u001b[1;31m---------------------------------------------------------------------------\u001b[0m",
      "\u001b[1;31mAxisError\u001b[0m                                 Traceback (most recent call last)",
      "\u001b[1;32m~\\AppData\\Local\\Temp\\ipykernel_10648\\750581457.py\u001b[0m in \u001b[0;36m<module>\u001b[1;34m\u001b[0m\n\u001b[0;32m      1\u001b[0m \u001b[0mytrue\u001b[0m \u001b[1;33m=\u001b[0m \u001b[0mnp\u001b[0m\u001b[1;33m.\u001b[0m\u001b[0margmax\u001b[0m\u001b[1;33m(\u001b[0m\u001b[0my_test\u001b[0m\u001b[1;33m,\u001b[0m \u001b[0maxis\u001b[0m\u001b[1;33m=\u001b[0m\u001b[1;36m1\u001b[0m\u001b[1;33m)\u001b[0m\u001b[1;33m.\u001b[0m\u001b[0mtolist\u001b[0m\u001b[1;33m(\u001b[0m\u001b[1;33m)\u001b[0m\u001b[1;33m\u001b[0m\u001b[1;33m\u001b[0m\u001b[0m\n\u001b[1;32m----> 2\u001b[1;33m \u001b[0myhat\u001b[0m \u001b[1;33m=\u001b[0m \u001b[0mnp\u001b[0m\u001b[1;33m.\u001b[0m\u001b[0margmax\u001b[0m\u001b[1;33m(\u001b[0m\u001b[0myhat\u001b[0m\u001b[1;33m,\u001b[0m \u001b[0maxis\u001b[0m\u001b[1;33m=\u001b[0m\u001b[1;36m1\u001b[0m\u001b[1;33m)\u001b[0m\u001b[1;33m.\u001b[0m\u001b[0mtolist\u001b[0m\u001b[1;33m(\u001b[0m\u001b[1;33m)\u001b[0m\u001b[1;33m\u001b[0m\u001b[1;33m\u001b[0m\u001b[0m\n\u001b[0m",
      "\u001b[1;32m<__array_function__ internals>\u001b[0m in \u001b[0;36margmax\u001b[1;34m(*args, **kwargs)\u001b[0m\n",
      "\u001b[1;32mc:\\Users\\ABHINAV ANAND\\miniconda3\\lib\\site-packages\\numpy\\core\\fromnumeric.py\u001b[0m in \u001b[0;36margmax\u001b[1;34m(a, axis, out)\u001b[0m\n\u001b[0;32m   1193\u001b[0m \u001b[1;33m\u001b[0m\u001b[0m\n\u001b[0;32m   1194\u001b[0m     \"\"\"\n\u001b[1;32m-> 1195\u001b[1;33m     \u001b[1;32mreturn\u001b[0m \u001b[0m_wrapfunc\u001b[0m\u001b[1;33m(\u001b[0m\u001b[0ma\u001b[0m\u001b[1;33m,\u001b[0m \u001b[1;34m'argmax'\u001b[0m\u001b[1;33m,\u001b[0m \u001b[0maxis\u001b[0m\u001b[1;33m=\u001b[0m\u001b[0maxis\u001b[0m\u001b[1;33m,\u001b[0m \u001b[0mout\u001b[0m\u001b[1;33m=\u001b[0m\u001b[0mout\u001b[0m\u001b[1;33m)\u001b[0m\u001b[1;33m\u001b[0m\u001b[1;33m\u001b[0m\u001b[0m\n\u001b[0m\u001b[0;32m   1196\u001b[0m \u001b[1;33m\u001b[0m\u001b[0m\n\u001b[0;32m   1197\u001b[0m \u001b[1;33m\u001b[0m\u001b[0m\n",
      "\u001b[1;32mc:\\Users\\ABHINAV ANAND\\miniconda3\\lib\\site-packages\\numpy\\core\\fromnumeric.py\u001b[0m in \u001b[0;36m_wrapfunc\u001b[1;34m(obj, method, *args, **kwds)\u001b[0m\n\u001b[0;32m     52\u001b[0m     \u001b[0mbound\u001b[0m \u001b[1;33m=\u001b[0m \u001b[0mgetattr\u001b[0m\u001b[1;33m(\u001b[0m\u001b[0mobj\u001b[0m\u001b[1;33m,\u001b[0m \u001b[0mmethod\u001b[0m\u001b[1;33m,\u001b[0m \u001b[1;32mNone\u001b[0m\u001b[1;33m)\u001b[0m\u001b[1;33m\u001b[0m\u001b[1;33m\u001b[0m\u001b[0m\n\u001b[0;32m     53\u001b[0m     \u001b[1;32mif\u001b[0m \u001b[0mbound\u001b[0m \u001b[1;32mis\u001b[0m \u001b[1;32mNone\u001b[0m\u001b[1;33m:\u001b[0m\u001b[1;33m\u001b[0m\u001b[1;33m\u001b[0m\u001b[0m\n\u001b[1;32m---> 54\u001b[1;33m         \u001b[1;32mreturn\u001b[0m \u001b[0m_wrapit\u001b[0m\u001b[1;33m(\u001b[0m\u001b[0mobj\u001b[0m\u001b[1;33m,\u001b[0m \u001b[0mmethod\u001b[0m\u001b[1;33m,\u001b[0m \u001b[1;33m*\u001b[0m\u001b[0margs\u001b[0m\u001b[1;33m,\u001b[0m \u001b[1;33m**\u001b[0m\u001b[0mkwds\u001b[0m\u001b[1;33m)\u001b[0m\u001b[1;33m\u001b[0m\u001b[1;33m\u001b[0m\u001b[0m\n\u001b[0m\u001b[0;32m     55\u001b[0m \u001b[1;33m\u001b[0m\u001b[0m\n\u001b[0;32m     56\u001b[0m     \u001b[1;32mtry\u001b[0m\u001b[1;33m:\u001b[0m\u001b[1;33m\u001b[0m\u001b[1;33m\u001b[0m\u001b[0m\n",
      "\u001b[1;32mc:\\Users\\ABHINAV ANAND\\miniconda3\\lib\\site-packages\\numpy\\core\\fromnumeric.py\u001b[0m in \u001b[0;36m_wrapit\u001b[1;34m(obj, method, *args, **kwds)\u001b[0m\n\u001b[0;32m     41\u001b[0m     \u001b[1;32mexcept\u001b[0m \u001b[0mAttributeError\u001b[0m\u001b[1;33m:\u001b[0m\u001b[1;33m\u001b[0m\u001b[1;33m\u001b[0m\u001b[0m\n\u001b[0;32m     42\u001b[0m         \u001b[0mwrap\u001b[0m \u001b[1;33m=\u001b[0m \u001b[1;32mNone\u001b[0m\u001b[1;33m\u001b[0m\u001b[1;33m\u001b[0m\u001b[0m\n\u001b[1;32m---> 43\u001b[1;33m     \u001b[0mresult\u001b[0m \u001b[1;33m=\u001b[0m \u001b[0mgetattr\u001b[0m\u001b[1;33m(\u001b[0m\u001b[0masarray\u001b[0m\u001b[1;33m(\u001b[0m\u001b[0mobj\u001b[0m\u001b[1;33m)\u001b[0m\u001b[1;33m,\u001b[0m \u001b[0mmethod\u001b[0m\u001b[1;33m)\u001b[0m\u001b[1;33m(\u001b[0m\u001b[1;33m*\u001b[0m\u001b[0margs\u001b[0m\u001b[1;33m,\u001b[0m \u001b[1;33m**\u001b[0m\u001b[0mkwds\u001b[0m\u001b[1;33m)\u001b[0m\u001b[1;33m\u001b[0m\u001b[1;33m\u001b[0m\u001b[0m\n\u001b[0m\u001b[0;32m     44\u001b[0m     \u001b[1;32mif\u001b[0m \u001b[0mwrap\u001b[0m\u001b[1;33m:\u001b[0m\u001b[1;33m\u001b[0m\u001b[1;33m\u001b[0m\u001b[0m\n\u001b[0;32m     45\u001b[0m         \u001b[1;32mif\u001b[0m \u001b[1;32mnot\u001b[0m \u001b[0misinstance\u001b[0m\u001b[1;33m(\u001b[0m\u001b[0mresult\u001b[0m\u001b[1;33m,\u001b[0m \u001b[0mmu\u001b[0m\u001b[1;33m.\u001b[0m\u001b[0mndarray\u001b[0m\u001b[1;33m)\u001b[0m\u001b[1;33m:\u001b[0m\u001b[1;33m\u001b[0m\u001b[1;33m\u001b[0m\u001b[0m\n",
      "\u001b[1;31mAxisError\u001b[0m: axis 1 is out of bounds for array of dimension 1"
     ]
    }
   ],
   "source": [
    "ytrue = np.argmax(y_test, axis=1).tolist()\n",
    "yhat = np.argmax(yhat, axis=1).tolist()"
   ]
  },
  {
   "cell_type": "code",
   "execution_count": null,
   "metadata": {},
   "outputs": [
    {
     "ename": "NameError",
     "evalue": "name 'ytrue' is not defined",
     "output_type": "error",
     "traceback": [
      "\u001b[1;31m---------------------------------------------------------------------------\u001b[0m",
      "\u001b[1;31mNameError\u001b[0m                                 Traceback (most recent call last)",
      "\u001b[1;32m~\\AppData\\Local\\Temp\\ipykernel_20660\\477288958.py\u001b[0m in \u001b[0;36m<module>\u001b[1;34m\u001b[0m\n\u001b[1;32m----> 1\u001b[1;33m \u001b[0mmultilabel_confusion_matrix\u001b[0m\u001b[1;33m(\u001b[0m\u001b[0mytrue\u001b[0m\u001b[1;33m,\u001b[0m \u001b[0myhat\u001b[0m\u001b[1;33m)\u001b[0m\u001b[1;33m\u001b[0m\u001b[1;33m\u001b[0m\u001b[0m\n\u001b[0m",
      "\u001b[1;31mNameError\u001b[0m: name 'ytrue' is not defined"
     ]
    }
   ],
   "source": [
    "multilabel_confusion_matrix(ytrue, yhat)"
   ]
  },
  {
   "cell_type": "code",
   "execution_count": null,
   "metadata": {},
   "outputs": [
    {
     "ename": "AttributeError",
     "evalue": "'list' object has no attribute 'argmax'",
     "output_type": "error",
     "traceback": [
      "\u001b[1;31m---------------------------------------------------------------------------\u001b[0m",
      "\u001b[1;31mAttributeError\u001b[0m                            Traceback (most recent call last)",
      "\u001b[1;32m~\\AppData\\Local\\Temp\\ipykernel_10648\\3729404853.py\u001b[0m in \u001b[0;36m<module>\u001b[1;34m\u001b[0m\n\u001b[1;32m----> 1\u001b[1;33m \u001b[0mmultilabel_confusion_matrix\u001b[0m\u001b[1;33m(\u001b[0m\u001b[0my_test\u001b[0m\u001b[1;33m.\u001b[0m\u001b[0margmax\u001b[0m\u001b[1;33m(\u001b[0m\u001b[0maxis\u001b[0m\u001b[1;33m=\u001b[0m\u001b[1;36m1\u001b[0m\u001b[1;33m)\u001b[0m\u001b[1;33m,\u001b[0m \u001b[0myhat\u001b[0m\u001b[1;33m.\u001b[0m\u001b[0margmax\u001b[0m\u001b[1;33m(\u001b[0m\u001b[0maxis\u001b[0m\u001b[1;33m=\u001b[0m\u001b[1;36m1\u001b[0m\u001b[1;33m)\u001b[0m\u001b[1;33m)\u001b[0m\u001b[1;33m\u001b[0m\u001b[1;33m\u001b[0m\u001b[0m\n\u001b[0m",
      "\u001b[1;31mAttributeError\u001b[0m: 'list' object has no attribute 'argmax'"
     ]
    }
   ],
   "source": []
  },
  {
   "cell_type": "code",
   "execution_count": 58,
   "metadata": {},
   "outputs": [
    {
     "ename": "NameError",
     "evalue": "name 'ytrue' is not defined",
     "output_type": "error",
     "traceback": [
      "\u001b[1;31m---------------------------------------------------------------------------\u001b[0m",
      "\u001b[1;31mNameError\u001b[0m                                 Traceback (most recent call last)",
      "\u001b[1;32m~\\AppData\\Local\\Temp\\ipykernel_14076\\3489675696.py\u001b[0m in \u001b[0;36m<module>\u001b[1;34m\u001b[0m\n\u001b[1;32m----> 1\u001b[1;33m \u001b[0maccuracy_score\u001b[0m\u001b[1;33m(\u001b[0m\u001b[0mytrue\u001b[0m\u001b[1;33m,\u001b[0m \u001b[0myhat\u001b[0m\u001b[1;33m)\u001b[0m\u001b[1;33m\u001b[0m\u001b[1;33m\u001b[0m\u001b[0m\n\u001b[0m",
      "\u001b[1;31mNameError\u001b[0m: name 'ytrue' is not defined"
     ]
    }
   ],
   "source": [
    "accuracy_score(ytrue, yhat)"
   ]
  },
  {
   "attachments": {},
   "cell_type": "markdown",
   "metadata": {},
   "source": [
    "# 11. Test in Real Time"
   ]
  },
  {
   "cell_type": "code",
   "execution_count": 77,
   "metadata": {},
   "outputs": [],
   "source": [
    "colors = [(245,117,16), (117,245,16), (16,117,245), (5, 230, 10), (255, 0, 20), (14, 27, 255), (245,117,16), (117,245,16), (16,117,245), (5, 230, 10), (255, 0, 20), (14, 27, 255), (245,117,16), (117,245,16), (16,117,245), (5, 230, 10), (255, 0, 20), (14, 27, 255)]\n",
    "def prob_viz(res, actions, input_frame, colors):\n",
    "    output_frame = input_frame.copy()\n",
    "    for num, prob in enumerate(res[:9]):\n",
    "        cv2.rectangle(output_frame, (0,60+num*40), (int(prob*100)+0, 90+num*40), colors[num], -1)\n",
    "        cv2.putText(output_frame, actions[num], (0, 85+num*40), cv2.FONT_HERSHEY_SIMPLEX, 1, (255,255,255), 2, cv2.LINE_AA)\n",
    "        \n",
    "    for num, prob in enumerate(res[9:]):\n",
    "        cv2.rectangle(output_frame, (450,60+num*40), (int(prob*100)+450, 90+num*40), colors[num+9], -1)\n",
    "        cv2.putText(output_frame, actions[num+9], (465, 85+num*40), cv2.FONT_HERSHEY_SIMPLEX, 1, (255,255,255), 2, cv2.LINE_AA)\n",
    "    \n",
    "    \n",
    "    \n",
    "    return output_frame"
   ]
  },
  {
   "cell_type": "code",
   "execution_count": 78,
   "metadata": {},
   "outputs": [
    {
     "ename": "IndexError",
     "evalue": "index 6 is out of bounds for axis 0 with size 6",
     "output_type": "error",
     "traceback": [
      "\u001b[1;31m---------------------------------------------------------------------------\u001b[0m",
      "\u001b[1;31mIndexError\u001b[0m                                Traceback (most recent call last)",
      "\u001b[1;32m~\\AppData\\Local\\Temp\\ipykernel_9996\\505573712.py\u001b[0m in \u001b[0;36m<module>\u001b[1;34m\u001b[0m\n\u001b[0;32m      1\u001b[0m \u001b[0mplt\u001b[0m\u001b[1;33m.\u001b[0m\u001b[0mfigure\u001b[0m\u001b[1;33m(\u001b[0m\u001b[0mfigsize\u001b[0m\u001b[1;33m=\u001b[0m\u001b[1;33m(\u001b[0m\u001b[1;36m18\u001b[0m\u001b[1;33m,\u001b[0m\u001b[1;36m18\u001b[0m\u001b[1;33m)\u001b[0m\u001b[1;33m)\u001b[0m\u001b[1;33m\u001b[0m\u001b[1;33m\u001b[0m\u001b[0m\n\u001b[1;32m----> 2\u001b[1;33m \u001b[0mplt\u001b[0m\u001b[1;33m.\u001b[0m\u001b[0mimshow\u001b[0m\u001b[1;33m(\u001b[0m\u001b[0mprob_viz\u001b[0m\u001b[1;33m(\u001b[0m\u001b[0mres\u001b[0m\u001b[1;33m,\u001b[0m \u001b[0mactions\u001b[0m\u001b[1;33m[\u001b[0m\u001b[1;33m:\u001b[0m\u001b[1;36m6\u001b[0m\u001b[1;33m]\u001b[0m\u001b[1;33m,\u001b[0m \u001b[0mimage\u001b[0m\u001b[1;33m,\u001b[0m \u001b[0mcolors\u001b[0m\u001b[1;33m)\u001b[0m\u001b[1;33m)\u001b[0m\u001b[1;33m\u001b[0m\u001b[1;33m\u001b[0m\u001b[0m\n\u001b[0m",
      "\u001b[1;32m~\\AppData\\Local\\Temp\\ipykernel_9996\\346208398.py\u001b[0m in \u001b[0;36mprob_viz\u001b[1;34m(res, actions, input_frame, colors)\u001b[0m\n\u001b[0;32m      4\u001b[0m     \u001b[1;32mfor\u001b[0m \u001b[0mnum\u001b[0m\u001b[1;33m,\u001b[0m \u001b[0mprob\u001b[0m \u001b[1;32min\u001b[0m \u001b[0menumerate\u001b[0m\u001b[1;33m(\u001b[0m\u001b[0mres\u001b[0m\u001b[1;33m[\u001b[0m\u001b[1;33m:\u001b[0m\u001b[1;36m9\u001b[0m\u001b[1;33m]\u001b[0m\u001b[1;33m)\u001b[0m\u001b[1;33m:\u001b[0m\u001b[1;33m\u001b[0m\u001b[1;33m\u001b[0m\u001b[0m\n\u001b[0;32m      5\u001b[0m         \u001b[0mcv2\u001b[0m\u001b[1;33m.\u001b[0m\u001b[0mrectangle\u001b[0m\u001b[1;33m(\u001b[0m\u001b[0moutput_frame\u001b[0m\u001b[1;33m,\u001b[0m \u001b[1;33m(\u001b[0m\u001b[1;36m0\u001b[0m\u001b[1;33m,\u001b[0m\u001b[1;36m60\u001b[0m\u001b[1;33m+\u001b[0m\u001b[0mnum\u001b[0m\u001b[1;33m*\u001b[0m\u001b[1;36m40\u001b[0m\u001b[1;33m)\u001b[0m\u001b[1;33m,\u001b[0m \u001b[1;33m(\u001b[0m\u001b[0mint\u001b[0m\u001b[1;33m(\u001b[0m\u001b[0mprob\u001b[0m\u001b[1;33m*\u001b[0m\u001b[1;36m100\u001b[0m\u001b[1;33m)\u001b[0m\u001b[1;33m+\u001b[0m\u001b[1;36m0\u001b[0m\u001b[1;33m,\u001b[0m \u001b[1;36m90\u001b[0m\u001b[1;33m+\u001b[0m\u001b[0mnum\u001b[0m\u001b[1;33m*\u001b[0m\u001b[1;36m40\u001b[0m\u001b[1;33m)\u001b[0m\u001b[1;33m,\u001b[0m \u001b[0mcolors\u001b[0m\u001b[1;33m[\u001b[0m\u001b[0mnum\u001b[0m\u001b[1;33m]\u001b[0m\u001b[1;33m,\u001b[0m \u001b[1;33m-\u001b[0m\u001b[1;36m1\u001b[0m\u001b[1;33m)\u001b[0m\u001b[1;33m\u001b[0m\u001b[1;33m\u001b[0m\u001b[0m\n\u001b[1;32m----> 6\u001b[1;33m         \u001b[0mcv2\u001b[0m\u001b[1;33m.\u001b[0m\u001b[0mputText\u001b[0m\u001b[1;33m(\u001b[0m\u001b[0moutput_frame\u001b[0m\u001b[1;33m,\u001b[0m \u001b[0mactions\u001b[0m\u001b[1;33m[\u001b[0m\u001b[0mnum\u001b[0m\u001b[1;33m]\u001b[0m\u001b[1;33m,\u001b[0m \u001b[1;33m(\u001b[0m\u001b[1;36m0\u001b[0m\u001b[1;33m,\u001b[0m \u001b[1;36m85\u001b[0m\u001b[1;33m+\u001b[0m\u001b[0mnum\u001b[0m\u001b[1;33m*\u001b[0m\u001b[1;36m40\u001b[0m\u001b[1;33m)\u001b[0m\u001b[1;33m,\u001b[0m \u001b[0mcv2\u001b[0m\u001b[1;33m.\u001b[0m\u001b[0mFONT_HERSHEY_SIMPLEX\u001b[0m\u001b[1;33m,\u001b[0m \u001b[1;36m1\u001b[0m\u001b[1;33m,\u001b[0m \u001b[1;33m(\u001b[0m\u001b[1;36m255\u001b[0m\u001b[1;33m,\u001b[0m\u001b[1;36m255\u001b[0m\u001b[1;33m,\u001b[0m\u001b[1;36m255\u001b[0m\u001b[1;33m)\u001b[0m\u001b[1;33m,\u001b[0m \u001b[1;36m2\u001b[0m\u001b[1;33m,\u001b[0m \u001b[0mcv2\u001b[0m\u001b[1;33m.\u001b[0m\u001b[0mLINE_AA\u001b[0m\u001b[1;33m)\u001b[0m\u001b[1;33m\u001b[0m\u001b[1;33m\u001b[0m\u001b[0m\n\u001b[0m\u001b[0;32m      7\u001b[0m \u001b[1;33m\u001b[0m\u001b[0m\n\u001b[0;32m      8\u001b[0m     \u001b[1;32mfor\u001b[0m \u001b[0mnum\u001b[0m\u001b[1;33m,\u001b[0m \u001b[0mprob\u001b[0m \u001b[1;32min\u001b[0m \u001b[0menumerate\u001b[0m\u001b[1;33m(\u001b[0m\u001b[0mres\u001b[0m\u001b[1;33m[\u001b[0m\u001b[1;36m9\u001b[0m\u001b[1;33m:\u001b[0m\u001b[1;33m]\u001b[0m\u001b[1;33m)\u001b[0m\u001b[1;33m:\u001b[0m\u001b[1;33m\u001b[0m\u001b[1;33m\u001b[0m\u001b[0m\n",
      "\u001b[1;31mIndexError\u001b[0m: index 6 is out of bounds for axis 0 with size 6"
     ]
    },
    {
     "data": {
      "text/plain": [
       "<Figure size 1800x1800 with 0 Axes>"
      ]
     },
     "metadata": {},
     "output_type": "display_data"
    }
   ],
   "source": [
    "plt.figure(figsize=(18,18))\n",
    "plt.imshow(prob_viz(res, actions[:6], image, colors))"
   ]
  },
  {
   "cell_type": "code",
   "execution_count": 79,
   "metadata": {},
   "outputs": [],
   "source": [
    "sequence.reverse()"
   ]
  },
  {
   "cell_type": "code",
   "execution_count": null,
   "metadata": {},
   "outputs": [
    {
     "data": {
      "text/plain": [
       "30"
      ]
     },
     "execution_count": 99,
     "metadata": {},
     "output_type": "execute_result"
    }
   ],
   "source": [
    "len(sequence)"
   ]
  },
  {
   "cell_type": "code",
   "execution_count": null,
   "metadata": {},
   "outputs": [],
   "source": [
    "sequence.append('def')"
   ]
  },
  {
   "cell_type": "code",
   "execution_count": null,
   "metadata": {},
   "outputs": [],
   "source": [
    "sequence.reverse()"
   ]
  },
  {
   "cell_type": "code",
   "execution_count": null,
   "metadata": {},
   "outputs": [
    {
     "data": {
      "text/plain": [
       "[array([ 0.53632933,  0.46983495, -1.09995162, ...,  0.        ,\n",
       "         0.        ,  0.        ]),\n",
       " array([ 0.53626144,  0.47046837, -1.19070518, ...,  0.        ,\n",
       "         0.        ,  0.        ]),\n",
       " array([ 0.5358361 ,  0.47045964, -1.17782485, ...,  0.        ,\n",
       "         0.        ,  0.        ]),\n",
       " array([ 0.53436393,  0.47052526, -1.14277625, ...,  0.        ,\n",
       "         0.        ,  0.        ]),\n",
       " array([ 0.53445518,  0.47056484, -1.00397706, ...,  0.        ,\n",
       "         0.        ,  0.        ]),\n",
       " array([ 0.53437173,  0.46972755, -1.02722251, ...,  0.        ,\n",
       "         0.        ,  0.        ]),\n",
       " array([ 0.53467238,  0.46939853, -0.9932766 , ...,  0.        ,\n",
       "         0.        ,  0.        ]),\n",
       " array([ 0.5349313 ,  0.46981779, -1.13299692, ...,  0.        ,\n",
       "         0.        ,  0.        ]),\n",
       " array([ 0.5349642 ,  0.47096348, -1.12591481, ...,  0.        ,\n",
       "         0.        ,  0.        ]),\n",
       " array([ 0.53494674,  0.47013804, -1.03966522, ...,  0.        ,\n",
       "         0.        ,  0.        ]),\n",
       " array([ 0.53468883,  0.46983919, -1.06723511, ...,  0.        ,\n",
       "         0.        ,  0.        ]),\n",
       " array([ 0.53467941,  0.47137669, -1.08453012, ...,  0.        ,\n",
       "         0.        ,  0.        ]),\n",
       " array([ 0.53463781,  0.4725644 , -1.18014336, ...,  0.        ,\n",
       "         0.        ,  0.        ]),\n",
       " array([ 0.53517973,  0.47269627, -1.18538272, ...,  0.        ,\n",
       "         0.        ,  0.        ]),\n",
       " array([ 0.5351969 ,  0.47316754, -1.08150685, ...,  0.        ,\n",
       "         0.        ,  0.        ]),\n",
       " array([ 0.53494531,  0.47341165, -1.0214597 , ...,  0.        ,\n",
       "         0.        ,  0.        ]),\n",
       " array([ 0.53510541,  0.47184718, -0.9783026 , ...,  0.        ,\n",
       "         0.        ,  0.        ]),\n",
       " array([ 0.53506649,  0.47237235, -1.20342922, ...,  0.        ,\n",
       "         0.        ,  0.        ]),\n",
       " array([ 0.53491956,  0.47219831, -1.16526473, ...,  0.        ,\n",
       "         0.        ,  0.        ]),\n",
       " array([ 0.53476608,  0.47219381, -1.14791989, ...,  0.        ,\n",
       "         0.        ,  0.        ]),\n",
       " array([ 0.53474212,  0.47216555, -1.0166409 , ...,  0.        ,\n",
       "         0.        ,  0.        ]),\n",
       " array([ 0.53474295,  0.47228256, -0.96918458, ...,  0.        ,\n",
       "         0.        ,  0.        ]),\n",
       " array([ 0.53478038,  0.47228751, -0.95421612, ...,  0.        ,\n",
       "         0.        ,  0.        ]),\n",
       " array([ 0.53444165,  0.47282025, -0.93572825, ...,  0.        ,\n",
       "         0.        ,  0.        ]),\n",
       " array([ 0.53338379,  0.47282681, -0.96497715, ...,  0.        ,\n",
       "         0.        ,  0.        ]),\n",
       " array([ 0.53275299,  0.47300693, -1.02835703, ...,  0.        ,\n",
       "         0.        ,  0.        ]),\n",
       " array([ 0.53209943,  0.47304884, -1.04790342, ...,  0.        ,\n",
       "         0.        ,  0.        ]),\n",
       " array([ 0.53228652,  0.47369084, -0.99320889, ...,  0.        ,\n",
       "         0.        ,  0.        ]),\n",
       " array([ 0.54049766,  0.47369912, -0.99576539, ...,  0.        ,\n",
       "         0.        ,  0.        ]),\n",
       " array([ 0.55116677,  0.47316453, -1.1228112 , ...,  0.        ,\n",
       "         0.        ,  0.        ])]"
      ]
     },
     "execution_count": 102,
     "metadata": {},
     "output_type": "execute_result"
    }
   ],
   "source": [
    "sequence[-30:]"
   ]
  },
  {
   "cell_type": "code",
   "execution_count": 2,
   "metadata": {},
   "outputs": [
    {
     "ename": "NameError",
     "evalue": "name 'mp_holistic' is not defined",
     "output_type": "error",
     "traceback": [
      "\u001b[1;31m---------------------------------------------------------------------------\u001b[0m",
      "\u001b[1;31mNameError\u001b[0m                                 Traceback (most recent call last)",
      "\u001b[1;32m~\\AppData\\Local\\Temp\\ipykernel_1604\\1493974839.py\u001b[0m in \u001b[0;36m<module>\u001b[1;34m\u001b[0m\n\u001b[0;32m     12\u001b[0m \u001b[1;31m# cv2.setWindowProperty(window_name, cv2.WND_PROP_FULLSCREEN, cv2.WINDOW_FULLSCREEN)\u001b[0m\u001b[1;33m\u001b[0m\u001b[1;33m\u001b[0m\u001b[1;33m\u001b[0m\u001b[0m\n\u001b[0;32m     13\u001b[0m \u001b[1;31m# Set mediapipe model\u001b[0m\u001b[1;33m\u001b[0m\u001b[1;33m\u001b[0m\u001b[1;33m\u001b[0m\u001b[0m\n\u001b[1;32m---> 14\u001b[1;33m \u001b[1;32mwith\u001b[0m \u001b[0mmp_holistic\u001b[0m\u001b[1;33m.\u001b[0m\u001b[0mHolistic\u001b[0m\u001b[1;33m(\u001b[0m\u001b[0mmin_detection_confidence\u001b[0m\u001b[1;33m=\u001b[0m\u001b[1;36m0.5\u001b[0m\u001b[1;33m,\u001b[0m \u001b[0mmin_tracking_confidence\u001b[0m\u001b[1;33m=\u001b[0m\u001b[1;36m0.5\u001b[0m\u001b[1;33m)\u001b[0m \u001b[1;32mas\u001b[0m \u001b[0mholistic\u001b[0m\u001b[1;33m:\u001b[0m\u001b[1;33m\u001b[0m\u001b[1;33m\u001b[0m\u001b[0m\n\u001b[0m\u001b[0;32m     15\u001b[0m     \u001b[1;32mwhile\u001b[0m \u001b[0mcap\u001b[0m\u001b[1;33m.\u001b[0m\u001b[0misOpened\u001b[0m\u001b[1;33m(\u001b[0m\u001b[1;33m)\u001b[0m\u001b[1;33m:\u001b[0m\u001b[1;33m\u001b[0m\u001b[1;33m\u001b[0m\u001b[0m\n\u001b[0;32m     16\u001b[0m \u001b[1;33m\u001b[0m\u001b[0m\n",
      "\u001b[1;31mNameError\u001b[0m: name 'mp_holistic' is not defined"
     ]
    }
   ],
   "source": [
    "# 1. New detection variables\n",
    "sequence = []\n",
    "sentence = []\n",
    "predictions = []\n",
    "threshold = 0.7\n",
    "window_name = \"OpenCv_Feed\"\n",
    "\n",
    "emot_pred = []\n",
    "\n",
    "cap = cv2.VideoCapture(0)\n",
    "# cv2.namedWindow(window_name, cv2.WND_PROP_FULLSCREEN)\n",
    "# cv2.setWindowProperty(window_name, cv2.WND_PROP_FULLSCREEN, cv2.WINDOW_FULLSCREEN)\n",
    "# Set mediapipe model \n",
    "with mp_holistic.Holistic(min_detection_confidence=0.5, min_tracking_confidence=0.5) as holistic:\n",
    "    while cap.isOpened():\n",
    "\n",
    "        # Read feed\n",
    "        ret, frame = cap.read()\n",
    "        labels = []\n",
    "        gray = cv2.cvtColor(frame,cv2.COLOR_BGR2GRAY)\n",
    "        faces = face_classifier.detectMultiScale(gray,1.3,5)\n",
    "\n",
    "        # Make detections\n",
    "        image, results = mediapipe_detection(frame, holistic)\n",
    "        print(results)\n",
    "        \n",
    "        # Draw landmarks\n",
    "        draw_styled_landmarks(image, results)\n",
    "        \n",
    "        # 2. Prediction logic\n",
    "        keypoints = extract_keypoints(results)\n",
    "        sequence.append(keypoints)\n",
    "        sequence = sequence[-30:]\n",
    "        \n",
    "        if len(sequence) == 30:\n",
    "            res = model.predict(np.expand_dims(sequence, axis=0))[0]\n",
    "            print(actions[np.argmax(res)])\n",
    "            if res[np.argmax(res)] > threshold:\n",
    "                predictions.append(np.argmax(res))\n",
    "            \n",
    "            \n",
    "            #3. Viz logic\n",
    "                if len(np.unique(predictions[-5:]))==1: \n",
    "                    # if res[np.argmax(res)] > threshold: \n",
    "                    word = actions[np.argmax(res)]\n",
    "                    \n",
    "                    if(actions[np.argmax(res)] == \"How are you\"):\n",
    "                        curr_emotion = class_labels[max(emot_pred, key = emot_pred.count)]\n",
    "                        if(curr_emotion != \"Happy\"):\n",
    "                            word = \"How are you\"\n",
    "                        else:\n",
    "                            word = \"I am fine\"\n",
    "                            \n",
    "                        \n",
    "                    if len(sentence) > 0: \n",
    "                        if actions[np.argmax(res)] != sentence[-1]:\n",
    "                            sentence.append(word)\n",
    "                    else:\n",
    "                        sentence.append(word)\n",
    "\n",
    "            if len(sentence) > 5: \n",
    "                sentence = sentence[-5:]\n",
    "\n",
    "            # Viz probabilities\n",
    "            image = prob_viz(res, actions, image, colors)\n",
    "            \n",
    "        cv2.rectangle(image, (0,0), (640, 40), (245, 117, 16), -1)\n",
    "        cv2.putText(image, ' '.join(sentence), (3,30), \n",
    "                       cv2.FONT_HERSHEY_SIMPLEX, 0.5, (255, 255, 255), 1, cv2.LINE_AA)\n",
    "        \n",
    "        for (x,y,w,h) in faces:\n",
    "            cv2.rectangle(image,(x,y),(x+w,y+h),(245,117,16),2)\n",
    "            roi_gray = gray[y:y+h,x:x+w]\n",
    "            roi_gray = cv2.resize(roi_gray,(48,48),interpolation=cv2.INTER_AREA)\n",
    "\n",
    "\n",
    "            if np.sum([roi_gray])!=0:\n",
    "                roi = roi_gray.astype('float')/255.0\n",
    "                roi = img_to_array(roi)\n",
    "                roi = np.expand_dims(roi,axis=0)\n",
    "\n",
    "            # make a prediction on the ROI, then lookup the class\n",
    "\n",
    "                preds = classifier.predict(roi)[0]\n",
    "                print(\"\\nprediction = \",preds)\n",
    "                label=class_labels[preds.argmax()]\n",
    "                print(\"\\nprediction max = \",preds.argmax())\n",
    "                emot_pred.append(preds.argmax())\n",
    "                emot_pred = emot_pred[-5:]\n",
    "                print(\"\\nlabel = \",label)\n",
    "                label_position = (x,y)\n",
    "                cv2.putText(image,label,label_position,cv2.FONT_HERSHEY_SIMPLEX,2,(0,255,255),2, cv2.LINE_AA)\n",
    "            else:\n",
    "                cv2.putText(image,'No Face Found',(20,60),cv2.FONT_HERSHEY_SIMPLEX,2,(0,255,255),2, cv2.LINE_AA)\n",
    "        \n",
    "        # Show to screen\n",
    "        cv2.imshow(window_name, image)\n",
    "        #cv2.imshow('Emotion Detector',frame)\n",
    "\n",
    "        # Break gracefully\n",
    "        if cv2.waitKey(10) & 0xFF == ord('q'):\n",
    "            break\n",
    "    cap.release()\n",
    "    cv2.destroyAllWindows()"
   ]
  },
  {
   "cell_type": "code",
   "execution_count": 5,
   "metadata": {},
   "outputs": [
    {
     "data": {
      "text/plain": [
       "[]"
      ]
     },
     "execution_count": 5,
     "metadata": {},
     "output_type": "execute_result"
    }
   ],
   "source": [
    "predictions[-30:]\n"
   ]
  },
  {
   "cell_type": "code",
   "execution_count": 149,
   "metadata": {},
   "outputs": [
    {
     "data": {
      "text/plain": [
       "2"
      ]
     },
     "execution_count": 149,
     "metadata": {},
     "output_type": "execute_result"
    }
   ],
   "source": [
    "preds.argmax()"
   ]
  },
  {
   "cell_type": "code",
   "execution_count": 6,
   "metadata": {},
   "outputs": [
    {
     "ename": "NameError",
     "evalue": "name 'np' is not defined",
     "output_type": "error",
     "traceback": [
      "\u001b[1;31m---------------------------------------------------------------------------\u001b[0m",
      "\u001b[1;31mNameError\u001b[0m                                 Traceback (most recent call last)",
      "\u001b[1;32m~\\AppData\\Local\\Temp\\ipykernel_20436\\1266561625.py\u001b[0m in \u001b[0;36m<module>\u001b[1;34m\u001b[0m\n\u001b[1;32m----> 1\u001b[1;33m \u001b[0mnp\u001b[0m\u001b[1;33m.\u001b[0m\u001b[0munique\u001b[0m\u001b[1;33m(\u001b[0m\u001b[0mpredictions\u001b[0m\u001b[1;33m[\u001b[0m\u001b[1;33m-\u001b[0m\u001b[1;36m30\u001b[0m\u001b[1;33m:\u001b[0m\u001b[1;33m]\u001b[0m\u001b[1;33m)\u001b[0m\u001b[1;33m\u001b[0m\u001b[1;33m\u001b[0m\u001b[0m\n\u001b[0m",
      "\u001b[1;31mNameError\u001b[0m: name 'np' is not defined"
     ]
    }
   ],
   "source": [
    "np.unique(predictions[-30:])"
   ]
  },
  {
   "cell_type": "code",
   "execution_count": 108,
   "metadata": {},
   "outputs": [
    {
     "data": {
      "text/plain": [
       "array([0.06076467, 0.01210362, 0.8335573 , 0.08573662, 0.00783783],\n",
       "      dtype=float32)"
      ]
     },
     "execution_count": 108,
     "metadata": {},
     "output_type": "execute_result"
    }
   ],
   "source": [
    "preds"
   ]
  },
  {
   "cell_type": "code",
   "execution_count": 101,
   "metadata": {},
   "outputs": [
    {
     "data": {
      "text/plain": [
       "array([0.02492791, 0.01414221, 0.01414816, 0.00668894, 0.01364587,\n",
       "       0.04167069, 0.40985703, 0.01031953, 0.00942779, 0.00662746,\n",
       "       0.00964176, 0.00920979, 0.02515165, 0.03832117, 0.05319456,\n",
       "       0.01464401, 0.00812176, 0.29025975], dtype=float32)"
      ]
     },
     "execution_count": 101,
     "metadata": {},
     "output_type": "execute_result"
    }
   ],
   "source": [
    "res"
   ]
  },
  {
   "cell_type": "code",
   "execution_count": 104,
   "metadata": {},
   "outputs": [
    {
     "data": {
      "text/plain": [
       "0.40985703"
      ]
     },
     "execution_count": 104,
     "metadata": {},
     "output_type": "execute_result"
    }
   ],
   "source": [
    "res[np.argmax(res)]\n"
   ]
  },
  {
   "cell_type": "code",
   "execution_count": 105,
   "metadata": {},
   "outputs": [
    {
     "data": {
      "text/plain": [
       "6"
      ]
     },
     "execution_count": 105,
     "metadata": {},
     "output_type": "execute_result"
    }
   ],
   "source": [
    "np.argmax(res)"
   ]
  },
  {
   "cell_type": "code",
   "execution_count": null,
   "metadata": {},
   "outputs": [
    {
     "data": {
      "text/plain": [
       "1.0"
      ]
     },
     "execution_count": 69,
     "metadata": {},
     "output_type": "execute_result"
    }
   ],
   "source": [
    "res[0] + res[1] + res[2]"
   ]
  },
  {
   "cell_type": "code",
   "execution_count": null,
   "metadata": {},
   "outputs": [
    {
     "data": {
      "text/plain": [
       "array([[316, 185, 223, 223]])"
      ]
     },
     "execution_count": 80,
     "metadata": {},
     "output_type": "execute_result"
    }
   ],
   "source": [
    "faces"
   ]
  },
  {
   "cell_type": "code",
   "execution_count": null,
   "metadata": {},
   "outputs": [
    {
     "data": {
      "text/plain": [
       "array([0.6654026 , 0.00264413, 0.0640521 , 0.26527715, 0.00262402],\n",
       "      dtype=float32)"
      ]
     },
     "execution_count": 81,
     "metadata": {},
     "output_type": "execute_result"
    }
   ],
   "source": [
    "preds"
   ]
  },
  {
   "cell_type": "code",
   "execution_count": 107,
   "metadata": {},
   "outputs": [
    {
     "name": "stdout",
     "output_type": "stream",
     "text": [
      "1.0000000544823706\n"
     ]
    }
   ],
   "source": [
    "sum = 0\n",
    "for i in res:\n",
    "    sum += i\n",
    "    \n",
    "print(sum)"
   ]
  },
  {
   "cell_type": "code",
   "execution_count": 78,
   "metadata": {},
   "outputs": [
    {
     "data": {
      "text/plain": [
       "5"
      ]
     },
     "execution_count": 78,
     "metadata": {},
     "output_type": "execute_result"
    }
   ],
   "source": [
    "len(np.unique(predictions[-30:]))"
   ]
  },
  {
   "cell_type": "code",
   "execution_count": 77,
   "metadata": {},
   "outputs": [
    {
     "data": {
      "text/plain": [
       "[13, 13, 13, 13, 13, 10, 10, 0, 0, 0, 0, 0, 8, 8, 8, 8, 8, 8, 8, 1, 1]"
      ]
     },
     "execution_count": 77,
     "metadata": {},
     "output_type": "execute_result"
    }
   ],
   "source": [
    "predictions[-30:]"
   ]
  },
  {
   "cell_type": "code",
   "execution_count": 74,
   "metadata": {},
   "outputs": [
    {
     "data": {
      "text/plain": [
       "1"
      ]
     },
     "execution_count": 74,
     "metadata": {},
     "output_type": "execute_result"
    }
   ],
   "source": [
    "np.argmax(res)"
   ]
  },
  {
   "cell_type": "code",
   "execution_count": null,
   "metadata": {},
   "outputs": [
    {
     "name": "stdout",
     "output_type": "stream",
     "text": [
      "20194033_RobinRaj_DPA Asst.3.pdf\n",
      "20198049_ABHINAV ANAND.pdf\n",
      "20198049_ABHINAV ANAND_DPA_Assign3.pdf\n",
      "Abhinav - Chrome.lnk\n",
      "Abhinav Anand_MNNIT Allahabad.pdf\n",
      "Abhinav Anand_MNNIT Allahabad_Technology.pdf\n",
      "Adobe After Effects 2020.lnk\n",
      "Adobe Illustrator 2019.lnk\n",
      "Adobe Photoshop 2020.lnk\n",
      "Android Studio.lnk\n",
      "Asphalt 9 Legends.url\n",
      "Discord.lnk\n",
      "Emotion-Detection-master\n",
      "Emotion-Detection-master.zip\n",
      "Emotion_Detection.h5\n",
      "FIFA19.lnk\n",
      "Firefox.lnk\n",
      "HACK36 2022 REPORT.pdf\n",
      "Intel-Driver-and-Support-Assistant-Installer.exe\n",
      "Internet Download Manager.lnk\n",
      "Judges-form.pdf\n",
      "Logs\n",
      "MP_Data\n",
      "Microsoft Teams.lnk\n",
      "MongoDBCompass.lnk\n",
      "Postman.lnk\n",
      "Proxifier.lnk\n",
      "Sign_Language_Detection.ipynb\n",
      "Spotify.lnk\n",
      "Telegram.lnk\n",
      "Untitled.ipynb\n",
      "Visual Studio Code.lnk\n",
      "WebCam-Face-Emotion-Detection-Streamlit-main\n",
      "WebCam-Face-Emotion-Detection-Streamlit-main.zip\n",
      "YouTube Music.lnk\n",
      "YouTube.lnk\n",
      "action.h5\n",
      "action2.h5\n",
      "app.py\n",
      "csv_files\n",
      "desktop.ini\n",
      "fifaconfig.lnk\n",
      "haarcascade_frontalface_default.xml\n",
      "hack36_2023_brochure.pdf\n",
      "major_project_8th-sem\n",
      "major_project_8th-sem.zip\n",
      "png.png\n",
      "streamlit-project\n",
      "~$FINAL450.xlsx\n",
      "~$Logistic and Linear Regression.pptx\n",
      "~$rked USCG General Navigation Questions.docx\n",
      "~WRL2676.tmp\n"
     ]
    }
   ],
   "source": [
    "!ls\n"
   ]
  },
  {
   "cell_type": "code",
   "execution_count": null,
   "metadata": {},
   "outputs": [
    {
     "name": "stderr",
     "output_type": "stream",
     "text": [
      "The system cannot find the path specified.\n"
     ]
    }
   ],
   "source": [
    "!cd Desktop"
   ]
  },
  {
   "cell_type": "code",
   "execution_count": null,
   "metadata": {},
   "outputs": [],
   "source": [
    "!cd streamlit-project/\n"
   ]
  },
  {
   "cell_type": "code",
   "execution_count": null,
   "metadata": {},
   "outputs": [
    {
     "name": "stdout",
     "output_type": "stream",
     "text": [
      "20194033_RobinRaj_DPA Asst.3.pdf\n",
      "20198049_ABHINAV ANAND.pdf\n",
      "20198049_ABHINAV ANAND_DPA_Assign3.pdf\n",
      "Abhinav - Chrome.lnk\n",
      "Abhinav Anand_MNNIT Allahabad.pdf\n",
      "Abhinav Anand_MNNIT Allahabad_Technology.pdf\n",
      "Adobe After Effects 2020.lnk\n",
      "Adobe Illustrator 2019.lnk\n",
      "Adobe Photoshop 2020.lnk\n",
      "Android Studio.lnk\n",
      "Asphalt 9 Legends.url\n",
      "Discord.lnk\n",
      "Emotion-Detection-master\n",
      "Emotion-Detection-master.zip\n",
      "Emotion_Detection.h5\n",
      "FIFA19.lnk\n",
      "Firefox.lnk\n",
      "HACK36 2022 REPORT.pdf\n",
      "Intel-Driver-and-Support-Assistant-Installer.exe\n",
      "Internet Download Manager.lnk\n",
      "Judges-form.pdf\n",
      "Logs\n",
      "MP_Data\n",
      "Microsoft Teams.lnk\n",
      "MongoDBCompass.lnk\n",
      "Postman.lnk\n",
      "Proxifier.lnk\n",
      "Sign_Language_Detection.ipynb\n",
      "Spotify.lnk\n",
      "Telegram.lnk\n",
      "Untitled.ipynb\n",
      "Visual Studio Code.lnk\n",
      "WebCam-Face-Emotion-Detection-Streamlit-main\n",
      "WebCam-Face-Emotion-Detection-Streamlit-main.zip\n",
      "YouTube Music.lnk\n",
      "YouTube.lnk\n",
      "action.h5\n",
      "action2.h5\n",
      "app.py\n",
      "csv_files\n",
      "desktop.ini\n",
      "fifaconfig.lnk\n",
      "haarcascade_frontalface_default.xml\n",
      "hack36_2023_brochure.pdf\n",
      "major_project_8th-sem\n",
      "major_project_8th-sem.zip\n",
      "png.png\n",
      "streamlit-project\n",
      "~$FINAL450.xlsx\n",
      "~$Logistic and Linear Regression.pptx\n",
      "~$rked USCG General Navigation Questions.docx\n",
      "~WRL2676.tmp\n"
     ]
    }
   ],
   "source": [
    "!ls\n"
   ]
  },
  {
   "cell_type": "code",
   "execution_count": null,
   "metadata": {},
   "outputs": [],
   "source": []
  }
 ],
 "metadata": {
  "accelerator": "GPU",
  "colab": {
   "provenance": []
  },
  "gpuClass": "standard",
  "kernelspec": {
   "display_name": "Python 3 (ipykernel)",
   "language": "python",
   "name": "python3"
  },
  "language_info": {
   "codemirror_mode": {
    "name": "ipython",
    "version": 3
   },
   "file_extension": ".py",
   "mimetype": "text/x-python",
   "name": "python",
   "nbconvert_exporter": "python",
   "pygments_lexer": "ipython3",
   "version": "3.7.16"
  }
 },
 "nbformat": 4,
 "nbformat_minor": 1
}
